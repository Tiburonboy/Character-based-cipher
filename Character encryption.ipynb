{
 "cells": [
  {
   "cell_type": "markdown",
   "metadata": {},
   "source": [
    "# Character encryption\n",
    "Last update: 6 Jan 2020  \n",
    "\n",
    "Notes:   \n",
    "see https://docs.google.com/document/d/1CIDE1twSB2hjM_j_PUvHKPQ5jwaRcgzDzhN1Yb4YVnE/edit  for new edits. \n",
    "For now references at the end of each section.   \n",
    "section hyper links seem to work when exported to HTML, but references don't    \n",
    "\n",
    "## Abstract\n",
    "This paper documents an educational coding project that implements a cipher based on a two round Feistel structure and operates on characters instead of bits.  The character set is the English alphabet consisting of 26 letters, A to Z; all other characters and spaces are removed before processing.      \n",
    "\n",
    "## 1) Introduction\n",
    "The purpose of the paper is to document a coding project that implements a character based encryption scheme.  This is an educational project for exploring aspects of the Feistel structure.  The code developed here is not intended to implement a secure encryption scheme, only to explore and document some interesting aspects of encryption.  The code will take as plain text input, blocks of text consisting of characters A to Z, and output ciphertext blocks, also consisting of characters A to Z.  The code will strip any non-alpha characters from the input text before encipherment.  \n",
    "\n",
    "Encryption is the process of encoding information so that converts the original of the information, known as plaintext into into an alternative form known as ciphertext.  The ciphertext is what is transmitted to prevent third parties or the public from reading private messages <span id=\"a1\">[[1]](#f1)</span>.  \n",
    "\n",
    "In December 2020, the Zodiac cipher, Z340, was solved after more than 51 years and a very interesting YouTube video on the solution was published <span id=\"a2\">[[2]](#f2)</span>.  The solution to solving the cypher was a combination of brute force and hill climbing.  The cypher was meant to be eventually decoded, otherwise why would the Zodiac send it?  But the cypher turned out to be very difficult and the solution involved lots of computer time employing random trials.  As bits of the message were uncovered, these were used as clues to help solve the remaining message.  \n",
    "\n",
    "Zodiac’s first cypher was solved on August 8, 1969, by Donald and Betty Harden of Salinas, California. David Oranchak has a very interesting video on the history and solution of this cipher <span id=\"a3\">[[3]](#f3)</span>. The first cipher, given the name, Z408, since there were 408 characters in the message.  The cipher was divided into three parts and each part wassent to a different news paper.  Each part of the cipher had 17 columns and 8 rows of symbols for a total of 408 symbols.  54 different symboles were used in the message.  The key for the solved cipher had some letters encoded by different symbols, which is called subsitution with suppression of frequencies.  Since individual letter frequencies were supressed, Donald and Betty focused on double symbols in the cipher and they look for a four letter pattern that would fit the word KILL.  Eventyually they solved the Z340 cipher and sent their solution into the news paper, who passed the solution onto the police.\n",
    "  \n",
    "<img src='Zodiac Z408 key.png' width=\"200\"/>   \n",
    "Figure 1: The solution key to the Z408 cipher. (think about redrawing the key)  \n",
    "\n",
    "The second cypher, Z340, was 340 symbols long with 63 different symbols.  Both the Z408 and the Z340 ciphers were extinsivally studied with the thought that some clues from the Z408 solution could be used to solve the Z340 cipher.  Eventually, by trial and error, it was suspected that the symbols in the Z340 cipher might be interleaved somehow. David Oranchak's video on the Z340 describes the solution to the cipher.     \n",
    "  \n",
    "<img src='Zodiac Z340 key.png' width=\"600\"/>  \n",
    "Figure 2: The solution key to the Z340 cipher. (think about redrawing the key)  \n",
    "\n",
    "The Zodiac wanted the Z340 to be harder to decode, but did he suspect that it would remain unread for so long?  \n",
    "\n",
    "There are other well know examples of ciphers that operate on characters.  The Playfair[] and the German Enigma[] are examples of character based cyphers.  These ciphers were used prior to the modern computer era.  \n",
    "\n",
    "The Playfair cipher is encrypts pairs of letters and is harder to break than simple substitution ciphers.  This is because frequency analysis does not work with this cipher.  Breaking the cipher by hand required a lot of work, however, by using modern computers and using a shotgun hill climbing method, the cipher can be broken quickely [].  \n",
    "\n",
    "Wikipedia contributors. (2020, December 17). Playfair cipher. In Wikipedia, The Free Encyclopedia. Retrieved 01:46, January 13, 2021, from https://en.wikipedia.org/w/index.php?title=Playfair_cipher&oldid=994771341\n",
    "\n",
    "\n",
    "The German Enigma is a cipher that uses a typewriter based machine to encode and decode the messages [].  Each press of the keyboard causes the machine state to advance and implement a polyalphabetic substitution cipher.  Polish, British and eventually Americam criptogeraphers spent concerderable effort during World War II to break the German Enigma.   \n",
    "Wikipedia contributors. (2021, January 7). Enigma machine. In Wikipedia, The Free Encyclopedia. Retrieved 14:51, January 12, 2021, from https://en.wikipedia.org/w/index.php?title=Enigma_machine&oldid=998787365 \n",
    "\n",
    "Watching David Oranchak's video on the solution of the Z340 got me interested in looking at cyphers.  In this programming project, we are not going to invent a new cipher.  We are going to use the well known Feistel network and use some ideas from the Data Encryption Standard [] [] that operates on characters as opposed to binary data.  \n",
    "\n",
    "Wikipedia contributors. (2021, January 8). Feistel cipher. In Wikipedia, The Free Encyclopedia. Retrieved 14:52, January 12, 2021, from https://en.wikipedia.org/w/index.php?title=Feistel_cipher&oldid=999120196\n",
    "\n",
    "Wikipedia contributors. (2020, December 25). Data Encryption Standard. In Wikipedia, The Free Encyclopedia. Retrieved 15:02, January 13, 2021, from https://en.wikipedia.org/w/index.php?title=Data_Encryption_Standard&oldid=996197167\n",
    "\n",
    "The goal of this programming project is to design a character based cipher that is non-trival to break. A character based cypher based on two rounds of a Feistel network could be such a cipher.  It would not be secure by present day standards, therefore could present a strong puzzle to someone who likes such challenges. However, I think a single encrypted message would be almost impossible to break, if both the key and algorthium were secret.  \n",
    "\n",
    "The Feistel network is a data flow map which can be used to construct a block cipher[].  The cipher structer is named after the German-born physicist and cryptographer Horst Feistel who did pioneering research while working for IBM and several well known ciphers use the Feistel network.  In most implementations binary data is processed as bits, but in this project, characters will be processed as the unit8 type data.  The figure below shows the Feistel network.\n",
    "\n",
    "Wikipedia contributors. (2021, January 5). Block cipher. In Wikipedia, The Free Encyclopedia. Retrieved 15:04, January 13, 2021, from https://en.wikipedia.org/w/index.php?title=Block_cipher&oldid=998461268\n",
    "\n",
    "<img src='File_Feistel_cipher_diagram.png' width=\"300\"/>  \n",
    "Figure 3: Feistel cipher diagram (redraw to include only one round)   \n",
    "\n",
    "The input data is divided into blocks, which are divided into half blocks, Left and Right.  The Right half block is passed through the function F(), called the Feistel function, and then XOR'ed with the Left half block.  As shown Figure, there is an additional application of the XOR and F().  The Left and Right out puts when combined is the encrypted data block.  The Feistel network is invertible, even if the round function is not itself invertible.\n",
    "\n",
    "\n",
    "**Contents**  \n",
    "2. [Preliminaries](#section2)\n",
    "3. [Design](#section3)\n",
    "4. [Test message](#section4)\n",
    "5. [Cryptanalysis](#section5)\n",
    "6. [Conclusion](#section6)\n",
    "7. [References](#section7)\n",
    "\n",
    "The following python libraries are used in this project.   \n",
    "- Collections: a python module that supplies different types of containers for access and iteration\n",
    "- Counter: used to keep the count of the elements in an iterable in the form of an unordered dictionary\n",
    "- itertools: a python module that provids functions that work on iterators\n",
    "- NumPy: a python library used for working with arrays\n",
    "- Matplotlib: a library for creating graphs and plots  \n",
    "\n",
    "\n",
    "1. <span id=\"f1\"></span>Wikipedia contributors. (2021, January 11). Encryption. In Wikipedia, The Free Encyclopedia. Retrieved 17:22, January 12, 2021, from https://en.wikipedia.org/w/index.php?title=Encryption&oldid=999691356 [$\\hookleftarrow$](#a1)   \n",
    "2. <span id=\"f2\"></span>David Oranchak, \"Let's Crack Zodiac - Episode 5 - The 340 Is Solved!\", Dec 11, 2020, https://www.youtube.com/watch?v=-1oQLPRE21o&t=283s [$\\hookleftarrow$](#a2) \n",
    "3. <span id=\"f3\"></span>David Oranchak, \"Let's Crack Zodiac - Episode 3 - The 408\", Sep 1, 2020, https://www.youtube.com/watch?v=57o8g3d6lSw [$\\hookleftarrow$](#a3)"
   ]
  },
  {
   "cell_type": "raw",
   "metadata": {},
   "source": [
    "Here is a paragraph with an footnote <span id=\"a1\">[[1]](#f1)</span>.\n",
    "\n",
    "Footnotes\n",
    "=========\n",
    "\n",
    "1. <span id=\"f1\"></span> This is a footnote. [$\\hookleftarrow$](#a1)"
   ]
  },
  {
   "cell_type": "code",
   "execution_count": 171,
   "metadata": {
    "collapsed": false
   },
   "outputs": [],
   "source": [
    "from collections import Counter\n",
    "import itertools\n",
    "import numpy as np\n",
    "import matplotlib.pyplot as plt"
   ]
  },
  {
   "cell_type": "markdown",
   "metadata": {},
   "source": [
    "## 2) Preliminaries <a id=\"section2\"></a>\n",
    "This section of the paper will cover some preliminary topics that are required for the operation of the cipher.  Since this paper also contain python code, there are variables, functions and data that need to be declared first.  These are describe in greater detail in the various subsections.  \n",
    "\n",
    "The block size in this implementation is 16 characters long and the total character count is padded to bring the total length of the message to a multiple of the block size.  \n",
    "\n",
    "- 2.a) [Test message and statics](#section2a)\n",
    "- 2.b) [Character encoding for processing](#section2b)  \n",
    "- 2.c) [Key generation](#section2c)\n",
    "- 2.d) [Character XOR](#section2d)\n",
    "- 2.e) [S-box](#section2e)\n",
    "- 2.f) [Mixer matrix](#section2f)\n",
    "- 2.g) [P-table](#section2g)\n",
    "- 2.h) [Feistel function](#section2h)\n"
   ]
  },
  {
   "cell_type": "markdown",
   "metadata": {},
   "source": [
    "### 2.a) Test message and statics <a id=\"section2a\"></a>\n",
    "The test message used for this project is the English translation of the first chapter from Julius Caesar's account of the Gallic Wars <span id=\"a4\">[[4]](#f4)</span> <span id=\"a5\">[[5]](#f5)</span>.  In Latin, it begins with \"Gallia est omnis divisa in partes tres\", meaning \"All Gaul is divided into three parts\".  After the text file is read into memory, all the non-letter characters (numbers, spaces and puncuation) are removed and all letters are converted to upper case.  Then the message is padded to make the length equal to an even multiple of the block length. The test message then consists of list of upper case letters without space between the words.\n",
    "\n",
    "All the spaces and puctutation are removed to reduce the message to just the essential elements.  Upper case was used to make the message look more crypto like.    \n",
    "\n",
    "Chapter 1 of Caesar's Gallic Wars was chosed as the test message as a nod to the cipher named after him.  A simple subsition cipher is sometimes called a Caesar cipher.  Each letter in the plaintext is replaced by a letter some fixed number of positions down the alphabet <span id=\"a6\">[[6]](#f6)</span>.\n",
    "\n",
    "The following code reads in the test message and does the conversion and padding as described.\n",
    "\n",
    " \n",
    "4. <span id=\"f4\"></span> Wikipedia contributors. (2021, January 8). Gallic Wars. In Wikipedia, The Free Encyclopedia. Retrieved 02:10, January 13, 2021, from https://en.wikipedia.org/w/index.php?title=Gallic_Wars&oldid=999164488 [$\\hookleftarrow$](#a4)\n",
    "5. <span id=\"f5\"></span> Wikipedia contributors. (2021, January 8). Commentarii de Bello Gallico. In Wikipedia, The Free Encyclopedia. Retrieved 02:11, January 13, 2021, from https://en.wikipedia.org/w/index.php?title=Commentarii_de_Bello_Gallico&oldid=999035314 [$\\hookleftarrow$](#a5)\n",
    "6. <span id=\"f6\"></span> Wikipedia contributors. (2020, December 18). Caesar cipher. In Wikipedia, The Free Encyclopedia. Retrieved 02:11, January 13, 2021, from https://en.wikipedia.org/w/index.php?title=Caesar_cipher&oldid=994975077 [$\\hookleftarrow$](#a6)"
   ]
  },
  {
   "cell_type": "code",
   "execution_count": 172,
   "metadata": {},
   "outputs": [],
   "source": [
    "# open the test message\n",
    "message = open('Commentarii_de_Bello_Gallico.txt', 'r').read()"
   ]
  },
  {
   "cell_type": "code",
   "execution_count": 173,
   "metadata": {},
   "outputs": [
    {
     "name": "stdout",
     "output_type": "stream",
     "text": [
      "All Gaul is divided into three parts, one of which the Belgae inhabit, the \n",
      "Aquitani another, those who in their own language are called Celts, in our \n",
      "Gauls, the third. All these differ from each other in language, customs and\n",
      " laws. The river Garonne separates the Gauls from the Aquitani; the Marne a\n",
      "nd the Seine separate them from the Belgae. Of all these, the Belgae are th\n",
      "e bravest, because they are furthest from the civilization and refinement o\n",
      "f our Province, and merchants least frequently resort to them, and import t\n",
      "hose things which tend to effeminate the mind; and they are the nearest to \n",
      "the Germans, who dwell beyond the Rhine, with whom they are continually wag\n",
      "ing war; for which reason the Helvetii also surpass the rest of the Gauls i\n",
      "n valor, as they contend with the Germans in almost daily battles, when the\n",
      "y either repel them from their own territories, or themselves wage war on t\n",
      "heir frontiers. One part of these, which it has been said that the Gauls oc\n",
      "cupy, takes its beginning at the river Rhone; it is bounded by the river Ga\n",
      "ronne, the ocean, and the territories of the Belgae; it borders, too, on th\n",
      "e side of the Sequani and the Helvetii, upon the river Rhine, and stretches\n",
      " toward the north. The Belgae rises from the extreme frontier of Gaul, exte\n",
      "nd to the lower part of the river Rhine; and look toward the north and the \n",
      "rising sun. Aquitania extends from the river Garonne to the Pyrenaean mount\n",
      "ains and to that part of the ocean which is near Spain: it looks between th\n",
      "e setting of the sun, and the north star.\n"
     ]
    }
   ],
   "source": [
    "# print the test message\n",
    "string = message\n",
    "length = 75\n",
    "list_of_strings = []\n",
    "for i in range(0, len(string), length):\n",
    "    list_of_strings.append(string[i:length+i])\n",
    "\n",
    "for i in list_of_strings:\n",
    "    print(i)"
   ]
  },
  {
   "cell_type": "code",
   "execution_count": 174,
   "metadata": {},
   "outputs": [],
   "source": [
    "# remove non-letter characters and convert to upper case\n",
    "PT = ''.join(e for e in message if e.isalpha()).upper()"
   ]
  },
  {
   "cell_type": "code",
   "execution_count": 175,
   "metadata": {},
   "outputs": [
    {
     "name": "stdout",
     "output_type": "stream",
     "text": [
      "number of characters to padd the message:  2\n"
     ]
    }
   ],
   "source": [
    "# pad the message size to get to even multiple of the block size\n",
    "block_size = 16  # must be an even number\n",
    "pad_size = block_size - (len(PT) % block_size)\n",
    "if pad_size == block_size:\n",
    "    pad_size = 0\n",
    "print('number of characters to padd the message: ',pad_size)"
   ]
  },
  {
   "cell_type": "code",
   "execution_count": 176,
   "metadata": {},
   "outputs": [
    {
     "name": "stdout",
     "output_type": "stream",
     "text": [
      "new message length with padding:  1232\n",
      "number of message blocks:  77.0\n"
     ]
    }
   ],
   "source": [
    "padding = 'ABCDEFGHIJKLMNOPQRSTUVWXYZ'  # this could also be from a set of random characters unique to each message\n",
    "PT = PT + padding[0:pad_size]  # append necessary number of characters to end of the message\n",
    "print('new message length with padding: ',len(PT))\n",
    "print('number of message blocks: ',len(PT)/block_size)"
   ]
  },
  {
   "cell_type": "code",
   "execution_count": 177,
   "metadata": {},
   "outputs": [
    {
     "name": "stdout",
     "output_type": "stream",
     "text": [
      "ALLGAULISDIVIDEDINTOTHREEPARTSONEOFWHICHTHEBELGAEINHABITTHEAQUITANIANOTHERT\n",
      "HOSEWHOINTHEIROWNLANGUAGEARECALLEDCELTSINOURGAULSTHETHIRDALLTHESEDIFFERFROM\n",
      "EACHOTHERINLANGUAGECUSTOMSANDLAWSTHERIVERGARONNESEPARATESTHEGAULSFROMTHEAQU\n",
      "ITANITHEMARNEANDTHESEINESEPARATETHEMFROMTHEBELGAEOFALLTHESETHEBELGAEARETHEB\n",
      "RAVESTBECAUSETHEYAREFURTHESTFROMTHECIVILIZATIONANDREFINEMENTOFOURPROVINCEAN\n",
      "DMERCHANTSLEASTFREQUENTLYRESORTTOTHEMANDIMPORTTHOSETHINGSWHICHTENDTOEFFEMIN\n",
      "ATETHEMINDANDTHEYARETHENEARESTTOTHEGERMANSWHODWELLBEYONDTHERHINEWITHWHOMTHE\n",
      "YARECONTINUALLYWAGINGWARFORWHICHREASONTHEHELVETIIALSOSURPASSTHERESTOFTHEGAU\n",
      "LSINVALORASTHEYCONTENDWITHTHEGERMANSINALMOSTDAILYBATTLESWHENTHEYEITHERREPEL\n",
      "THEMFROMTHEIROWNTERRITORIESORTHEMSELVESWAGEWARONTHEIRFRONTIERSONEPARTOFTHES\n",
      "EWHICHITHASBEENSAIDTHATTHEGAULSOCCUPYTAKESITSBEGINNINGATTHERIVERRHONEITISBO\n",
      "UNDEDBYTHERIVERGARONNETHEOCEANANDTHETERRITORIESOFTHEBELGAEITBORDERSTOOONTHE\n",
      "SIDEOFTHESEQUANIANDTHEHELVETIIUPONTHERIVERRHINEANDSTRETCHESTOWARDTHENORTHTH\n",
      "EBELGAERISESFROMTHEEXTREMEFRONTIEROFGAULEXTENDTOTHELOWERPARTOFTHERIVERRHINE\n",
      "ANDLOOKTOWARDTHENORTHANDTHERISINGSUNAQUITANIAEXTENDSFROMTHERIVERGARONNETOTH\n",
      "EPYRENAEANMOUNTAINSANDTOTHATPARTOFTHEOCEANWHICHISNEARSPAINITLOOKSBETWEENTHE\n",
      "SETTINGOFTHESUNANDTHENORTHSTARAB\n"
     ]
    }
   ],
   "source": [
    "# print the converted test message\n",
    "string = PT\n",
    "length = 75\n",
    "list_of_strings = []\n",
    "for i in range(0, len(string), length):\n",
    "    list_of_strings.append(string[i:length+i])\n",
    "\n",
    "for i in list_of_strings:\n",
    "    print(i)"
   ]
  },
  {
   "cell_type": "markdown",
   "metadata": {},
   "source": [
    "#### Letter frequency  \n",
    "The following code calculates the letter frequency in the test message.  Later in this paper we will see that the letter frequency is altered by the encryption.\n",
    "\n",
    "\n",
    "~~Then some some stastics are calculated for the message.  Later we will see if the letter frquency of the encyphered text has changed.~~\n",
    "\n",
    "~~or Letter_frequency~~  \n",
    "~~Looking the the frequency  of ocurance of the various letters.~~  \n",
    "   \n",
    "~~Herbert S. Zim, in his classic introductory cryptography text \"Codes and Secret Writing\", gives the English letter frequency sequence as \"ETAON RISHD LFCMU GYPWB VKJXZQ\", the most common letter pairs as \"TH HE AN RE ER IN ON AT ND ST ES EN OF TE ED OR TI HI AS TO\", and the most common doubled letters as \"LL EE SS OO TT FF RR NN PP CC\".[3]  \n",
    "Letter frequency~~  \n",
    "~~https://en.wikipedia.org/wiki/Letter_frequency~~\n",
    "\n",
    "\n",
    "~~Zim, Herbert Spencer (1961). Codes & Secret Writing: Authorized Abridgement. Scholastic Book Services. OCLC 317853773.~~\n",
    " "
   ]
  },
  {
   "cell_type": "code",
   "execution_count": 178,
   "metadata": {},
   "outputs": [],
   "source": [
    "# using collections.Counter() to get  \n",
    "# count of each element in string  \n",
    "res = Counter(PT) "
   ]
  },
  {
   "cell_type": "raw",
   "metadata": {},
   "source": [
    "for key in sorted(res):\n",
    "    print(\"%s: %s\" % (key, res[key]))"
   ]
  },
  {
   "cell_type": "code",
   "execution_count": 179,
   "metadata": {},
   "outputs": [],
   "source": [
    "sorted_dict = {key: value for key, value in sorted(res.items())}"
   ]
  },
  {
   "cell_type": "code",
   "execution_count": 180,
   "metadata": {},
   "outputs": [
    {
     "data": {
      "image/png": "[encoded data removed]",
      "text/plain": [
       "<Figure size 432x288 with 1 Axes>"
      ]
     },
     "metadata": {
      "needs_background": "light"
     },
     "output_type": "display_data"
    }
   ],
   "source": [
    "plt.bar(range(len(sorted_dict)), sorted_dict.values(), align='center')\n",
    "plt.xticks(range(len(sorted_dict)), list(sorted_dict.keys()))\n",
    "plt.show()"
   ]
  },
  {
   "cell_type": "markdown",
   "metadata": {},
   "source": [
    "The graph above shows that in the test message, the letters E and T are the most frequent.  The primary weakness of a simple subsitution cipher is that the frequency of the letters are not altered and the letters A, E and T can be easily guessed.\n",
    "\n",
    "Common two letter combinations are called bigrams.  The frequency distribution of bigrams for the english language is well known and can be used to help in the solution of simple substitution ciphers <span id=\"a9\">[[9]](#f9)</span>.\n",
    "\n",
    "The code below counts the bigrams in the test message and displays a historgram of frequency.  \n",
    "\n",
    "9. <span id=\"f9\"></span> Wikipedia contributors. (2020, December 13). Bigram. In Wikipedia, The Free Encyclopedia. Retrieved 02:42, January 13, 2021, from https://en.wikipedia.org/w/index.php?title=Bigram&oldid=994038151 [$\\hookleftarrow$](#a9)"
   ]
  },
  {
   "cell_type": "code",
   "execution_count": 181,
   "metadata": {},
   "outputs": [],
   "source": [
    "# count common double characters, such as th, ll \n",
    "res1 = Counter(PT[idx : idx + 2] for idx in range(len(PT) - 1)) "
   ]
  },
  {
   "cell_type": "code",
   "execution_count": 182,
   "metadata": {},
   "outputs": [],
   "source": [
    "res1_sorted = dict(sorted(res1.items(), key=lambda item: item[1],reverse=True))"
   ]
  },
  {
   "cell_type": "code",
   "execution_count": 183,
   "metadata": {},
   "outputs": [],
   "source": [
    "res1_sorted_sliced = dict(itertools.islice(res1_sorted.items(), 50))"
   ]
  },
  {
   "cell_type": "code",
   "execution_count": 184,
   "metadata": {},
   "outputs": [
    {
     "data": {
      "image/png": "[encoded data removed]",
      "text/plain": [
       "<Figure size 720x144 with 1 Axes>"
      ]
     },
     "metadata": {
      "needs_background": "light"
     },
     "output_type": "display_data"
    }
   ],
   "source": [
    "fig = plt.figure(figsize=(10, 2))\n",
    "ax = fig.add_subplot(111)\n",
    "\n",
    "plt.bar(range(len(res1_sorted_sliced)), res1_sorted_sliced.values(), align='center')\n",
    "plt.xticks(range(len(res1_sorted_sliced)), list(res1_sorted_sliced.keys()))\n",
    "plt.xticks(rotation=90)\n",
    "plt.autoscale(enable=True, axis='x')\n",
    "plt.show()"
   ]
  },
  {
   "cell_type": "markdown",
   "metadata": {},
   "source": [
    "The above graph shows that the most common letter pairs are TH and HE."
   ]
  },
  {
   "cell_type": "code",
   "execution_count": null,
   "metadata": {},
   "outputs": [],
   "source": []
  },
  {
   "cell_type": "markdown",
   "metadata": {},
   "source": [
    "### 2.b) Character encoding for processing <a id=\"section2b\"></a> \n",
    "In computers, letters and other symbols are encoded for electronic communication.  Historically, one of the first methods for encoding letters and numbers was Morse code.  Morse code was and still is used for sending messages over radio waves, but not as much on telegraph wires.  This type of encoding was used for the efficient transfer of information and not for encryption of the data.  \n",
    "\n",
    "The test message is encoded as ASCII characters within the computer file <span id=\"a9\">[[9]](#f9)</span>.  The capital letter A is the decimal number 65, B is 66 and so on, all the way to Z, which is 90.  Thus the capital leters of the aplhabet are encoded as the numbers 65 to 90.  For processing, the code below subtracts 65 from the decimal representation to encode the characters as numbers that range from 0 to 25, thus A=0, B=1, ..., Z=25.        \n",
    "\n",
    "The first step is to convert the text message from ASCII values to an array of numbers, where A=0, B=1, ..., Z=25.  The following line of python do that.  Additionally, the numbers in the array are of data type unit8, which means that all the numbers in the array are 8 bit unsigned intergers.  This is important to note since some of the mathmatic operations on the data will be automatically performed as unsigned 8 bit intergers.\n",
    "\n",
    "9. <span id=\"f9\"></span>Wikipedia contributors. (2021, January 4). ASCII. In Wikipedia, The Free Encyclopedia. Retrieved 13:52, January 11, 2021, from https://en.wikipedia.org/w/index.php?title=ASCII&oldid=998308027 [$\\hookleftarrow$](#a9)"
   ]
  },
  {
   "cell_type": "code",
   "execution_count": 185,
   "metadata": {},
   "outputs": [
    {
     "data": {
      "text/plain": [
       "array([ 0, 11, 11, ..., 17,  0,  1], dtype=uint8)"
      ]
     },
     "execution_count": 185,
     "metadata": {},
     "output_type": "execute_result"
    }
   ],
   "source": [
    "# map characters to numbers, A=0, B=1, ..., Z=25\n",
    "PT_int = np.asarray(list(PT),dtype='|S1').view(np.uint8) - ord('A')\n",
    "PT_int"
   ]
  },
  {
   "cell_type": "markdown",
   "metadata": {},
   "source": [
    "As can be seen above the first number in the message array is 0, which corresponds to the letter A and is the first letter in the message.  The next two numbers are 11 and 11, which corespond to the letter L, so the first word in the message is ALL when converted to an array of numbers.  "
   ]
  },
  {
   "cell_type": "markdown",
   "metadata": {},
   "source": [
    "### 2.c) Key generation <a id=\"section2c\"></a> \n",
    "The input key string can be any length using any characters.  The input key string is however striped of all non-letter characters and converted to upper case.  In this example, the names of common animals are used as words in the pass word.  Only left 16 characters are used.  Additional comments about key length and choice of the letters used in the key will be provided in the cryptanalysis section below.  \n",
    "\n",
    "The following code takes the key string and converts it to an all capital text string of length block size.  The key is divided into equal parts with the first half saved as K0 and the second half saved as K1 for used in test code later. K0 and K1 are called the subkeys."
   ]
  },
  {
   "cell_type": "code",
   "execution_count": 186,
   "metadata": {},
   "outputs": [
    {
     "name": "stdout",
     "output_type": "stream",
     "text": [
      "input key string:  elephantzebratigermonkeylion\n",
      "input key string length = 28\n",
      "key as alpha caps trimmed to block size:  ELEPHANTZEBRATIG\n",
      "subkey 0:  [ 4 11  4 15  7  0 13 19]\n",
      "subkey 1:  [25  4  1 17  0 19  8  6]\n"
     ]
    }
   ],
   "source": [
    "# generate subkeys from text string\n",
    "key_string = 'elephantzebratigermonkeylion'\n",
    "print('input key string: ',key_string)\n",
    "print('input key string length = {:d}'.format(len(key_string)))\n",
    "key_alpha_caps = ''.join(e for e in key_string if e.isalpha()).upper()[0:block_size]\n",
    "print('key as alpha caps trimmed to block size: ',key_alpha_caps)\n",
    "\n",
    "# only use the right most characters equal to block size\n",
    "key = (np.asarray(list(key_alpha_caps),dtype='|S1').view(np.uint8) - ord('A'))[0:block_size]\n",
    "\n",
    "# extract sub keys\n",
    "K0 = key[0:int(block_size/2)]\n",
    "K1 = key[int(block_size/2):block_size]\n",
    "print('subkey 0: ',K0)\n",
    "print('subkey 1: ',K1)"
   ]
  },
  {
   "cell_type": "code",
   "execution_count": 187,
   "metadata": {},
   "outputs": [
    {
     "name": "stdout",
     "output_type": "stream",
     "text": [
      "ELEPHANT\n",
      "ZEBRATIG\n"
     ]
    }
   ],
   "source": [
    "# print subkeys as alpha characters\n",
    "print((K0+ord('A')).tostring().decode('ascii'))\n",
    "print((K1+ord('A')).tostring().decode('ascii'))"
   ]
  },
  {
   "cell_type": "markdown",
   "metadata": {},
   "source": [
    "sub keys are only used for testing code fragments\n",
    "\n",
    "Add come comments about proper key choice   "
   ]
  },
  {
   "cell_type": "raw",
   "metadata": {},
   "source": [
    "# implement a Feistel function (F function)\n",
    "# need subkey and half block, character XOR function implementd as a special mod 25 addition\n",
    "# implement substitution boxes, Sn with n = subblock length, in this case do some bit swaping within a character.\n",
    "# implement the Permutation Table"
   ]
  },
  {
   "cell_type": "markdown",
   "metadata": {},
   "source": [
    "#### Get 1st block of data to process\n",
    "The first block of data is used for testing some of the code below. The block consists of right side, R0 and left side, L0.  "
   ]
  },
  {
   "cell_type": "code",
   "execution_count": 188,
   "metadata": {},
   "outputs": [
    {
     "name": "stdout",
     "output_type": "stream",
     "text": [
      "left side block [ 0 11 11  6  0 20 11  8]\n",
      "right side block [18  3  8 21  8  3  4  3]\n"
     ]
    }
   ],
   "source": [
    "L0 = PT_int[0:int(block_size/2)]\n",
    "R0 = PT_int[int(block_size/2):int(block_size)]\n",
    "print('left side block', L0)\n",
    "print('right side block', R0)"
   ]
  },
  {
   "cell_type": "code",
   "execution_count": 189,
   "metadata": {},
   "outputs": [
    {
     "data": {
      "text/plain": [
       "'ALLGAULISDIVIDED'"
      ]
     },
     "execution_count": 189,
     "metadata": {},
     "output_type": "execute_result"
    }
   ],
   "source": [
    "# check of data \n",
    "(np.append(L0,R0)+ord('A')).tostring().decode('ascii')"
   ]
  },
  {
   "cell_type": "code",
   "execution_count": null,
   "metadata": {},
   "outputs": [],
   "source": []
  },
  {
   "cell_type": "code",
   "execution_count": null,
   "metadata": {},
   "outputs": [],
   "source": []
  },
  {
   "cell_type": "markdown",
   "metadata": {},
   "source": [
    "### 2.d) Character XOR <a id=\"section2d\"></a> \n",
    "One of the operations needed for the encryption algorithum is the Exclusive Or (XOR) function. This logic function normally operates on individual bits, but for this encryption algorthum we need to opeate on characters. The following cells explain why we can't use the bit wise XOR operation.  \n",
    "\n",
    "~~As explained later the XOR operation is used in the encryption alogrithum and we need one that operated on characters, not just bits.~~\n",
    "\n",
    "Using some sample data, R0, the right half of half of the first data block and the subkey K0, use bitwise_xor to do the XOR operation.   "
   ]
  },
  {
   "cell_type": "markdown",
   "metadata": {},
   "source": [
    "Maybe remove the test code.   Is it necessary or does it add much to the paper?  In general do we include debugging and test code?"
   ]
  },
  {
   "cell_type": "code",
   "execution_count": 190,
   "metadata": {},
   "outputs": [
    {
     "data": {
      "text/plain": [
       "array([22,  8, 12, 26, 15,  3,  9, 16], dtype=uint8)"
      ]
     },
     "execution_count": 190,
     "metadata": {},
     "output_type": "execute_result"
    }
   ],
   "source": [
    "np.bitwise_xor(R0,K0)"
   ]
  },
  {
   "cell_type": "markdown",
   "metadata": {},
   "source": [
    "As can be seen in the result, the fourth element of the results is 26.  We need a result that is modulo 25.  Therefore we can't use bit wise xor as the logic operator for this algorithum.  \n",
    "\n",
    "If we just add the values using simple addition, we also get results that are greater than the 26, which are not valid characters."
   ]
  },
  {
   "cell_type": "code",
   "execution_count": 191,
   "metadata": {},
   "outputs": [
    {
     "name": "stdout",
     "output_type": "stream",
     "text": [
      "[22 14 12 36 15  3 17 22]\n"
     ]
    }
   ],
   "source": [
    "A = (R0 + K0)\n",
    "print(A)"
   ]
  },
  {
   "cell_type": "markdown",
   "metadata": {},
   "source": [
    "If we add R0 and K0 and use the pythom modulo operator we can get the correct results."
   ]
  },
  {
   "cell_type": "code",
   "execution_count": 192,
   "metadata": {},
   "outputs": [
    {
     "data": {
      "text/plain": [
       "array([22, 14, 12, 10, 15,  3, 17, 22], dtype=uint8)"
      ]
     },
     "execution_count": 192,
     "metadata": {},
     "output_type": "execute_result"
    }
   ],
   "source": [
    "A1 = (R0 + K0) % 26\n",
    "A1"
   ]
  },
  {
   "cell_type": "markdown",
   "metadata": {},
   "source": [
    "One of the propoeties of the XOR function is that repeating the operation twice will give back the starting result.  The modulo addition does not have this property, so we need an inverse character XOR function.\n",
    "\n",
    "As shown below, subtraction modulo 25 will give the correct invers xor results in some cases."
   ]
  },
  {
   "cell_type": "code",
   "execution_count": 193,
   "metadata": {},
   "outputs": [
    {
     "data": {
      "text/plain": [
       "array([18,  3,  8, 17,  8,  3,  4,  3], dtype=uint8)"
      ]
     },
     "execution_count": 193,
     "metadata": {},
     "output_type": "execute_result"
    }
   ],
   "source": [
    "(A1 - K0) % 26"
   ]
  },
  {
   "cell_type": "markdown",
   "metadata": {},
   "source": [
    "R0 is not correct.  Using a bit of code and checking magnitude of the operands before doing the subtraction, we can get the correct results. "
   ]
  },
  {
   "cell_type": "code",
   "execution_count": 194,
   "metadata": {},
   "outputs": [
    {
     "name": "stdout",
     "output_type": "stream",
     "text": [
      "[18  3  8 21  8  3  4  3]\n"
     ]
    }
   ],
   "source": [
    "Rx = np.ones(len(K0),dtype=np.uint8)\n",
    "for i in range(len(K0)):\n",
    "    if A1[i] >= K0[i]:\n",
    "        Rx[i] = A1[i] - K0[i]\n",
    "    if A1[i] < K0[i]:\n",
    "        Rx[i] = (A1[i]+26) - K0[i]\n",
    "print(Rx)"
   ]
  },
  {
   "cell_type": "markdown",
   "metadata": {},
   "source": [
    "The above calcuation gives the correct result.\n",
    "\n",
    "We can write a function to do the character XOR and the inverse XOR.  "
   ]
  },
  {
   "cell_type": "code",
   "execution_count": 195,
   "metadata": {},
   "outputs": [],
   "source": [
    "# forward function\n",
    "def char_xor(a,b):\n",
    "    return (a + b) % 26"
   ]
  },
  {
   "cell_type": "code",
   "execution_count": 196,
   "metadata": {},
   "outputs": [
    {
     "data": {
      "text/plain": [
       "array([22, 14, 12, 10, 15,  3, 17, 22], dtype=uint8)"
      ]
     },
     "execution_count": 196,
     "metadata": {},
     "output_type": "execute_result"
    }
   ],
   "source": [
    "char_xor(R0,K0)"
   ]
  },
  {
   "cell_type": "code",
   "execution_count": 197,
   "metadata": {},
   "outputs": [],
   "source": [
    "# reverse function\n",
    "def inv_char_xor(a,b):\n",
    "    r = np.ones(len(b),dtype=np.uint8)\n",
    "    for i in range(len(b)):\n",
    "        if a[i] >= b[i]:\n",
    "            r[i] = a[i] - b[i]\n",
    "        if a[i] < b[i]:\n",
    "            r[i] = (a[i]+26) - b[i]\n",
    "    return r"
   ]
  },
  {
   "cell_type": "markdown",
   "metadata": {},
   "source": [
    "Testing the inverse XOR function."
   ]
  },
  {
   "cell_type": "code",
   "execution_count": 198,
   "metadata": {},
   "outputs": [
    {
     "data": {
      "text/plain": [
       "array([18,  3,  8, 21,  8,  3,  4,  3], dtype=uint8)"
      ]
     },
     "execution_count": 198,
     "metadata": {},
     "output_type": "execute_result"
    }
   ],
   "source": [
    "R0"
   ]
  },
  {
   "cell_type": "code",
   "execution_count": 199,
   "metadata": {},
   "outputs": [
    {
     "data": {
      "text/plain": [
       "array([22, 14, 12, 10, 15,  3, 17, 22], dtype=uint8)"
      ]
     },
     "execution_count": 199,
     "metadata": {},
     "output_type": "execute_result"
    }
   ],
   "source": [
    "A = char_xor(R0,K0)\n",
    "A"
   ]
  },
  {
   "cell_type": "code",
   "execution_count": 200,
   "metadata": {},
   "outputs": [
    {
     "data": {
      "text/plain": [
       "array([18,  3,  8, 21,  8,  3,  4,  3], dtype=uint8)"
      ]
     },
     "execution_count": 200,
     "metadata": {},
     "output_type": "execute_result"
    }
   ],
   "source": [
    "inv_char_xor(A,K0)"
   ]
  },
  {
   "cell_type": "markdown",
   "metadata": {},
   "source": [
    "This is the correct result."
   ]
  },
  {
   "cell_type": "markdown",
   "metadata": {},
   "source": [
    "### 2.e) S-box <a id=\"section2e\"></a> \n",
    "The S-box is a matrix which is used to map the message characters to different characters in a non-predictiable way. The concept and use of a S-box is well known in block ciphers.  The S-box performs substitution, where one character is transformed into another in some complicated way.  According to Wikipedia[], the purpose of the S-box is to hide the relationship between the key and the ciphertext. The goal was to make the S-box act as a non-linear function, so that the output cannot be expressed as a linear equation, i.e. a straight line ($y = mx+b$).  \n",
    "\n",
    "There are two well known examples of S-boxes and these are the ones used in the now obsolet Data Encryption Standard (DES)[] and the Advanced Data Encryption Standard (AES)[].  The S-box implement here loosly follows the DES S-box.  \n",
    "\n",
    "S0, S1, ... S7 are arrays that constist of the numbers 0 to 26 in different random orders. S0, S1, ... S7 are combined into a matrix for processing within a For loop.   The input data is used as index to S0, for example, and the value returned is some new value.   The matrix of S0, S1, ... S7 is the two dimentional array called s_box.  \n",
    "\n",
    "Wikipedia contributors. (2021, January 7). S-box. In Wikipedia, The Free Encyclopedia. Retrieved 14:32, January 11, 2021, from https://en.wikipedia.org/w/index.php?title=S-box&oldid=998908798  \n",
    "\n",
    "Wikipedia contributors. (2020, December 25). Data Encryption Standard. In Wikipedia, The Free Encyclopedia. Retrieved 14:30, January 11, 2021, from https://en.wikipedia.org/w/index.php?title=Data_Encryption_Standard&oldid=996197167  \n",
    "\n",
    "Wikipedia contributors. (2021, January 7). Advanced Encryption Standard. In Wikipedia, The Free Encyclopedia. Retrieved 14:31, January 11, 2021, from https://en.wikipedia.org/w/index.php?title=Advanced_Encryption_Standard&oldid=998858677  \n",
    "\n"
   ]
  },
  {
   "cell_type": "code",
   "execution_count": 201,
   "metadata": {},
   "outputs": [
    {
     "data": {
      "text/plain": [
       "array([ 5,  2, 17,  9,  7, 13, 22, 24, 23, 25, 15, 12, 18,  1,  0,  3, 11,\n",
       "        6, 19,  8, 14, 21,  4, 16, 20, 10])"
      ]
     },
     "execution_count": 201,
     "metadata": {},
     "output_type": "execute_result"
    }
   ],
   "source": [
    "# generator code\n",
    "s = np.arange(0,26)\n",
    "np.random.shuffle(s)\n",
    "s"
   ]
  },
  {
   "cell_type": "markdown",
   "metadata": {},
   "source": [
    "The generator code is run a number of times to get the values for the arrays."
   ]
  },
  {
   "cell_type": "code",
   "execution_count": 202,
   "metadata": {},
   "outputs": [],
   "source": [
    "S0 = np.array([17,  5,  2, 24, 15, 10, 21,  0, 25, 19,  1, 20, 13,  8,  7, 16, 23,\n",
    "        6,  4, 22,  9, 18, 11, 12, 14,  3],dtype=np.uint8)\n",
    "S1 = np.array([22,  3, 10, 17, 23, 20,  5, 15, 18,  7, 16, 11, 21,  6,  9,  4, 12,\n",
    "       25, 13, 19,  8,  2,  1,  0, 24, 14],dtype=np.uint8)\n",
    "S2 = np.array([19, 11, 24, 21, 18,  8, 14, 16,  9, 12,  7, 22, 17,  3,  4, 15,  5,\n",
    "       25, 10, 23, 20,  2,  1, 13,  6,  0],dtype=np.uint8)\n",
    "S3 = np.array([ 1, 23, 13,  0, 10, 20, 25, 18,  2,  6, 14, 19,  5, 24, 16, 17,  8,\n",
    "        4, 22, 15,  3, 12, 11,  9, 21,  7],dtype=np.uint8)\n",
    "S4 = np.array([25, 19, 17,  2,  8, 10, 15, 16, 13,  6,  0, 24,  9,  4, 20,  7, 18,\n",
    "       11,  1, 12, 22, 23, 14, 21,  5,  3],dtype=np.uint8)\n",
    "S5 = np.array([ 9, 12,  6,  3, 23, 11, 20, 10, 13, 16,  4, 25,  5, 19,  0, 21,  2,\n",
    "       24, 22,  7, 15,  8, 18,  1, 14, 17],dtype=np.uint8)\n",
    "S6 = np.array([21, 10, 22, 25,  3,  7, 15,  0, 24, 14,  1, 13,  6, 17, 11,  2,  4,\n",
    "       16,  5, 23,  8, 20, 19,  9, 18, 12],dtype=np.uint8)\n",
    "S7 = np.array([16, 23,  4,  9,  7,  8, 18, 11, 22, 24,  6, 15, 13,  2, 12,  3, 14,\n",
    "       10, 17,  5, 25, 21, 20, 19,  1,  0],dtype=np.uint8)"
   ]
  },
  {
   "cell_type": "code",
   "execution_count": 203,
   "metadata": {},
   "outputs": [
    {
     "name": "stdout",
     "output_type": "stream",
     "text": [
      "[[17  5  2 24 15 10 21  0 25 19  1 20 13  8  7 16 23  6  4 22  9 18 11 12\n",
      "  14  3]\n",
      " [22  3 10 17 23 20  5 15 18  7 16 11 21  6  9  4 12 25 13 19  8  2  1  0\n",
      "  24 14]\n",
      " [19 11 24 21 18  8 14 16  9 12  7 22 17  3  4 15  5 25 10 23 20  2  1 13\n",
      "   6  0]\n",
      " [ 1 23 13  0 10 20 25 18  2  6 14 19  5 24 16 17  8  4 22 15  3 12 11  9\n",
      "  21  7]\n",
      " [25 19 17  2  8 10 15 16 13  6  0 24  9  4 20  7 18 11  1 12 22 23 14 21\n",
      "   5  3]\n",
      " [ 9 12  6  3 23 11 20 10 13 16  4 25  5 19  0 21  2 24 22  7 15  8 18  1\n",
      "  14 17]\n",
      " [21 10 22 25  3  7 15  0 24 14  1 13  6 17 11  2  4 16  5 23  8 20 19  9\n",
      "  18 12]\n",
      " [16 23  4  9  7  8 18 11 22 24  6 15 13  2 12  3 14 10 17  5 25 21 20 19\n",
      "   1  0]]\n"
     ]
    }
   ],
   "source": [
    "# assemble the individual S-boxes into an m by n array, where m is the size of the alphabet and n is block_size/2\n",
    "S_box = np.array([S0,S1,S2,S3,S4,S5,S6,S7])\n",
    "print(S_box)"
   ]
  },
  {
   "cell_type": "code",
   "execution_count": 204,
   "metadata": {},
   "outputs": [
    {
     "data": {
      "image/png": "[encoded data removed]",
      "text/plain": [
       "<Figure size 432x288 with 1 Axes>"
      ]
     },
     "metadata": {
      "needs_background": "light"
     },
     "output_type": "display_data"
    }
   ],
   "source": [
    "# plot one of the S-boxes\n",
    "plt.plot(S_box[0],'+-',label='S-box 1')\n",
    "plt.title('S-Box function')\n",
    "plt.xlabel('S-Box input')\n",
    "plt.ylabel('S-Box output')\n",
    "plt.legend(loc='upper right')\n",
    "plt.grid()\n",
    "plt.show()"
   ]
  },
  {
   "cell_type": "markdown",
   "metadata": {},
   "source": [
    "As can be seen in the plot above the mapping of input to out put is not a smooth function.   \n",
    "\n",
    "### 2.f) Mixer matrix <a id=\"section2f\"></a> \n",
    "The Mixer is a matrix of 0 or 1 values and is used to expand operation of s-boxes across several characters in the message half-block.  Without the Mixer matrix, the S-box output character would be only depended on its corresponding input character and therefore there would exist a one to one correspondeance.  The one to one correspondance would make it easier to walk backwards throuh the encryption steps and recover the key from know cipher text and the known correspong plain text.  The ability to recover the key in this way is considered a weakness and discussed more in the cryptanalyssis section.  \n",
    "\n",
    "The use of Mixer combines at least two other characters in the half-block with the main character using modulo 26 addition.  The mixed character is then used as the index to the S-box and the out put is corresponding value in the matrix.  Changing one character in the half-block causes multiple characters in the S-box output to change.  This cascade feature is a desirable feature for S-boxes. \n",
    "\n",
    "The Mixer matrix is not a part of the DES Fiestal function.  However, within the DES S-Box, 6 bits are used as inputs to each DES S-Box and the outer bits together with the four inner bits are as corrdinates into a look up table for the corresponding 4 bits of output.  The effect is that a group of bits is used to determine the output group of bits.  \n",
    "\n",
    "Using this same idea, of a many to one relationship, the mixer matrix is implement as an identity matrix with a few other ones sprinked around the matrix, more or less at random.  When the matrix is multipled by the input vector, each value in the output will depend on the corresponding input as well as at least two other elements in the input vector.  In this way the out character is a mix of several input characters.    \n",
    "\n",
    "This is the S-Box mixer matrix:  \n",
    "~~~\n",
    " 1 1 0 0 0 0 1 0\n",
    " 0 1 0 1 0 0 0 1\n",
    " 0 0 1 1 0 1 0 0\n",
    " 1 0 0 1 0 0 1 0\n",
    " 1 0 0 1 1 0 0 0\n",
    " 0 0 0 0 1 1 0 1\n",
    " 0 1 0 0 0 1 1 0\n",
    " 0 0 1 0 1 0 0 1\n",
    "~~~\n",
    "The diagomal elements are all ones and in each row, two other positions are filled in with ones on a ramdom basis.  "
   ]
  },
  {
   "cell_type": "raw",
   "metadata": {},
   "source": [
    "Mixer = np.matrix( \\\n",
    "    '1 1 0 0 0 0 1 0; \\\n",
    "     0 1 0 1 0 0 0 1; \\\n",
    "     0 0 1 1 0 1 0 0; \\\n",
    "     1 0 0 1 0 0 1 0; \\\n",
    "     1 0 0 1 1 0 0 0; \\\n",
    "     0 0 0 0 1 1 0 1; \\\n",
    "     0 1 0 0 0 1 1 0; \\\n",
    "     0 0 1 0 1 0 0 1',dtype=np.uint8)\n",
    "\n",
    "print(Mixer)"
   ]
  },
  {
   "cell_type": "code",
   "execution_count": 205,
   "metadata": {},
   "outputs": [
    {
     "name": "stdout",
     "output_type": "stream",
     "text": [
      "[[1 1 0 0 0 0 1 0]\n",
      " [0 1 0 1 0 0 0 1]\n",
      " [0 0 1 1 0 1 0 0]\n",
      " [1 0 0 1 0 0 1 0]\n",
      " [1 0 0 1 1 0 0 0]\n",
      " [0 0 0 0 1 1 0 1]\n",
      " [0 1 0 0 0 1 1 0]\n",
      " [0 0 1 0 1 0 0 1]]\n"
     ]
    }
   ],
   "source": [
    "Mixer = np.array( \\\n",
    "    [[1, 1, 0, 0, 0, 0, 1, 0],\n",
    "     [0, 1, 0, 1, 0, 0, 0, 1],\n",
    "     [0, 0, 1, 1, 0, 1, 0, 0],\n",
    "     [1, 0, 0, 1, 0, 0, 1, 0],\n",
    "     [1, 0, 0, 1, 1, 0, 0, 0],\n",
    "     [0, 0, 0, 0, 1, 1, 0, 1],\n",
    "     [0, 1, 0, 0, 0, 1, 1, 0],\n",
    "     [0, 0, 1, 0, 1, 0, 0, 1]],dtype=np.uint8)\n",
    "print(Mixer)    "
   ]
  },
  {
   "cell_type": "code",
   "execution_count": null,
   "metadata": {},
   "outputs": [],
   "source": []
  },
  {
   "cell_type": "code",
   "execution_count": null,
   "metadata": {},
   "outputs": [],
   "source": []
  },
  {
   "cell_type": "code",
   "execution_count": 206,
   "metadata": {},
   "outputs": [],
   "source": [
    "test = np.array([17,  5,  2, 24, 15, 10, 21,  0],dtype=np.uint8)"
   ]
  },
  {
   "cell_type": "code",
   "execution_count": 207,
   "metadata": {},
   "outputs": [],
   "source": [
    "test = np.reshape(test, (-1, 1))"
   ]
  },
  {
   "cell_type": "markdown",
   "metadata": {},
   "source": [
    "*Move this to the analysis section*   \n",
    "describe the matrxi operation and run some tests.   is it modulo 255 ? and how does that roll down to modulo 25 ???   \n",
    "\n",
    "\n",
    "https://numpy.org/doc/stable/reference/generated/numpy.matmul.html\n",
    "\n",
    "\n",
    "\n"
   ]
  },
  {
   "cell_type": "code",
   "execution_count": 208,
   "metadata": {},
   "outputs": [
    {
     "data": {
      "text/plain": [
       "array([[17, 17,  0,  0,  0,  0, 17,  0],\n",
       "       [ 0,  5,  0,  5,  0,  0,  0,  5],\n",
       "       [ 0,  0,  2,  2,  0,  2,  0,  0],\n",
       "       [24,  0,  0, 24,  0,  0, 24,  0],\n",
       "       [15,  0,  0, 15, 15,  0,  0,  0],\n",
       "       [ 0,  0,  0,  0, 10, 10,  0, 10],\n",
       "       [ 0, 21,  0,  0,  0, 21, 21,  0],\n",
       "       [ 0,  0,  0,  0,  0,  0,  0,  0]], dtype=uint8)"
      ]
     },
     "execution_count": 208,
     "metadata": {},
     "output_type": "execute_result"
    }
   ],
   "source": [
    "result = Mixer*test % 25\n",
    "result"
   ]
  },
  {
   "cell_type": "code",
   "execution_count": 209,
   "metadata": {},
   "outputs": [
    {
     "data": {
      "text/plain": [
       "array([[18],\n",
       "       [ 4],\n",
       "       [11],\n",
       "       [12],\n",
       "       [ 6],\n",
       "       [ 0],\n",
       "       [11],\n",
       "       [17]], dtype=uint8)"
      ]
     },
     "execution_count": 209,
     "metadata": {},
     "output_type": "execute_result"
    }
   ],
   "source": [
    "Mixer @ test % 25"
   ]
  },
  {
   "cell_type": "code",
   "execution_count": 210,
   "metadata": {},
   "outputs": [
    {
     "data": {
      "text/plain": [
       "array([[18],\n",
       "       [ 4],\n",
       "       [11],\n",
       "       [12],\n",
       "       [ 6],\n",
       "       [ 0],\n",
       "       [11],\n",
       "       [17]], dtype=uint8)"
      ]
     },
     "execution_count": 210,
     "metadata": {},
     "output_type": "execute_result"
    }
   ],
   "source": [
    "np.dot(Mixer,test) % 25"
   ]
  },
  {
   "cell_type": "code",
   "execution_count": 211,
   "metadata": {},
   "outputs": [
    {
     "data": {
      "text/plain": [
       "array([[18],\n",
       "       [ 4],\n",
       "       [11],\n",
       "       [12],\n",
       "       [ 6],\n",
       "       [ 0],\n",
       "       [11],\n",
       "       [17]], dtype=uint8)"
      ]
     },
     "execution_count": 211,
     "metadata": {},
     "output_type": "execute_result"
    }
   ],
   "source": [
    "(Mixer1 @ test) % 25"
   ]
  },
  {
   "cell_type": "code",
   "execution_count": 212,
   "metadata": {},
   "outputs": [
    {
     "data": {
      "text/plain": [
       "array([[17, 17,  0,  0,  0,  0, 17,  0],\n",
       "       [ 0,  5,  0,  5,  0,  0,  0,  5],\n",
       "       [ 0,  0,  2,  2,  0,  2,  0,  0],\n",
       "       [24,  0,  0, 24,  0,  0, 24,  0],\n",
       "       [15,  0,  0, 15, 15,  0,  0,  0],\n",
       "       [ 0,  0,  0,  0, 10, 10,  0, 10],\n",
       "       [ 0, 21,  0,  0,  0, 21, 21,  0],\n",
       "       [ 0,  0,  0,  0,  0,  0,  0,  0]], dtype=uint8)"
      ]
     },
     "execution_count": 212,
     "metadata": {},
     "output_type": "execute_result"
    }
   ],
   "source": [
    "np.multiply(Mixer1,test)"
   ]
  },
  {
   "cell_type": "code",
   "execution_count": 213,
   "metadata": {},
   "outputs": [
    {
     "data": {
      "text/plain": [
       "array([[18],\n",
       "       [ 4],\n",
       "       [11],\n",
       "       [12],\n",
       "       [ 6],\n",
       "       [ 0],\n",
       "       [11],\n",
       "       [17]], dtype=uint8)"
      ]
     },
     "execution_count": 213,
     "metadata": {},
     "output_type": "execute_result"
    }
   ],
   "source": [
    "np.dot(Mixer1,test) % 25"
   ]
  },
  {
   "cell_type": "code",
   "execution_count": null,
   "metadata": {},
   "outputs": [],
   "source": []
  },
  {
   "cell_type": "code",
   "execution_count": null,
   "metadata": {},
   "outputs": [],
   "source": []
  },
  {
   "cell_type": "code",
   "execution_count": null,
   "metadata": {},
   "outputs": [],
   "source": []
  },
  {
   "cell_type": "markdown",
   "metadata": {},
   "source": [
    "#### is the mixer matrix invertable?"
   ]
  },
  {
   "cell_type": "code",
   "execution_count": 214,
   "metadata": {},
   "outputs": [
    {
     "data": {
      "text/plain": [
       "array([[ 1.33333333, -0.16666667,  0.5       , -0.16666667, -0.16666667,\n",
       "         0.66666667, -1.16666667, -0.5       ],\n",
       "       [ 0.33333333,  0.33333333,  0.        , -0.66666667,  0.33333333,\n",
       "        -0.33333333,  0.33333333,  0.        ],\n",
       "       [ 0.33333333, -0.16666667,  0.5       , -0.16666667, -0.16666667,\n",
       "        -0.33333333, -0.16666667,  0.5       ],\n",
       "       [-0.66666667,  0.33333333,  0.        ,  0.33333333,  0.33333333,\n",
       "        -0.33333333,  0.33333333,  0.        ],\n",
       "       [-0.66666667, -0.16666667, -0.5       , -0.16666667,  0.83333333,\n",
       "        -0.33333333,  0.83333333,  0.5       ],\n",
       "       [ 0.33333333, -0.16666667,  0.5       , -0.16666667, -0.16666667,\n",
       "         0.66666667, -0.16666667, -0.5       ],\n",
       "       [-0.66666667, -0.16666667, -0.5       ,  0.83333333, -0.16666667,\n",
       "        -0.33333333,  0.83333333,  0.5       ],\n",
       "       [ 0.33333333,  0.33333333, -0.        ,  0.33333333, -0.66666667,\n",
       "         0.66666667, -0.66666667, -0.        ]])"
      ]
     },
     "execution_count": 214,
     "metadata": {},
     "output_type": "execute_result"
    }
   ],
   "source": [
    "Mixer_inv = np.linalg.inv(Mixer)\n",
    "Mixer_inv"
   ]
  },
  {
   "cell_type": "markdown",
   "metadata": {},
   "source": [
    "notice that the invers of s_box_mixer in now of floats for the data type  \n",
    "Reversability of the Fiestel function seems in doubt, so knowedge of PT and CT will not allow the key to be recovered.\n"
   ]
  },
  {
   "cell_type": "code",
   "execution_count": 215,
   "metadata": {},
   "outputs": [
    {
     "data": {
      "text/plain": [
       "array([[ 22.66666667,  -2.83333333,   0.        ,  -0.        ,\n",
       "         -0.        ,   0.        , -19.83333333,  -0.        ],\n",
       "       [  0.        ,   1.66666667,   0.        ,  -3.33333333,\n",
       "          0.        ,  -0.        ,   0.        ,   0.        ],\n",
       "       [  0.        ,  -0.        ,   1.        ,  -0.33333333,\n",
       "         -0.        ,  -0.66666667,  -0.        ,   0.        ],\n",
       "       [-16.        ,   0.        ,   0.        ,   8.        ,\n",
       "          0.        ,  -0.        ,   8.        ,   0.        ],\n",
       "       [-10.        ,  -0.        ,  -0.        ,  -2.5       ,\n",
       "         12.5       ,  -0.        ,   0.        ,   0.        ],\n",
       "       [  0.        ,  -0.        ,   0.        ,  -0.        ,\n",
       "         -1.66666667,   6.66666667,  -0.        ,  -5.        ],\n",
       "       [ -0.        ,  -3.5       ,  -0.        ,   0.        ,\n",
       "         -0.        ,  -7.        ,  17.5       ,   0.        ],\n",
       "       [  0.        ,   0.        ,  -0.        ,   0.        ,\n",
       "         -0.        ,   0.        ,  -0.        ,  -0.        ]])"
      ]
     },
     "execution_count": 215,
     "metadata": {},
     "output_type": "execute_result"
    }
   ],
   "source": [
    "Mixer_inv*result"
   ]
  },
  {
   "cell_type": "code",
   "execution_count": 216,
   "metadata": {},
   "outputs": [
    {
     "data": {
      "text/plain": [
       "array([[17],\n",
       "       [ 5],\n",
       "       [ 2],\n",
       "       [24],\n",
       "       [15],\n",
       "       [10],\n",
       "       [21],\n",
       "       [ 0]], dtype=uint8)"
      ]
     },
     "execution_count": 216,
     "metadata": {},
     "output_type": "execute_result"
    }
   ],
   "source": [
    "test"
   ]
  },
  {
   "cell_type": "markdown",
   "metadata": {},
   "source": [
    "The results above suggest that the mixer matrix multiplication is not reversable by normal linear algebra.  \n",
    "\n",
    "Run some more sample code to check the math.   "
   ]
  },
  {
   "cell_type": "code",
   "execution_count": null,
   "metadata": {},
   "outputs": [],
   "source": []
  },
  {
   "cell_type": "markdown",
   "metadata": {},
   "source": [
    "#### explore some alternate code for matrix multiplation"
   ]
  },
  {
   "cell_type": "raw",
   "metadata": {},
   "source": [
    "matmul\n",
    "mixer_mul"
   ]
  },
  {
   "cell_type": "code",
   "execution_count": 217,
   "metadata": {},
   "outputs": [
    {
     "data": {
      "text/plain": [
       "7"
      ]
     },
     "execution_count": 217,
     "metadata": {},
     "output_type": "execute_result"
    }
   ],
   "source": [
    "# using modulo 26 at each addition\n",
    "(((((24+5) % 26) + 10) % 26) + 20) % 26"
   ]
  },
  {
   "cell_type": "code",
   "execution_count": 218,
   "metadata": {},
   "outputs": [
    {
     "data": {
      "text/plain": [
       "7"
      ]
     },
     "execution_count": 218,
     "metadata": {},
     "output_type": "execute_result"
    }
   ],
   "source": [
    "# using modulo 26 only at the end \n",
    "(24+5+10+20) % 26"
   ]
  },
  {
   "cell_type": "code",
   "execution_count": 219,
   "metadata": {},
   "outputs": [
    {
     "data": {
      "text/plain": [
       "array([17, 17,  0,  0,  0,  0, 17,  0,  0,  5,  0,  5,  0,  0,  0,  5,  0,\n",
       "        0,  2,  2,  0,  2,  0,  0, 24,  0,  0, 24,  0,  0, 24,  0, 15,  0,\n",
       "        0, 15, 15,  0,  0,  0,  0,  0,  0,  0, 10, 10,  0, 10,  0, 21,  0,\n",
       "        0,  0, 21, 21,  0,  0,  0,  0,  0,  0,  0,  0,  0], dtype=uint8)"
      ]
     },
     "execution_count": 219,
     "metadata": {},
     "output_type": "execute_result"
    }
   ],
   "source": [
    "np.asarray(result).reshape(-1)"
   ]
  },
  {
   "cell_type": "markdown",
   "metadata": {},
   "source": [
    "So now each out put is a linear combination of several other characters.  Use the values as an index into previous generated x-boxes to get a non-linear output."
   ]
  },
  {
   "cell_type": "code",
   "execution_count": 220,
   "metadata": {},
   "outputs": [
    {
     "data": {
      "text/plain": [
       "array([17, 17,  0,  0,  0,  0, 17,  0,  0,  5,  0,  5,  0,  0,  0,  5,  0,\n",
       "        0,  2,  2,  0,  2,  0,  0, 24,  0,  0, 24,  0,  0, 24,  0, 15,  0,\n",
       "        0, 15, 15,  0,  0,  0,  0,  0,  0,  0, 10, 10,  0, 10,  0, 21,  0,\n",
       "        0,  0, 21, 21,  0,  0,  0,  0,  0,  0,  0,  0,  0], dtype=uint8)"
      ]
     },
     "execution_count": 220,
     "metadata": {},
     "output_type": "execute_result"
    }
   ],
   "source": [
    "np.asarray(Mixer*test % 26).reshape(-1)  # after matrix multiplication, convert back to array"
   ]
  },
  {
   "cell_type": "code",
   "execution_count": 221,
   "metadata": {},
   "outputs": [],
   "source": [
    "test = np.array([17,  5,  2, 24, 15, 10, 21,  0],dtype=np.uint8)"
   ]
  },
  {
   "cell_type": "code",
   "execution_count": 222,
   "metadata": {},
   "outputs": [
    {
     "data": {
      "text/plain": [
       "array([[21],\n",
       "       [16],\n",
       "       [ 6],\n",
       "       [13],\n",
       "       [22],\n",
       "       [10],\n",
       "       [ 8],\n",
       "       [19]], dtype=uint8)"
      ]
     },
     "execution_count": 222,
     "metadata": {},
     "output_type": "execute_result"
    }
   ],
   "source": [
    "test = np.reshape(char_xor(test,K0), (-1, 1))\n",
    "test"
   ]
  },
  {
   "cell_type": "code",
   "execution_count": 223,
   "metadata": {},
   "outputs": [
    {
     "data": {
      "text/plain": [
       "array([21, 21,  0,  0,  0,  0, 21,  0,  0, 16,  0, 16,  0,  0,  0, 16,  0,\n",
       "        0,  6,  6,  0,  6,  0,  0, 13,  0,  0, 13,  0,  0, 13,  0, 22,  0,\n",
       "        0, 22, 22,  0,  0,  0,  0,  0,  0,  0, 10, 10,  0, 10,  0,  8,  0,\n",
       "        0,  0,  8,  8,  0,  0,  0, 19,  0, 19,  0,  0, 19], dtype=uint8)"
      ]
     },
     "execution_count": 223,
     "metadata": {},
     "output_type": "execute_result"
    }
   ],
   "source": [
    "(np.asarray(Mixer*test) % 26).reshape(-1)"
   ]
  },
  {
   "cell_type": "code",
   "execution_count": null,
   "metadata": {},
   "outputs": [],
   "source": []
  },
  {
   "cell_type": "code",
   "execution_count": null,
   "metadata": {},
   "outputs": [],
   "source": []
  },
  {
   "cell_type": "raw",
   "metadata": {},
   "source": [
    "xor_out = char_xor_f(a,k)  # xor data with the key, and reshape so that matrix mult can happen\n",
    "np.reshape(char_xor_f(test,K0), (-1, 1))\n",
    "s_in = (np.asarray(mixer*test) % 26).reshape(-1)\n",
    "\n",
    "# run each element of s through the S_box matrix as an index and replace with new value\n",
    "for i in range(int(block_size/2)):\n",
    "    s[i] = S_box[i][s_in[i]]"
   ]
  },
  {
   "cell_type": "code",
   "execution_count": null,
   "metadata": {},
   "outputs": [],
   "source": []
  },
  {
   "cell_type": "code",
   "execution_count": null,
   "metadata": {},
   "outputs": [],
   "source": []
  },
  {
   "cell_type": "markdown",
   "metadata": {},
   "source": [
    "### 2.g) P-table <a id=\"section2g\"></a> \n",
    "The P-table is used to shuffle the characters of the half-block so that bigram relationships are altered.  The table is implemented as an array of values from 0 to 7 in a random order.  The P-table permutes the order of the output so that adjacent characters in the input message are no longer adjacent.  This thwarts bigram frequency analysis of the cipher text.  \n",
    "\n",
    "The design of the P-table should be to produce a random shuffeling and seperate adjacent characters.\n"
   ]
  },
  {
   "cell_type": "code",
   "execution_count": 224,
   "metadata": {},
   "outputs": [
    {
     "name": "stdout",
     "output_type": "stream",
     "text": [
      "[7 1 2 6 4 0 3 5]\n"
     ]
    }
   ],
   "source": [
    "# generator code\n",
    "i = np.arange(0,block_size/2,dtype=np.uint8)\n",
    "np.random.shuffle(i)\n",
    "print(i)"
   ]
  },
  {
   "cell_type": "code",
   "execution_count": 225,
   "metadata": {},
   "outputs": [
    {
     "name": "stdout",
     "output_type": "stream",
     "text": [
      "[7 2 6 5 0 4 3 1]\n"
     ]
    }
   ],
   "source": [
    "# run the generator code above and copy the result to the P_table array once.\n",
    "P_table = np.array([7, 2, 6, 5, 0, 4, 3, 1],dtype=np.uint8)\n",
    "print(P_table)"
   ]
  },
  {
   "cell_type": "raw",
   "metadata": {},
   "source": [
    "K = np.ones(len(A1))\n",
    "for i in range(len(A1)):\n",
    "    K[i] = A1[P[i]]"
   ]
  },
  {
   "cell_type": "code",
   "execution_count": null,
   "metadata": {},
   "outputs": [],
   "source": []
  },
  {
   "cell_type": "markdown",
   "metadata": {},
   "source": [
    "### 2.h) Feistel function <a id=\"section2h\"></a> \n",
    "The Feistel function implemented in this project will losely follow the DES implementation.  Within a Feistel network, the function can be almost any function. A simple pass through function or a one way hash function could be used.  Since we are not going to design a new function from scratch, we will just follow the DES Feistel function with some modifications.  Primarily, the use of the Mixer matrix is new and the S-box and the P-table are different.\n",
    "\n",
    "diagram of the network was shown above    \n",
    "Add a block diagram of the Feistel function         \n",
    "\n",
    "explain the function block diagram      \n",
    "\n",
    "Does the order of Data XOR SubKey -> Mixer -> S-Box -> P-table make a difference?  explore this in the analysis section.   \n",
    "\n",
    "Figure 4:  The Feistel function FF()   \n",
    "\n",
    "The F-function, depicted in Figure 2, operates on half a block (32 bits) at a time and consists of four stages:\n",
    "\n",
    "Expansion: the 32-bit half-block is expanded to 48 bits using the expansion permutation, denoted E in the diagram, by duplicating half of the bits. The output consists of eight 6-bit (8 × 6 = 48 bits) pieces, each containing a copy of 4 corresponding input bits, plus a copy of the immediately adjacent bit from each of the input pieces to either side.\n",
    "Key mixing: the result is combined with a subkey using an XOR operation. Sixteen 48-bit subkeys—one for each round—are derived from the main key using the key schedule (described below).\n",
    "\n",
    "\n",
    "Substitution: after mixing in the subkey, the block is divided into eight 6-bit pieces before processing by the S-boxes, or substitution boxes. Each of the eight S-boxes replaces its six input bits with four output bits according to a non-linear transformation, provided in the form of a lookup table. The S-boxes provide the core of the security of DES—without them, the cipher would be linear, and trivially breakable.\n",
    "\n",
    "\n",
    "Permutation: finally, the 32 outputs from the S-boxes are rearranged according to a fixed permutation, the P-box. This is designed so that, after permutation, the bits from the output of each S-box in this round are spread across four different S-boxes in the next round.\n",
    "\n",
    "\n",
    "The alternation of substitution from the S-boxes, and permutation of bits from the P-box and E-expansion provides so-called \"confusion and diffusion\" respectively, a concept identified by Claude Shannon in the 1940s as a necessary condition for a secure yet practical cipher."
   ]
  },
  {
   "cell_type": "code",
   "execution_count": 226,
   "metadata": {},
   "outputs": [
    {
     "data": {
      "text/plain": [
       "array([20, 17, 16,  3, 11,  7, 14,  9], dtype=uint8)"
      ]
     },
     "execution_count": 226,
     "metadata": {},
     "output_type": "execute_result"
    }
   ],
   "source": [
    "S = char_xor(R0,K0)  # 1st half block XOR with sub key\n",
    "\n",
    "# run each element of S through the S_box matrix as an index\n",
    "for i in range(int(block_size/2)):\n",
    "    S[i] = S_box[i][S[i]]\n",
    "\n",
    "# permutate the element order of S according to P\n",
    "F = np.ones(int(block_size/2),dtype=np.uint8)\n",
    "for i in range(len(F)):\n",
    "    F[i] = S[P_table[i]]\n",
    "F"
   ]
  },
  {
   "cell_type": "code",
   "execution_count": 227,
   "metadata": {},
   "outputs": [
    {
     "data": {
      "text/plain": [
       "array([11,  9, 17, 14,  7,  3, 16, 20], dtype=uint8)"
      ]
     },
     "execution_count": 227,
     "metadata": {},
     "output_type": "execute_result"
    }
   ],
   "source": [
    "S"
   ]
  },
  {
   "cell_type": "markdown",
   "metadata": {},
   "source": [
    "The following code implements the Feistel function"
   ]
  },
  {
   "cell_type": "code",
   "execution_count": 228,
   "metadata": {},
   "outputs": [],
   "source": [
    "# Feistel function, FF()\n",
    "def FF(a,k):\n",
    "    # xor data with the subkey and reshape for matrix multiplication\n",
    "    xor_out = np.reshape(char_xor(a,k), (-1, 1))\n",
    "    # use the mixer matrix to make each element of s dependent on several other elements in the block\n",
    "    s = (np.asarray(Mixer @ xor_out) % 25).reshape(-1)  # @ is the matrix dot operator\n",
    "\n",
    "    # run each element of s through the S_box matrix as an index and replace with new value\n",
    "    for i in range(int(block_size/2)):\n",
    "        s[i] = S_box[i][s[i]]\n",
    "\n",
    "    # permutate the element order of S according to P\n",
    "    f = np.ones(int(block_size/2),dtype=np.uint8)\n",
    "    for i in range(len(f)):\n",
    "        f[i] = s[P_table[i]]\n",
    "    return f    "
   ]
  },
  {
   "cell_type": "markdown",
   "metadata": {},
   "source": [
    "#### Encryption test\n",
    "probably don't need these cells of code.  They don't add anything to the explaiation.   remove from report.  "
   ]
  },
  {
   "cell_type": "raw",
   "metadata": {},
   "source": [
    "# initialize data\n",
    "L0 = PT_int[0:int(block_size/2)]\n",
    "R0 = PT_int[int(block_size/2):int(block_size)]\n",
    "\n",
    "# check of data \n",
    "(np.append(L0,R0)+ord('A')).tostring().decode('ascii')"
   ]
  },
  {
   "cell_type": "raw",
   "metadata": {},
   "source": [
    "**Encrypt round 0**"
   ]
  },
  {
   "cell_type": "raw",
   "metadata": {},
   "source": [
    "R1 = char_xor(L0,FF(R0,K0))\n",
    "L1 = R0"
   ]
  },
  {
   "cell_type": "raw",
   "metadata": {},
   "source": [
    "**Encrypt round 1**"
   ]
  },
  {
   "cell_type": "raw",
   "metadata": {},
   "source": [
    "R2 = char_xor(L1,FF(R1,K1))\n",
    "L2 = R1"
   ]
  },
  {
   "cell_type": "raw",
   "metadata": {},
   "source": [
    "print(R2)\n",
    "print(L2)"
   ]
  },
  {
   "cell_type": "raw",
   "metadata": {},
   "source": [
    "CT = np.append(L2,R2)\n",
    "print(CT)"
   ]
  },
  {
   "cell_type": "raw",
   "metadata": {},
   "source": [
    "# convert numbers back to characters\n",
    "(CT+ord('A')).tostring().decode('ascii')"
   ]
  },
  {
   "cell_type": "raw",
   "metadata": {},
   "source": [
    "**Decrypt round 1**"
   ]
  },
  {
   "cell_type": "raw",
   "metadata": {},
   "source": [
    "L1 = inv_char_xor(R2,FF(L2,K1))\n",
    "R1 = L2"
   ]
  },
  {
   "cell_type": "raw",
   "metadata": {},
   "source": [
    "**Decrypt round 0**"
   ]
  },
  {
   "cell_type": "raw",
   "metadata": {},
   "source": [
    "L0 = inv_char_xor(R1,FF(L1,K0))\n",
    "R0 = L1"
   ]
  },
  {
   "cell_type": "raw",
   "metadata": {},
   "source": [
    "print(R0)\n",
    "print(L0)"
   ]
  },
  {
   "cell_type": "raw",
   "metadata": {},
   "source": [
    "PT = np.append(L0,R0)\n",
    "print(PT)"
   ]
  },
  {
   "cell_type": "raw",
   "metadata": {},
   "source": [
    "# convert numbers back to characters\n",
    "(PT+ord('A')).tostring().decode('ascii')"
   ]
  },
  {
   "cell_type": "raw",
   "metadata": {},
   "source": []
  },
  {
   "cell_type": "raw",
   "metadata": {},
   "source": [
    "**Test code, encrypt and decrypt 1 round**"
   ]
  },
  {
   "cell_type": "raw",
   "metadata": {},
   "source": [
    "# initialize data\n",
    "L0 = PT_int[0:int(block_size/2)]\n",
    "R0 = PT_int[int(block_size/2):int(block_size)]\n",
    "\n",
    "# check of data \n",
    "(np.append(L0,R0)+ord('A')).tostring().decode('ascii')"
   ]
  },
  {
   "cell_type": "raw",
   "metadata": {},
   "source": [
    "# encrypt one round\n",
    "R1 = char_xor(L0,FF(R0,K0))\n",
    "L1 = R0"
   ]
  },
  {
   "cell_type": "raw",
   "metadata": {},
   "source": [
    "CT = np.append(L1,R1)\n",
    "# convert numbers back to characters\n",
    "(CT+ord('A')).tostring().decode('ascii')"
   ]
  },
  {
   "cell_type": "raw",
   "metadata": {},
   "source": [
    "# decrypt one round\n",
    "L0 = inv_char_xor(R1,FF(L1,K0))\n",
    "R0 = L1"
   ]
  },
  {
   "cell_type": "raw",
   "metadata": {},
   "source": [
    "PT = np.append(L0,R0)\n",
    "# convert numbers back to characters\n",
    "(PT+ord('A')).tostring().decode('ascii')"
   ]
  },
  {
   "cell_type": "raw",
   "metadata": {},
   "source": []
  },
  {
   "cell_type": "code",
   "execution_count": null,
   "metadata": {},
   "outputs": [],
   "source": []
  },
  {
   "cell_type": "markdown",
   "metadata": {},
   "source": [
    "## 3) Design <a id=\"section3\"></a>\n",
    "\n",
    "\n",
    "- Feistel network  \n",
    "need at least two round to process both sides of the block\n",
    "- proposed Feistel function\n",
    "- purpose and function of Mixer, S-boxes and P-table\n",
    "- various modes\n",
    "\n",
    "https://en.wikipedia.org/wiki/Feistel_cipher\n",
    "\n",
    "Design\n",
    "A Feistel network uses a round function, a function which takes two inputs, a data block and a subkey, and returns one output the same size as the data block.[1] In each round, the round function is run on half of the data to be encrypted and its output is XORed with the other half of the data. This is repeated a fixed number of times, and the final output is the encrypted data. An important advantage of Feistel networks compared to other cipher designs such as substitution–permutation networks is the entire operation is guaranteed to be invertible (that is, encrypted data can be decrypted), even if the round function is not itself invertible. The round function can be made arbitrarily complicated, since it does not need to be designed to be invertible.[2]:465 [3]:347 Furthermore, the encryption and decryption operations are very similar, even identical in some cases, requiring only a reversal of the key schedule. Therefore, the size of the code or circuitry required to implement such a cipher is nearly halved.\n",
    "\n",
    "Substitution–permutation network  \n",
    "https://en.wikipedia.org/wiki/Substitution%E2%80%93permutation_network  \n",
    "\n",
    "\n",
    "Add figures <<<<------  \n",
    "https://en.wikipedia.org/wiki/Block_cipher_mode_of_operation#Electronic_codebook_(ECB)\n",
    "\n",
    "\n",
    "Electronic codebook (ECB)  \n",
    "The simplest of the encryption modes is the electronic codebook (ECB) mode (named after conventional physical codebooks[19]). The message is divided into blocks, and each block is encrypted separately.\n",
    "The disadvantage of this method is a lack of diffusion. Because ECB encrypts identical plaintext blocks into identical ciphertext blocks, it does not hide data patterns well. ECB is not recommended for use in cryptographic protocols.[20][21][22]\n",
    "\n",
    "Cipher block chaining (CBC)  \n",
    "Ehrsam, Meyer, Smith and Tuchman invented the cipher block chaining (CBC) mode of operation in 1976.[23] In CBC mode, each block of plaintext is XORed with the previous ciphertext block before being encrypted. This way, each ciphertext block depends on all plaintext blocks processed up to that point. To make each message unique, an initialization vector must be used in the first block.\n",
    "CBC has been the most commonly used mode of operation. Its main drawbacks are that encryption is sequential (i.e., it cannot be parallelized), and that the message must be padded to a multiple of the cipher block size. One way to handle this last issue is through the method known as ciphertext stealing. Note that a one-bit change in a plaintext or initialization vector (IV) affects all following ciphertext blocks.\n",
    "\n",
    "\n",
    "Other modes, don't discuss    \n",
    "\n",
    "\n",
    "Propagating cipher block chaining (PCBC)   \n",
    "The propagating cipher block chaining[25] or plaintext cipher-block chaining[26] mode was designed to cause small changes in the ciphertext to propagate indefinitely when decrypting, as well as when encrypting. In PCBC mode, each block of plaintext is XORed with both the previous plaintext block and the previous ciphertext block before being encrypted. As with CBC mode, an initialization vector is used in the first block.\n",
    "\n",
    "Full-block CFB   \n",
    "The cipher feedback (CFB) mode, in its simplest form is using the entire output of the block cipher. In this variation, it is very similar to CBC, makes a block cipher into a self-synchronizing stream cipher. CFB decryption in this variation is almost identical to CBC encryption performed in reverse:\n",
    "\n",
    "Output feedback (OFB)   \n",
    "The output feedback (OFB) mode makes a block cipher into a synchronous stream cipher. It generates keystream blocks, which are then XORed with the plaintext blocks to get the ciphertext. Just as with other stream ciphers, flipping a bit in the ciphertext produces a flipped bit in the plaintext at the same location. This property allows many error-correcting codes to function normally even when applied before encryption.\n",
    "\n",
    "other options are block chaining   \n",
    "\n",
    "When encrypting data using a block cipher in cipher block chaining (or another) mode, it is common to introduce an initialization vector to the first stage of the encryption process. It is typically required that this vector be chosen randomly (a nonce) and that it is not repeated for any given secret key under which the block cipher operates. This provides semantic security, by means of ensuring the same plain text is not encrypted to the same cipher text, allowing an attacker to infer a relationship exists.\n",
    "\n",
    "could write some new functions:  encrypt_ECB, encrypt_CBC"
   ]
  },
  {
   "cell_type": "raw",
   "metadata": {},
   "source": [
    "# encrypt function with CBC\n",
    "def encrypt_CBC(a,k,ct):\n",
    "    '''\n",
    "    a is a block of data to be encrypted of block size\n",
    "    k is the key of block size\n",
    "    ct is the previous block of cipher test, 1st block is a null vector\n",
    "    '''\n",
    "    # divide data into half blocks\n",
    "    left_0 = a[0:int(block_size/2)]  # left side of the block\n",
    "    right_0 = a[int(block_size/2):int(block_size)]  # right side of the block\n",
    "    \n",
    "    # extract sub keys\n",
    "    k0 = k[0:8]\n",
    "    k1 = k[1:9]\n",
    "    \n",
    "    char_xor_f(a,ct)  # xor current block with previous block of CT\n",
    "    \n",
    "    # more code follows"
   ]
  },
  {
   "cell_type": "code",
   "execution_count": 229,
   "metadata": {},
   "outputs": [],
   "source": [
    "# encrypt function\n",
    "def encrypt(a,k):\n",
    "    '''\n",
    "    a is a block of data to be encrypted of block size\n",
    "    k is the key of block size\n",
    "    '''\n",
    "    # divide data into half blocks\n",
    "    left_0 = a[0:int(block_size/2)]  # left side of the block\n",
    "    right_0 = a[int(block_size/2):int(block_size)]  # right side of the block\n",
    "    \n",
    "    # extract sub keys\n",
    "    k0 = k[0:8]\n",
    "    k1 = k[1:9]\n",
    "    \n",
    "    # round 0\n",
    "    right_1 = char_xor(left_0,FF(right_0,k0))\n",
    "    left_1 = right_0\n",
    "\n",
    "    #round 1\n",
    "    right_2 = char_xor(left_1,FF(right_1,k1))\n",
    "    left_2 = right_1\n",
    "\n",
    "    return np.append(left_2,right_2)"
   ]
  },
  {
   "cell_type": "code",
   "execution_count": 230,
   "metadata": {},
   "outputs": [
    {
     "data": {
      "text/plain": [
       "array([ 1,  4, 25,  1, 24,  8,  6, 10, 12, 13, 11, 18, 17, 15,  7, 25],\n",
       "      dtype=uint8)"
      ]
     },
     "execution_count": 230,
     "metadata": {},
     "output_type": "execute_result"
    }
   ],
   "source": [
    "x = encrypt(PT_int[0:block_size],key)\n",
    "x"
   ]
  },
  {
   "cell_type": "code",
   "execution_count": 231,
   "metadata": {},
   "outputs": [
    {
     "data": {
      "text/plain": [
       "'BEZBYIGKMNLSRPHZ'"
      ]
     },
     "execution_count": 231,
     "metadata": {},
     "output_type": "execute_result"
    }
   ],
   "source": [
    "(x+ord('A')).tostring().decode('ascii')"
   ]
  },
  {
   "cell_type": "code",
   "execution_count": 232,
   "metadata": {},
   "outputs": [],
   "source": [
    "# decrypt function\n",
    "def decrypt(a,k):\n",
    "    '''\n",
    "    a is a block of data to be decrypted of block size\n",
    "    k is the key of block size\n",
    "    '''\n",
    "    # divide data into half blocks\n",
    "    left_2 = a[0:int(block_size/2)]\n",
    "    right_2 = a[int(block_size/2):int(block_size)]\n",
    "    \n",
    "    # extract sub keys\n",
    "    k0 = k[0:8]\n",
    "    k1 = k[1:9]    \n",
    "    \n",
    "    # round 1\n",
    "    left_1 = inv_char_xor(right_2,FF(left_2,k1))\n",
    "    right_1 = left_2\n",
    "\n",
    "    # round 0\n",
    "    left_0 = inv_char_xor(right_1,FF(left_1,k0))\n",
    "    right_0 = left_1\n",
    "    \n",
    "    return np.append(left_0,right_0)"
   ]
  },
  {
   "cell_type": "code",
   "execution_count": 233,
   "metadata": {},
   "outputs": [
    {
     "data": {
      "text/plain": [
       "array([ 0, 11, 11,  6,  0, 20, 11,  8, 18,  3,  8, 21,  8,  3,  4,  3],\n",
       "      dtype=uint8)"
      ]
     },
     "execution_count": 233,
     "metadata": {},
     "output_type": "execute_result"
    }
   ],
   "source": [
    "y = decrypt(x,key)\n",
    "y"
   ]
  },
  {
   "cell_type": "code",
   "execution_count": 234,
   "metadata": {},
   "outputs": [
    {
     "data": {
      "text/plain": [
       "'ALLGAULISDIVIDED'"
      ]
     },
     "execution_count": 234,
     "metadata": {},
     "output_type": "execute_result"
    }
   ],
   "source": [
    "(y+ord('A')).tostring().decode('ascii')"
   ]
  },
  {
   "cell_type": "markdown",
   "metadata": {},
   "source": [
    "## 4) Test message <a id=\"section4\"></a>\n",
    "- divide the message into blocks\n",
    "- encrypt message\n",
    "- decrypt message"
   ]
  },
  {
   "cell_type": "markdown",
   "metadata": {},
   "source": [
    "### Encrypt the test message"
   ]
  },
  {
   "cell_type": "code",
   "execution_count": 235,
   "metadata": {},
   "outputs": [],
   "source": [
    "# use numpy to chop message into block size"
   ]
  },
  {
   "cell_type": "code",
   "execution_count": 236,
   "metadata": {},
   "outputs": [
    {
     "data": {
      "text/plain": [
       "array([ 0, 11, 11, ..., 17,  0,  1], dtype=uint8)"
      ]
     },
     "execution_count": 236,
     "metadata": {},
     "output_type": "execute_result"
    }
   ],
   "source": [
    "PT_int"
   ]
  },
  {
   "cell_type": "code",
   "execution_count": 237,
   "metadata": {},
   "outputs": [
    {
     "data": {
      "text/plain": [
       "77.0"
      ]
     },
     "execution_count": 237,
     "metadata": {},
     "output_type": "execute_result"
    }
   ],
   "source": [
    "len(PT_int)/block_size"
   ]
  },
  {
   "cell_type": "code",
   "execution_count": 238,
   "metadata": {},
   "outputs": [],
   "source": [
    "msg_block = np.array_split(PT_int, len(PT_int)/block_size)"
   ]
  },
  {
   "cell_type": "code",
   "execution_count": 239,
   "metadata": {},
   "outputs": [
    {
     "data": {
      "text/plain": [
       "array([ 0, 11, 11,  6,  0, 20, 11,  8, 18,  3,  8, 21,  8,  3,  4,  3],\n",
       "      dtype=uint8)"
      ]
     },
     "execution_count": 239,
     "metadata": {},
     "output_type": "execute_result"
    }
   ],
   "source": [
    "msg_block[0]"
   ]
  },
  {
   "cell_type": "code",
   "execution_count": 240,
   "metadata": {},
   "outputs": [
    {
     "data": {
      "text/plain": [
       "77"
      ]
     },
     "execution_count": 240,
     "metadata": {},
     "output_type": "execute_result"
    }
   ],
   "source": [
    "len(msg_block)"
   ]
  },
  {
   "cell_type": "code",
   "execution_count": 241,
   "metadata": {},
   "outputs": [],
   "source": [
    "ct = []\n",
    "for i in msg_block:\n",
    "    ct = np.append(ct,encrypt(i,key)).astype(np.uint8) #, dtype=np.uint8)"
   ]
  },
  {
   "cell_type": "code",
   "execution_count": 242,
   "metadata": {},
   "outputs": [
    {
     "data": {
      "text/plain": [
       "array([ 1,  4, 25, ..., 24, 22,  2], dtype=uint8)"
      ]
     },
     "execution_count": 242,
     "metadata": {},
     "output_type": "execute_result"
    }
   ],
   "source": [
    "ct"
   ]
  },
  {
   "cell_type": "code",
   "execution_count": 243,
   "metadata": {},
   "outputs": [
    {
     "data": {
      "text/plain": [
       "1232"
      ]
     },
     "execution_count": 243,
     "metadata": {},
     "output_type": "execute_result"
    }
   ],
   "source": [
    "len(ct)"
   ]
  },
  {
   "cell_type": "code",
   "execution_count": 244,
   "metadata": {},
   "outputs": [
    {
     "data": {
      "text/plain": [
       "25"
      ]
     },
     "execution_count": 244,
     "metadata": {},
     "output_type": "execute_result"
    }
   ],
   "source": [
    "ct.max()"
   ]
  },
  {
   "cell_type": "code",
   "execution_count": 245,
   "metadata": {},
   "outputs": [
    {
     "data": {
      "text/plain": [
       "0"
      ]
     },
     "execution_count": 245,
     "metadata": {},
     "output_type": "execute_result"
    }
   ],
   "source": [
    "ct.min()"
   ]
  },
  {
   "cell_type": "code",
   "execution_count": 246,
   "metadata": {},
   "outputs": [],
   "source": [
    "# convert back to alpha characters\n",
    "ct_aplha = (ct+ord('A')).tostring().decode('ascii')"
   ]
  },
  {
   "cell_type": "code",
   "execution_count": 247,
   "metadata": {},
   "outputs": [
    {
     "name": "stdout",
     "output_type": "stream",
     "text": [
      "BEZBYIGKMNLSRPHZOIQCMBIZSKWABPCVGVOYIHEYRCJNUVJRVSBSNZOBACIJRGGUYQOXPHEQAPK\n",
      "QQUXFYMDJLZNSMQKIGYMEBWKGEEVKCTAPIKUMXKLUTSREUIOYTJTGZOVBWSULRRFJAPEQAZPYMO\n",
      "AKSOXLGGFHTFWWYBRLDXSTFDQTTAMFKUQZNYZKBXSKWGWPOKIKNOFIXFMFTZWGNMWEVURVSOSJC\n",
      "MVLJOGXSEQBCLZSHLFDGQJGWBMPBXUNJFHJIGXODJEZKQYMKRZLEVWQDTPKTIOYMRQSSECTHISE\n",
      "HSKNEBZHZQTUAHPWYIZKRFBWFEFRSNJFUHOTOCITFNZZMBFXBNNYGHOMUXMIWVYZQEZJPLPOZOP\n",
      "WCPJUTXXIHCBURHCMJHNFWRCLFFLWRIKWVNCCYLOANYHROZFOTNKHZWRBCGSUFXAEGDZALRGVXA\n",
      "JDJLICKRQTIESXMCWVESTKFXNWOMXSDCQRCZZVQFAIEONZCVVIGDEJOIESYXEISBXXIAWBNERPQ\n",
      "FLYJXSKCEGFCQQZOULJMISJSUUOYPIVTHRMWUJZAIAROGPYZMSNMAJPMWMIJBMHRUTLJJPXKSIP\n",
      "UVFKOGMTWUFHMUKVSSHEGQRAIYZRUKXSJWRWVRGYPBULYAVQRQAZPWWYHYGZOZKHSMJRQVENSZG\n",
      "WNFNSONIUUQNRYNKTSHCAKIPBPJIQEEILBCDQQGEUPKQMAJJPFCIAMNRCKMKHTRXLUTJKCBWLGD\n",
      "ZWOCHHTRRPAQMJKFVPCWJENTITOFUQZXDZGMNUNEZVONCKJVBIGMWJHBECJWHNZYQZNQXCGWTFI\n",
      "CRKZXEQCYIGQIYUCQTINYAAMIJXQZMCBSWEUUWQTKHQWBWRURYNDGICPZLQFVFOUSSEVQZXEWRX\n",
      "XBVFKLSJTDGIILMUEIOVXRMTIAREBMDSVVECHCBGJEFGJKWLKUOMCASFEZVGKJLLQNKJOYVHUDL\n",
      "NXSOPNWVJTQAQNPBDTOTCCGWLDBNIAAIZZGXIVYVRYWFOWQEFDYPLBQEGGKSEMGBAMHRHQZKGRU\n",
      "KAQNFIQXRBSVJOUFAOGKABMLOISNAWSXUSUCSTDDVTZMMQNAKIIMUSRQXOFFRVRCPWRQPYAJQVB\n",
      "SIOWVKHVUDDIGEJMVFVXXTOMHNCYWCDYIFUNRWCDBJTPUDJDZPTMTPCAUIAQNITBBGCJNTGRKER\n",
      "AXLTQPGNORGPFLGGOECOTRDTAGGVKYWC\n"
     ]
    }
   ],
   "source": [
    "string = ct_aplha\n",
    "length = 75\n",
    "list_of_strings = []\n",
    "for i in range(0, len(string), length):\n",
    "    list_of_strings.append(string[i:length+i])\n",
    "\n",
    "for i in list_of_strings:\n",
    "    print(i)"
   ]
  },
  {
   "cell_type": "markdown",
   "metadata": {},
   "source": [
    "### decrypt the test message"
   ]
  },
  {
   "cell_type": "code",
   "execution_count": 248,
   "metadata": {},
   "outputs": [
    {
     "data": {
      "text/plain": [
       "array([ 1,  4, 25, ..., 24, 22,  2], dtype=uint8)"
      ]
     },
     "execution_count": 248,
     "metadata": {},
     "output_type": "execute_result"
    }
   ],
   "source": [
    "# starting with ct_alpha, convert to array of dtype=uint8\n",
    "\n",
    "# map characters to numbers, A=0, B=1, ..., Z=25\n",
    "ct_int = np.asarray(list(ct_aplha),dtype='|S1').view(np.uint8) - ord('A')\n",
    "ct_int"
   ]
  },
  {
   "cell_type": "code",
   "execution_count": 249,
   "metadata": {},
   "outputs": [],
   "source": [
    "ct_msg_blocks = np.array_split(ct_int, len(ct_int)/block_size)"
   ]
  },
  {
   "cell_type": "code",
   "execution_count": 250,
   "metadata": {},
   "outputs": [],
   "source": [
    "pt = []\n",
    "for i in ct_msg_blocks:\n",
    "    pt = np.append(pt,decrypt(i,key)).astype(np.uint8) #, dtype=np.uint8)"
   ]
  },
  {
   "cell_type": "code",
   "execution_count": 251,
   "metadata": {},
   "outputs": [
    {
     "data": {
      "text/plain": [
       "array([ 0, 11, 11, ..., 17,  0,  1], dtype=uint8)"
      ]
     },
     "execution_count": 251,
     "metadata": {},
     "output_type": "execute_result"
    }
   ],
   "source": [
    "pt"
   ]
  },
  {
   "cell_type": "code",
   "execution_count": 252,
   "metadata": {},
   "outputs": [],
   "source": [
    "pt_aplha = (pt+ord('A')).tostring().decode('ascii')"
   ]
  },
  {
   "cell_type": "code",
   "execution_count": 253,
   "metadata": {},
   "outputs": [
    {
     "name": "stdout",
     "output_type": "stream",
     "text": [
      "ALLGAULISDIVIDEDINTOTHREEPARTSONEOFWHICHTHEBELGAEINHABITTHEAQUITANIANOTHERT\n",
      "HOSEWHOINTHEIROWNLANGUAGEARECALLEDCELTSINOURGAULSTHETHIRDALLTHESEDIFFERFROM\n",
      "EACHOTHERINLANGUAGECUSTOMSANDLAWSTHERIVERGARONNESEPARATESTHEGAULSFROMTHEAQU\n",
      "ITANITHEMARNEANDTHESEINESEPARATETHEMFROMTHEBELGAEOFALLTHESETHEBELGAEARETHEB\n",
      "RAVESTBECAUSETHEYAREFURTHESTFROMTHECIVILIZATIONANDREFINEMENTOFOURPROVINCEAN\n",
      "DMERCHANTSLEASTFREQUENTLYRESORTTOTHEMANDIMPORTTHOSETHINGSWHICHTENDTOEFFEMIN\n",
      "ATETHEMINDANDTHEYARETHENEARESTTOTHEGERMANSWHODWELLBEYONDTHERHINEWITHWHOMTHE\n",
      "YARECONTINUALLYWAGINGWARFORWHICHREASONTHEHELVETIIALSOSURPASSTHERESTOFTHEGAU\n",
      "LSINVALORASTHEYCONTENDWITHTHEGERMANSINALMOSTDAILYBATTLESWHENTHEYEITHERREPEL\n",
      "THEMFROMTHEIROWNTERRITORIESORTHEMSELVESWAGEWARONTHEIRFRONTIERSONEPARTOFTHES\n",
      "EWHICHITHASBEENSAIDTHATTHEGAULSOCCUPYTAKESITSBEGINNINGATTHERIVERRHONEITISBO\n",
      "UNDEDBYTHERIVERGARONNETHEOCEANANDTHETERRITORIESOFTHEBELGAEITBORDERSTOOONTHE\n",
      "SIDEOFTHESEQUANIANDTHEHELVETIIUPONTHERIVERRHINEANDSTRETCHESTOWARDTHENORTHTH\n",
      "EBELGAERISESFROMTHEEXTREMEFRONTIEROFGAULEXTENDTOTHELOWERPARTOFTHERIVERRHINE\n",
      "ANDLOOKTOWARDTHENORTHANDTHERISINGSUNAQUITANIAEXTENDSFROMTHERIVERGARONNETOTH\n",
      "EPYRENAEANMOUNTAINSANDTOTHATPARTOFTHEOCEANWHICHISNEARSPAINITLOOKSBETWEENTHE\n",
      "SETTINGOFTHESUNANDTHENORTHSTARAB\n"
     ]
    }
   ],
   "source": [
    "string = pt_aplha\n",
    "length = 75\n",
    "list_of_strings = []\n",
    "for i in range(0, len(string), length):\n",
    "    list_of_strings.append(string[i:length+i])\n",
    "\n",
    "for i in list_of_strings:\n",
    "    print(i)"
   ]
  },
  {
   "cell_type": "markdown",
   "metadata": {},
   "source": [
    "#### CBC test\n",
    "need to finish this   "
   ]
  },
  {
   "cell_type": "code",
   "execution_count": 254,
   "metadata": {},
   "outputs": [],
   "source": [
    "msg_block = np.array_split(PT_int, len(PT_int)/block_size)"
   ]
  },
  {
   "cell_type": "raw",
   "metadata": {},
   "source": [
    "ct = []\n",
    "last_ct_block = np.zeros(int(block_size/2),dtype=np.uint8) # to start, initialize as zeros \n",
    "\n",
    "for i in msg_block:\n",
    "    current_block_ct = encrypt_CBC(i,key_int,last_ct_block).astype(np.uint8)\n",
    "    last_ct_block = current_block_ct  # save for next time through the loop\n",
    "    ct = np.append(ct,current_block_ct) #, dtype=np.uint8)"
   ]
  },
  {
   "cell_type": "code",
   "execution_count": null,
   "metadata": {},
   "outputs": [],
   "source": []
  },
  {
   "cell_type": "code",
   "execution_count": null,
   "metadata": {},
   "outputs": [],
   "source": []
  },
  {
   "cell_type": "code",
   "execution_count": null,
   "metadata": {},
   "outputs": [],
   "source": []
  },
  {
   "cell_type": "markdown",
   "metadata": {},
   "source": [
    "## 5) Cryptanalysis <a id=\"section5\"></a>\n",
    "\n",
    "- frequency analysis of CT   \n",
    "- bad keys, null case message\n",
    "- reverse walk through with various assumptions about knowedge of PT, CT and key\n",
    "\n",
    "\n",
    "\n",
    "will not do a mathematical analysis but more of walk through based on assumptions.  various levels of knowedge about the key and the cipher algorithum.\n",
    "\n",
    "Also look at some special cases:  bad key, null key, repeating data, null data, \n",
    "\n",
    "\n",
    "Modern cryptography is heavily based on mathematical theory and computer science practice; cryptographic algorithms are designed around computational hardness assumptions, making such algorithms hard to break in actual practice by any adversary. While it is theoretically possible to break into a well-designed such system, it is infeasible in actual practice to do so. Such schemes, if well designed, are therefore termed \"computationally secure\"; theoretical advances, e.g., improvements in integer factorization algorithms, and faster computing technology require these designs to be continually reevaluated, and if necessary, adapted. There exist information-theoretically secure schemes that provably cannot be broken even with unlimited computing power =— an example is the one-time pad —- but these schemes are much more difficult to use in practice than the best theoretically breakable but computationally secure schemes.\n",
    "\n",
    "The goal of cryptanalysis is to find some weakness or insecurity in a cryptographic scheme, thus permitting its subversion or evasion.\n",
    "\n",
    "It is a common misconception that every encryption method can be broken. In connection with his WWII work at Bell Labs, Claude Shannon proved that the one-time pad cipher is unbreakable, provided the key material is truly random, never reused, kept secret from all possible attackers, and of equal or greater length than the message.[50] Most ciphers, apart from the one-time pad, can be broken with enough computational effort by brute force attack, but the amount of effort needed may be exponentially dependent on the key size, as compared to the effort needed to make use of the cipher. In such cases, effective security could be achieved if it is proven that the effort required (i.e., \"work factor\", in Shannon's terms) is beyond the ability of any adversary. This means it must be shown that no efficient method (as opposed to the time-consuming brute force method) can be found to break the cipher. Since no such proof has been found to date, the one-time-pad remains the only theoretically unbreakable cipher.\n",
    "\n",
    "There are a wide variety of cryptanalytic attacks, and they can be classified in any of several ways. A common distinction turns on what Eve (an attacker) knows and what capabilities are available. In a ciphertext-only attack, Eve has access only to the ciphertext (good modern cryptosystems are usually effectively immune to ciphertext-only attacks). In a known-plaintext attack, Eve has access to a ciphertext and its corresponding plaintext (or to many such pairs). In a chosen-plaintext attack, Eve may choose a plaintext and learn its corresponding ciphertext (perhaps many times); an example is gardening, used by the British during WWII. In a chosen-ciphertext attack, Eve may be able to choose ciphertexts and learn their corresponding plaintexts.[4] Finally in a man-in-the-middle attack Eve gets in between Alice (the sender) and Bob (the recipient), accesses and modifies the traffic and then forwards it to the recipient.[51] Also important, often overwhelmingly so, are mistakes (generally in the design or use of one of the protocols involved).\n",
    "\n",
    "Cryptanalysis of symmetric-key ciphers typically involves looking for attacks against the block ciphers or stream ciphers that are more efficient than any attack that could be against a perfect cipher. For example, a simple brute force attack against DES requires one known plaintext and 255 decryptions, trying approximately half of the possible keys, to reach a point at which chances are better than even that the key sought will have been found. But this may not be enough assurance; a linear cryptanalysis attack against DES requires 243 known plaintexts (with their corresponding ciphertexts) and approximately 243 DES operations.[52] This is a considerable improvement over brute force attacks.\n",
    "\n",
    "\n",
    "\n",
    "\n",
    "\n",
    "Substitution cipher  \n",
    "https://en.wikipedia.org/wiki/Substitution_cipher  \n",
    "\n",
    "Other S-boxes   \n",
    "https://en.wikipedia.org/wiki/Rijndael_S-box\n",
    "https://en.wikipedia.org/wiki/Kaisa_Nyberg  \n",
    " \n",
    "\n",
    "- weakness distinct ciphertexts are not produced when the same plaintext is encrypted multiple times independently with the same key\n",
    "\n",
    "- look at statistics\n",
    "\n",
    "Addition discussion about the S-box is in the Cryptanalysis section below.  Can talk about\n",
    "- what if the mixer was an itentiy matrix, \n",
    "- can the S-box be walked through in reveirse?\n",
    "- review the lituriture\n",
    "\n"
   ]
  },
  {
   "cell_type": "code",
   "execution_count": 255,
   "metadata": {},
   "outputs": [],
   "source": [
    "# using collections.Counter() to get  \n",
    "# count of each element in string  \n",
    "res = Counter(ct_aplha) "
   ]
  },
  {
   "cell_type": "code",
   "execution_count": 256,
   "metadata": {},
   "outputs": [],
   "source": [
    "sorted_dict = {key: value for key, value in sorted(res.items())}"
   ]
  },
  {
   "cell_type": "raw",
   "metadata": {},
   "source": [
    "for key in sorted(res):\n",
    "    print(\"%s: %s\" % (key, res[key]))\n",
    "  "
   ]
  },
  {
   "cell_type": "code",
   "execution_count": 257,
   "metadata": {},
   "outputs": [
    {
     "data": {
      "image/png": "[encoded data removed]",
      "text/plain": [
       "<Figure size 432x288 with 1 Axes>"
      ]
     },
     "metadata": {
      "needs_background": "light"
     },
     "output_type": "display_data"
    }
   ],
   "source": [
    "plt.bar(range(len(sorted_dict)), sorted_dict.values(), align='center')\n",
    "plt.xticks(range(len(sorted_dict)), list(sorted_dict.keys()))\n",
    "plt.show()"
   ]
  },
  {
   "cell_type": "code",
   "execution_count": null,
   "metadata": {},
   "outputs": [],
   "source": []
  },
  {
   "cell_type": "code",
   "execution_count": 258,
   "metadata": {},
   "outputs": [],
   "source": [
    "# count common double characters, such as th, ll \n",
    "res1 = Counter(ct_aplha[idx : idx + 2] for idx in range(len(ct_aplha) - 1)) "
   ]
  },
  {
   "cell_type": "code",
   "execution_count": 259,
   "metadata": {},
   "outputs": [],
   "source": [
    "res1_sorted = dict(sorted(res1.items(), key=lambda item: item[1],reverse=True))"
   ]
  },
  {
   "cell_type": "code",
   "execution_count": 260,
   "metadata": {},
   "outputs": [],
   "source": [
    "res1_sorted_sliced = dict(itertools.islice(res1_sorted.items(), 50))"
   ]
  },
  {
   "cell_type": "code",
   "execution_count": 261,
   "metadata": {},
   "outputs": [
    {
     "data": {
      "image/png": "[encoded data removed]",
      "text/plain": [
       "<Figure size 720x144 with 1 Axes>"
      ]
     },
     "metadata": {
      "needs_background": "light"
     },
     "output_type": "display_data"
    }
   ],
   "source": [
    "fig = plt.figure(figsize=(10, 2))\n",
    "ax = fig.add_subplot(111)\n",
    "\n",
    "plt.bar(range(len(res1_sorted_sliced)), res1_sorted_sliced.values(), align='center')\n",
    "plt.xticks(range(len(res1_sorted_sliced)), list(res1_sorted_sliced.keys()))\n",
    "plt.xticks(rotation=90)\n",
    "plt.autoscale(enable=True, axis='x')\n",
    "plt.show()"
   ]
  },
  {
   "cell_type": "code",
   "execution_count": null,
   "metadata": {},
   "outputs": [],
   "source": []
  },
  {
   "cell_type": "markdown",
   "metadata": {},
   "source": [
    "Split CT into blocks of characters for printing"
   ]
  },
  {
   "cell_type": "code",
   "execution_count": null,
   "metadata": {},
   "outputs": [],
   "source": []
  },
  {
   "cell_type": "code",
   "execution_count": 262,
   "metadata": {},
   "outputs": [
    {
     "name": "stdout",
     "output_type": "stream",
     "text": [
      "BEZBYIGKMNLSRPHZOIQCMBIZSKWABPCVGVOYIHEYRCJNUVJRVS\n",
      "BSNZOBACIJRGGUYQOXPHEQAPKQQUXFYMDJLZNSMQKIGYMEBWKG\n",
      "EEVKCTAPIKUMXKLUTSREUIOYTJTGZOVBWSULRRFJAPEQAZPYMO\n",
      "AKSOXLGGFHTFWWYBRLDXSTFDQTTAMFKUQZNYZKBXSKWGWPOKIK\n",
      "NOFIXFMFTZWGNMWEVURVSOSJCMVLJOGXSEQBCLZSHLFDGQJGWB\n",
      "MPBXUNJFHJIGXODJEZKQYMKRZLEVWQDTPKTIOYMRQSSECTHISE\n",
      "HSKNEBZHZQTUAHPWYIZKRFBWFEFRSNJFUHOTOCITFNZZMBFXBN\n",
      "NYGHOMUXMIWVYZQEZJPLPOZOPWCPJUTXXIHCBURHCMJHNFWRCL\n",
      "FFLWRIKWVNCCYLOANYHROZFOTNKHZWRBCGSUFXAEGDZALRGVXA\n",
      "JDJLICKRQTIESXMCWVESTKFXNWOMXSDCQRCZZVQFAIEONZCVVI\n",
      "\n",
      "GDEJOIESYXEISBXXIAWBNERPQFLYJXSKCEGFCQQZOULJMISJSU\n",
      "UOYPIVTHRMWUJZAIAROGPYZMSNMAJPMWMIJBMHRUTLJJPXKSIP\n",
      "UVFKOGMTWUFHMUKVSSHEGQRAIYZRUKXSJWRWVRGYPBULYAVQRQ\n",
      "AZPWWYHYGZOZKHSMJRQVENSZGWNFNSONIUUQNRYNKTSHCAKIPB\n",
      "PJIQEEILBCDQQGEUPKQMAJJPFCIAMNRCKMKHTRXLUTJKCBWLGD\n",
      "ZWOCHHTRRPAQMJKFVPCWJENTITOFUQZXDZGMNUNEZVONCKJVBI\n",
      "GMWJHBECJWHNZYQZNQXCGWTFICRKZXEQCYIGQIYUCQTINYAAMI\n",
      "JXQZMCBSWEUUWQTKHQWBWRURYNDGICPZLQFVFOUSSEVQZXEWRX\n",
      "XBVFKLSJTDGIILMUEIOVXRMTIAREBMDSVVECHCBGJEFGJKWLKU\n",
      "OMCASFEZVGKJLLQNKJOYVHUDLNXSOPNWVJTQAQNPBDTOTCCGWL\n",
      "\n",
      "DBNIAAIZZGXIVYVRYWFOWQEFDYPLBQEGGKSEMGBAMHRHQZKGRU\n",
      "KAQNFIQXRBSVJOUFAOGKABMLOISNAWSXUSUCSTDDVTZMMQNAKI\n",
      "IMUSRQXOFFRVRCPWRQPYAJQVBSIOWVKHVUDDIGEJMVFVXXTOMH\n",
      "NCYWCDYIFUNRWCDBJTPUDJDZPTMTPCAUIAQNITBBGCJNTGRKER\n",
      "AXLTQPGNORGPFLGGOECOTRDTAGGVKYWC\n"
     ]
    }
   ],
   "source": [
    "string = ct_aplha\n",
    "length = 50\n",
    "list_of_strings = []\n",
    "for i in range(0, len(string), length):\n",
    "    list_of_strings.append(string[i:length+i])\n",
    "\n",
    "j = 0\n",
    "for i in list_of_strings:\n",
    "    print(i)\n",
    "    j+=1\n",
    "    if (j % 10) == 0:\n",
    "        print()"
   ]
  },
  {
   "cell_type": "markdown",
   "metadata": {},
   "source": [
    "- Key generation\n",
    "\n",
    "Special cases  \n",
    "- bad keys: all zero key or repeating character key\n",
    "- repeating character plain text or all zeros plain text\n",
    "\n",
    "\n",
    "What Is Linear Cryptanalysis?   \n",
    "https://vivadifferences.com/difference-between-linear-and-differential-cryptanalysis/#:~:text=Linear%20cryptanalysis%20focuses%20on%20statistical,outputs%20of%20a%20cryptographic%20algorithm.   \n",
    "What Is Linear Cryptanalysis?   \n",
    "Linear cryptanalysis is a known plaintext attack, in which the attacker studies probabilistic linear relations known as linear approximations between parity bits of the plaintext, the Ciphertext and the secrete key.\n",
    "\n",
    "In this technique, the attacker obtains high probability approximations for the parity bit of the secrete key by analyzing the parity bits of the known plaintexts and ciphertexts. By use of several techniques such as the auxiliary technique, the attacker can extend the attack to find more bits of the secret key.\n",
    "\n",
    "Linear cryptanalysis together with differential cryptanalysis are the most widely used attacks on block ciphers. The linear cryptanalysis technique was first discovered by Mitsuru Matsui who first applied it to the FEAL cipher.\n",
    "\n",
    "There are usually two parts to linear cryptanalysis; the first is to construct linear equations relating to plaintext, Ciphertext and key bits that have a high bias; that is whose probabilities of holding are as close as possible to 0 0r 1. The second part is to use these linear equations in conjunction with known plaintext-ciphertext pairs to drive key bits.\n",
    "\n",
    "What is Differential Cryptanalysis?  \n",
    "Differential cryptanalysis can be described as a general form of cryptanalysis that is primarily applicable to block ciphers, cryptographic hash functions. In other words, it entails a careful analysis of how differences in information input can affect the resulting difference at the output.\n",
    "\n",
    "In block cipher, differential analysis can be described as a set of techniques for tracing differences through the network of transformation, discovering where the cipher exhibits what is known as non-random behavior and exploiting such details to recover the secrete key (cryptography key).\n",
    "\n",
    "For any particular cipher, the input difference must be keenly selected for the attack to be successful. An analysis of the algorithm’s internals is undertaken; the standard method is to trace a path of highly probable differences through the various stages of encryption, referred to as differential characteristic. In the process, observing the desired output difference between the two chosen or unknown plaintext inputs suggests possible key values.\n",
    "\n",
    "\n",
    "Cryptanalysis   \n",
    "https://en.wikipedia.org/wiki/Cryptanalysis   \n",
    "\n",
    "Could knowing the CT and PT lead to the key or algorithum?  How much CT or PT would be needed?  \n",
    "Key length and P-table size.  \n",
    "\n",
    "\n",
    "What are the simularities between Zodic, egnima and the DES S-box?  \n",
    "\n",
    "replacing Zodic cipher symbols with computer symboles \n",
    "The Z340 cipher has 340 characters consisting of 63 different symbols. In this project, we have\n",
    "translated the symbols to a numeric form, where each unique symbol is assigned a unique\n",
    "number. The Z340 cipher translated into the numeric form is shown below in Table 1. In the\n",
    "translated form, the number 1 in row 1 corresponds to the first symbol “H” in the cipher.\n",
    "Similarly, the number 2 corresponds to the symbol “E” and the number 3 and 4 corresponds to\n",
    "the symbols “R” and “>”, respectively, and so on. \n"
   ]
  },
  {
   "cell_type": "code",
   "execution_count": null,
   "metadata": {},
   "outputs": [],
   "source": []
  },
  {
   "cell_type": "markdown",
   "metadata": {},
   "source": [
    "## 6) Conclusion <a id=\"section6\"></a>\n",
    "\n",
    "\n",
    "Other variations, encrypt numbers like social security numbers, phone numbers, pad lock combinations, credit-card numbers etc.  The alphebet would consist of only the digits 0 through 9."
   ]
  },
  {
   "cell_type": "code",
   "execution_count": null,
   "metadata": {},
   "outputs": [],
   "source": []
  },
  {
   "cell_type": "markdown",
   "metadata": {},
   "source": [
    "## 7) References <a id=\"section7\"></a>\n",
    "\n",
    "\n",
    "Some python code to implement some character based encryption code.  The Zodiac killer's Z340 Cipher was decrypted on December 5, 2020.  \n",
    "https://www.youtube.com/watch?v=-1oQLPRE21o  \n",
    "see time at 4:43 for key  \n",
    "some letters are equal to themselved and others can be equal to several characters.  \n",
    "\n",
    "\n",
    "The Enigma machine is a stream characher cypher where a different substitution alphabet is used for every letter in the message.\n",
    "\n",
    "The plan is to build a character based block cypher.  Character set is A to Z, all caps.  Block size is the same as the key length.\n",
    "\n",
    "\n",
    "\n",
    "\n",
    "links  \n",
    "\n",
    "DES links   \n",
    "https://en.wikipedia.org/wiki/Data_Encryption_Standard\n",
    "\n",
    "https://en.wikipedia.org/wiki/DES_supplementary_material  \n",
    "\n",
    "https://en.wikipedia.org/wiki/S-box\n",
    "\n",
    "https://en.wikipedia.org/wiki/Feistel_cipher  \n",
    "\n",
    "A pure Python academic-only implementation of the DES cipher.  \n",
    "https://gist.github.com/Xpktro/6549868  \n",
    "\n",
    "need a nonlinear mapping for one character to another.  \n",
    "could just transpose some bits in the character for the S-Box and still return a valid character.\n",
    "\n",
    "SDES S-Box example:  See video at 12:57 \n",
    "Basics of Cryptology – Part 9 (Modern Cryptography – Block Ciphers – Feistel Ciphers & SDES)   \n",
    "https://www.youtube.com/watch?v=wVm7mANbdgw  \n",
    "basically the input data is used as a pointer into a table of random numbers. \n",
    "\n",
    "Zodic Killer\n",
    "\n",
    "https://en.wikipedia.org/wiki/Zodiac_Killer\n",
    "\n",
    " \"Zodiac '340 Cipher' cracked by code experts 51 years after it was sent to the S.F. Chronicle\". SFChronicle.com. December 11, 2020. Retrieved December 11, 2020.\n",
    " \n",
    "Wikipedia contributors. (2021, January 6). Zodiac Killer. In Wikipedia, The Free Encyclopedia. Retrieved 17:00, January 7, 2021, from https://en.wikipedia.org/w/index.php?title=Zodiac_Killer&oldid=998571173   \n",
    "\n",
    "Let's Crack Zodiac - Episode 5 - The 340 Is Solved!\n",
    "David Oranchak\n",
    "Dec 11, 2020\n",
    "https://www.youtube.com/watch?v=-1oQLPRE21o&t=283s   \n",
    "use this format for cite:   \n",
    "“Title of Video.” YouTube, uploaded by Name of YouTube Account, Day Month Year, URL.  \n",
    "“Prevent Plagiarism in 5 Steps.” YouTube, uploaded by Chegg, 15 Nov. 2018, www.youtube.com/watch?v=6lxBP1LtFDY.  \n",
    "\n",
    "\n",
    "Other links   \n",
    "\n",
    "\n",
    "http://www.ijste.org/articles/IJSTEV1I10028.pdf\n",
    "\n",
    "https://www.di-mgt.com.au/cryptoInternational2.html\n",
    "\n",
    "https://doc.sagemath.org/html/en/reference/cryptography/sage/crypto/block_cipher/sdes.html  \n",
    "\n",
    "https://www.jotse.org/index.php/jotse/article/view/491/404   \n",
    "\n",
    "\n",
    "\n",
    "\n",
    "**IEEE style guied for references**   \n",
    "The template will number citations consecutively within brackets [1]. The sentence punctuation follows the bracket [2]. Refer simply to the reference number, as in [3]—do not use “Ref. [3]” or “reference [3]” except at the beginning of a sentence: “Reference [3] was the first ...”  \n",
    "\n",
    "Unless there are six authors or more give all authors’ names; do not use “et al.”. Papers that have not been published, even if they have been submitted for publication, should be cited as “unpublished” [4]. Papers that have been accepted for publication should be cited as “in press” [5]. Capitalize only the first word in a paper title, except for proper nouns and element symbols.\n",
    "\n",
    "1. G. Eason, B. Noble, and I. N. Sneddon, “On certain integrals of Lipschitz-Hankel type involving products of Bessel functions,” Phil. Trans. Roy. Soc. London, vol. A247, pp. 529–551, April 1955.    \n",
    "2. J. Clerk Maxwell, A Treatise on Electricity and Magnetism, 3rd ed., vol. 2. Oxford: Clarendon, 1892, pp.68–73."
   ]
  },
  {
   "cell_type": "code",
   "execution_count": null,
   "metadata": {},
   "outputs": [],
   "source": []
  }
 ],
 "metadata": {
  "kernelspec": {
   "display_name": "Python 3",
   "language": "python",
   "name": "python3"
  },
  "language_info": {
   "codemirror_mode": {
    "name": "ipython",
    "version": 3
   },
   "file_extension": ".py",
   "mimetype": "text/x-python",
   "name": "python",
   "nbconvert_exporter": "python",
   "pygments_lexer": "ipython3",
   "version": "3.7.3"
  }
 },
 "nbformat": 4,
 "nbformat_minor": 2
}
