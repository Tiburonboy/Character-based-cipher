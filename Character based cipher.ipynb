{
 "cells": [
  {
   "cell_type": "markdown",
   "metadata": {},
   "source": [
    "# Character based cipher\n",
    "Last update: 25 Jan 2020  \n",
    "change name to Character based cipher  \n",
    "\n",
    "## Abstract\n",
    "This paper documents an educational project that implements a cipher based on a two round Feistel structure and operates on characters instead of bits.  The character set is the English alphabet consisting of 26 letters, A to Z; all other characters and spaces are removed before processing.      \n",
    "\n",
    "## 1) Introduction\n",
    "The purpose of the paper is to document a coding project that implements a character based encryption scheme.  This is an educational project for exploring aspects of the Feistel structure.  The code developed here is not intended to implement a secure encryption scheme, only to explore and document some interesting aspects of encryption.  The code will take as plain text input, blocks of text consisting of characters A to Z, and output ciphertext blocks, also consisting of characters A to Z.  The code will strip any non-alpha characters from the input text before encipherment.  \n",
    "\n",
    "Encryption is the process of encoding information so that converts the original of the information, known as plaintext into into an alternative form known as ciphertext.  The ciphertext is what is transmitted to prevent third parties or the public from reading private messages [1].  \n",
    "\n",
    "In December 2020, the Zodiac cipher, Z340, was solved after more than 51 years and a very interesting YouTube video on the solution was published [2].  The solution to solving the cypher was a combination of brute force and hill climbing.  The cypher was meant to be eventually decoded, otherwise why would the Zodiac send it?  But the cypher turned out to be very difficult and the solution involved lots of computer time employing random trials.  As bits of the message were uncovered, these were used as clues to help solve the remaining message.  \n",
    "\n",
    "Zodiac’s first cypher was solved on August 8, 1969, by Donald and Betty Harden of Salinas, California. David Oranchak has a very interesting video on the history and solution of this cipher [3]. The first cipher, given the name, Z408, since there were 408 characters in the message.  The cipher was divided into three parts and each part wassent to a different news papers.  Each part of the cipher had 17 columns and 8 rows of symbols for a total of 408 symbols.  54 different symboles were used in the message.  The key for the solved cipher had some letters encoded by different symbols, which is called subsitution with suppression of frequencies.  Since individual letter frequencies were supressed, Donald and Betty focused on double symbols in the cipher and they look for a four letter pattern that would fit the word KILL.  Eventyually they solved the Z340 cipher and sent their solution into the news paper, who passed the solution onto the police.\n",
    "  \n",
    "<img src='Z408 hand drawn.jpg' width=\"400\"/>   \n",
    "Figure 1: The solution key to the Z408 cipher.  \n",
    "\n",
    "The second cypher, Z340, was 340 symbols long with 63 different symbols.  Both the Z408 and the Z340 ciphers were extinsivally studied with the thought that some clues from the Z408 solution could be used to solve the Z340 cipher.  Eventually, by trial and error, it was suspected that the symbols in the Z340 cipher might be interleaved somehow. David Oranchak's video on the Z340 describes the solution to the cipher.     \n",
    "  \n",
    "<img src='Z340 hand drawn.jpg' width=\"400\"/>  \n",
    "Figure 2: The solution key to the Z340 cipher.   \n",
    "\n",
    "The Zodiac wanted the Z340 to be harder to decode, but did he suspect that it would remain unread for so long?  \n",
    "\n",
    "There are other well know examples of ciphers that operate on characters.  The Playfair[4] and the German Enigma[5] are examples of character based cyphers.  These ciphers were used prior to the modern computer era.  \n",
    "\n",
    "The Playfair cipher is encrypts pairs of letters and is harder to break than simple substitution ciphers.  This is because frequency analysis does not work with this cipher.  Breaking the cipher by hand required a lot of work, however, by using modern computers and using a shotgun hill climbing method, the cipher can be broken quickely.  \n",
    "\n",
    "The German Enigma is a cipher that uses a typewriter based machine to encode and decode the messages.  Each press of the keyboard causes the machine state to advance and implement a polyalphabetic substitution cipher.  Polish, British and eventually Americam criptogeraphers spent concerderable effort during World War II to break the German Enigma.   \n",
    "\n",
    "Watching David Oranchak's video on the solution of the Z340 got me interested in looking at cyphers.  In this programming project, we are not going to invent a new cipher.  We are going to use the well known Feistel network and use some ideas from the Data Encryption Standard [6][7] that operates on characters as opposed to binary data.  \n",
    "\n",
    "The goal of this programming project is to design a character based cipher based on two rounds of a Feistel network.  It would not be secure by present day standards.  A cryptogram is a type of puzzle that consists of a short piece of encrypted text.  The cipher presented in this project could be used to generate cryptograms, however, I think such a cryptogram would be almost impossible to break by hand.  Later I will present an analysis of the cipher and some comments on attacking it.    \n",
    "\n",
    "The Feistel network is a data flow map which can be used to construct a block cipher[8].  The cipher structer is named after the German-born physicist and cryptographer Horst Feistel who did pioneering research while working for IBM and several well known ciphers use the Feistel network.  In most implementations binary data is processed as bits, but in this project, characters will be processed as the unit8 type data.  The Figure 3, below shows the Feistel network.\n",
    "\n",
    "<img src='Feistel network.jpg' width=\"400\"/>  \n",
    "Figure 3: Feistel cipher diagram \n",
    "\n",
    "The input data is divided into blocks, which are divided into half blocks, Left and Right.  The Right half block is passed through the function F(), called the Feistel function, and then XOR'ed with the Left half block.  As shown Figure, there is an additional application of the XOR and F().  The Left and Right out puts when combined is the encrypted data block.  The Feistel network is invertible, even if the round function is not itself invertible.\n",
    "\n",
    "**Scope**  \n",
    "The cipher presented in this paper is not designed to be secure by modern standards.  The purpose of the project is to explore selected acpects of cryptography.  Cryptography is heavily based on mathematical theory and computer science practice, in this paper we will not be offering any mathamatic proofs.  A second goal of the project is to test the use JupyterLab as a medium to write a technical paper.\n",
    "\n",
    "**Contents**  \n",
    "2. [Preliminaries](#section2)\n",
    "3. [Design](#section3)\n",
    "4. [Test message](#section4)\n",
    "5. [Algorithm analysis](#section5)\n",
    "6. [Ciphertext attack](#section6)  \n",
    "7. [Plaintext attack](#section7)   \n",
    "8. [Conclusion](#section8)\n",
    "9. [References](#section9)\n",
    "\n",
    "The following python libraries are used in this project.   \n",
    "- Collections: a python module that supplies different types of containers for access and iteration\n",
    "- Counter: used to keep the count of the elements\n",
    "- itertools: a python module that provids functions that work on iterators\n",
    "- NumPy: a python library used for working with arrays\n",
    "- Matplotlib: a library for creating graphs and plots  \n",
    "- scipy.special import comb: calculates the number of combinations of N things taken k at a time. \n",
    "- from Crypto.Hash import SHA256: takes an arbitrary binary strings as input and produce a random-like fixed-length output (called digest or hash value)\n",
    "- import random as rnd: this module implements pseudo-random number generators.  The secrets module should be used if actual cryptographic strength was needed, but not necessary for a study paper.\n",
    "- pickle:\n",
    "\n",
    "**Revisions**  \n",
    "- 1/22/2021: Reorganized notebooks, now have notebooks for Algorithm analysis, CT attack, PT attack and N-gram analysis.  Files were getting big and some were taking too long to load.   "
   ]
  },
  {
   "cell_type": "code",
   "execution_count": 1,
   "metadata": {},
   "outputs": [],
   "source": [
    "from collections import Counter\n",
    "import itertools\n",
    "import numpy as np\n",
    "import matplotlib.pyplot as plt\n",
    "from scipy.special import comb\n",
    "from Crypto.Hash import SHA256\n",
    "import random as rnd\n",
    "import pickle\n",
    "from scipy.stats import chisquare"
   ]
  },
  {
   "cell_type": "markdown",
   "metadata": {},
   "source": [
    "## 2) Preliminaries <a id=\"section2\"></a>\n",
    "This section of the paper will cover some preliminary topics that are required for the operation of the cipher.  Since this paper also contain python code, there are variables, functions and data that need to be declared first.  These are describe in greater detail in the various subsections.  \n",
    "\n",
    "The block size in this implementation is 16 characters long and the total character count is padded to bring the total length of the message to a multiple of the block size.  \n",
    "\n",
    "- 2.a) [Test message](#section2a)\n",
    "- 2.b) [Letter frequency](#section2b)\n",
    "- 2.c) [Character encoding for processing](#section2c)  \n",
    "- 2.d) [Key generation](#section2d)\n",
    "- 2.e) [Character XOR](#section2e)\n",
    "- 2.f) [Mixer matrix](#section2f)\n",
    "- 2.g) [S-box](#section2g)\n",
    "- 2.h) [P-table](#section2h)\n",
    "- 2.i) [Feistel function](#section2i)\n"
   ]
  },
  {
   "cell_type": "markdown",
   "metadata": {},
   "source": [
    "### 2.a) Test message <a id=\"section2a\"></a>\n",
    "The test message used for this project is the English translation of the first chapter from Julius Caesar's account of the Gallic Wars [9][10].  In Latin, it begins with \"Gallia est omnis divisa in partes tres\", meaning \"All Gaul is divided into three parts\".  After the text file is read into memory, all the non-letter characters (numbers, spaces and puncuation) are removed and all letters are converted to upper case.  Then the message is padded to make the length equal to an even multiple of the block length. The test message then consists of list of upper case letters without spaces between the words.\n",
    "\n",
    "All the spaces and puctutation are removed to reduce the message to just the essential elements.  Upper case was used to make the message look more crypto like.  There is a sculpture located on the grounds of the Central Intelligence Agency (CIA) in Langley which has four encrypted messages, in all capital letters [11].       \n",
    "\n",
    "Chapter 1 of Caesar's Gallic Wars was chosed as the test message in a nod to the cipher named after him.  A simple subsition cipher is sometimes called a Caesar cipher.  Each letter in the plaintext is replaced by a letter some fixed number of positions down the alphabet [12].\n",
    "\n",
    "The following code reads in the test message and does the conversion and padding as described."
   ]
  },
  {
   "cell_type": "code",
   "execution_count": 2,
   "metadata": {},
   "outputs": [],
   "source": [
    "# open the test message\n",
    "message = open('Commentarii_de_Bello_Gallico.txt', 'r').read()"
   ]
  },
  {
   "cell_type": "code",
   "execution_count": 3,
   "metadata": {},
   "outputs": [
    {
     "name": "stdout",
     "output_type": "stream",
     "text": [
      "All Gaul is divided into three parts, one of which the Belgae inhabit, the \n",
      "Aquitani another, those who in their own language are called Celts, in our \n",
      "Gauls, the third. All these differ from each other in language, customs and\n",
      " laws. The river Garonne separates the Gauls from the Aquitani; the Marne a\n",
      "nd the Seine separate them from the Belgae. Of all these, the Belgae are th\n",
      "e bravest, because they are furthest from the civilization and refinement o\n",
      "f our Province, and merchants least frequently resort to them, and import t\n",
      "hose things which tend to effeminate the mind; and they are the nearest to \n",
      "the Germans, who dwell beyond the Rhine, with whom they are continually wag\n",
      "ing war; for which reason the Helvetii also surpass the rest of the Gauls i\n",
      "n valor, as they contend with the Germans in almost daily battles, when the\n",
      "y either repel them from their own territories, or themselves wage war on t\n",
      "heir frontiers. One part of these, which it has been said that the Gauls oc\n",
      "cupy, takes its beginning at the river Rhone; it is bounded by the river Ga\n",
      "ronne, the ocean, and the territories of the Belgae; it borders, too, on th\n",
      "e side of the Sequani and the Helvetii, upon the river Rhine, and stretches\n",
      " toward the north. The Belgae rises from the extreme frontier of Gaul, exte\n",
      "nd to the lower part of the river Rhine; and look toward the north and the \n",
      "rising sun. Aquitania extends from the river Garonne to the Pyrenaean mount\n",
      "ains and to that part of the ocean which is near Spain: it looks between th\n",
      "e setting of the sun, and the north star.\n"
     ]
    }
   ],
   "source": [
    "# print the test message\n",
    "string = message\n",
    "length = 75\n",
    "list_of_strings = []\n",
    "for i in range(0, len(string), length):\n",
    "    list_of_strings.append(string[i:length+i])\n",
    "\n",
    "for i in list_of_strings:\n",
    "    print(i)"
   ]
  },
  {
   "cell_type": "code",
   "execution_count": 4,
   "metadata": {},
   "outputs": [],
   "source": [
    "# remove non-letter characters and convert to upper case\n",
    "PT = ''.join(e for e in message if e.isalpha()).upper()"
   ]
  },
  {
   "cell_type": "code",
   "execution_count": 5,
   "metadata": {},
   "outputs": [
    {
     "name": "stdout",
     "output_type": "stream",
     "text": [
      "number of characters to padd the message:  2\n"
     ]
    }
   ],
   "source": [
    "# pad the message size to get to even multiple of the block size\n",
    "block_size = 16  # must be an even number\n",
    "pad_size = block_size - (len(PT) % block_size)\n",
    "if pad_size == block_size:\n",
    "    pad_size = 0\n",
    "print('number of characters to padd the message: ',pad_size)"
   ]
  },
  {
   "cell_type": "code",
   "execution_count": 6,
   "metadata": {},
   "outputs": [
    {
     "name": "stdout",
     "output_type": "stream",
     "text": [
      "new message length with padding:  1232\n",
      "number of message blocks:  77.0\n"
     ]
    }
   ],
   "source": [
    "padding = 'ABCDEFGHIJKLMNOPQRSTUVWXYZ'  # this could also be from a set of random characters unique to each message\n",
    "PT = PT + padding[0:pad_size]  # append necessary number of characters to end of the message\n",
    "print('new message length with padding: ',len(PT))\n",
    "print('number of message blocks: ',len(PT)/block_size)"
   ]
  },
  {
   "cell_type": "code",
   "execution_count": 7,
   "metadata": {},
   "outputs": [
    {
     "name": "stdout",
     "output_type": "stream",
     "text": [
      "ALLGAULISDIVIDEDINTOTHREEPARTSONEOFWHICHTHEBELGAEINHABITTHEAQUITANIANOTHERT\n",
      "HOSEWHOINTHEIROWNLANGUAGEARECALLEDCELTSINOURGAULSTHETHIRDALLTHESEDIFFERFROM\n",
      "EACHOTHERINLANGUAGECUSTOMSANDLAWSTHERIVERGARONNESEPARATESTHEGAULSFROMTHEAQU\n",
      "ITANITHEMARNEANDTHESEINESEPARATETHEMFROMTHEBELGAEOFALLTHESETHEBELGAEARETHEB\n",
      "RAVESTBECAUSETHEYAREFURTHESTFROMTHECIVILIZATIONANDREFINEMENTOFOURPROVINCEAN\n",
      "DMERCHANTSLEASTFREQUENTLYRESORTTOTHEMANDIMPORTTHOSETHINGSWHICHTENDTOEFFEMIN\n",
      "ATETHEMINDANDTHEYARETHENEARESTTOTHEGERMANSWHODWELLBEYONDTHERHINEWITHWHOMTHE\n",
      "YARECONTINUALLYWAGINGWARFORWHICHREASONTHEHELVETIIALSOSURPASSTHERESTOFTHEGAU\n",
      "LSINVALORASTHEYCONTENDWITHTHEGERMANSINALMOSTDAILYBATTLESWHENTHEYEITHERREPEL\n",
      "THEMFROMTHEIROWNTERRITORIESORTHEMSELVESWAGEWARONTHEIRFRONTIERSONEPARTOFTHES\n",
      "EWHICHITHASBEENSAIDTHATTHEGAULSOCCUPYTAKESITSBEGINNINGATTHERIVERRHONEITISBO\n",
      "UNDEDBYTHERIVERGARONNETHEOCEANANDTHETERRITORIESOFTHEBELGAEITBORDERSTOOONTHE\n",
      "SIDEOFTHESEQUANIANDTHEHELVETIIUPONTHERIVERRHINEANDSTRETCHESTOWARDTHENORTHTH\n",
      "EBELGAERISESFROMTHEEXTREMEFRONTIEROFGAULEXTENDTOTHELOWERPARTOFTHERIVERRHINE\n",
      "ANDLOOKTOWARDTHENORTHANDTHERISINGSUNAQUITANIAEXTENDSFROMTHERIVERGARONNETOTH\n",
      "EPYRENAEANMOUNTAINSANDTOTHATPARTOFTHEOCEANWHICHISNEARSPAINITLOOKSBETWEENTHE\n",
      "SETTINGOFTHESUNANDTHENORTHSTARAB\n"
     ]
    }
   ],
   "source": [
    "# print the converted test message\n",
    "string = PT\n",
    "length = 75\n",
    "list_of_strings = []\n",
    "for i in range(0, len(string), length):\n",
    "    list_of_strings.append(string[i:length+i])\n",
    "\n",
    "for i in list_of_strings:\n",
    "    print(i)"
   ]
  },
  {
   "cell_type": "markdown",
   "metadata": {},
   "source": [
    "### 2.b) Letter frequency <a id=\"section2b\"></a>\n",
    "The following code calculates the letter frequency in the test message.  Later in this paper we will see that the letter frequency is altered by the encryption.  Examining the letter frequency often can provide clues to the solution of a cryptogram.  This is especially true for substitution ciphers.  If the letter and bigram frequency in a message is not hidden, modern computer aided techniques can crack the message very quickely.\n",
    "\n",
    "The following code graphs the letter frequency and bigram frequency of the test mesage.  "
   ]
  },
  {
   "cell_type": "code",
   "execution_count": 8,
   "metadata": {},
   "outputs": [
    {
     "data": {
      "image/png": "[encoded data removed]",
      "text/plain": [
       "<Figure size 432x288 with 1 Axes>"
      ]
     },
     "metadata": {
      "needs_background": "light"
     },
     "output_type": "display_data"
    }
   ],
   "source": [
    "# using collections.Counter() to count of each element in string  \n",
    "mgram = Counter(PT) \n",
    "mgram['J'] = 0  # enclude missing letter J\n",
    "sorted_dict = {key: value for key, value in sorted(mgram.items())}\n",
    "\n",
    "# plot the historgram of the letter frequency\n",
    "plt.bar(range(len(sorted_dict)), sorted_dict.values(), align='center')\n",
    "plt.xticks(range(len(sorted_dict)), list(sorted_dict.keys()))\n",
    "plt.show()"
   ]
  },
  {
   "cell_type": "markdown",
   "metadata": {},
   "source": [
    "The graph above shows that in the test message, the letters E and T are the most frequent.  The primary weakness of a simple subsitution cipher is that the frequency of the letters are not altered and the letters A, E and T can be easily guessed."
   ]
  },
  {
   "cell_type": "code",
   "execution_count": 9,
   "metadata": {},
   "outputs": [
    {
     "name": "stdout",
     "output_type": "stream",
     "text": [
      "the standard deviation for frequncy of letters is: 47.04\n"
     ]
    }
   ],
   "source": [
    "print('the standard deviation for frequncy of letters is: {:.2f}'.format(np.std(np.array(list(mgram.values())))))"
   ]
  },
  {
   "cell_type": "markdown",
   "metadata": {},
   "source": [
    "Later we will see that the standard deviation of the letter frequency is much reduced after encryption.   "
   ]
  },
  {
   "cell_type": "code",
   "execution_count": null,
   "metadata": {},
   "outputs": [],
   "source": []
  },
  {
   "cell_type": "markdown",
   "metadata": {},
   "source": [
    "#### Chi-squared Statistic\n",
    "The chi-squared test is used to determine whether there is a significant difference between the expected frequencies and the observed frequencies.  The two sets of frequencies we are looking at are the letter frequencies of the message and the letter frequencies in normal english.\n",
    "\n",
    "A small chi square value means that letter frequencies of the message are strongly related to the letter frequencies in normal english.  A large chi square value means that the two frequencies are not well related.\n",
    "\n",
    "The p value is a measure of the goodness of the statistics being compared.  Many fields of science use 0.05 as the  threshold of significance.  In the application described in this paper, where letter frequency distributions are bing compared, the proper p value might be something greater than 0.05, but since since we don't want to spend a lot of time researching this subject, we will just use the widely accepted value of 0.05 without justification.   \n",
    "\n",
    "In cryptanalysis, the chi-squared test is used to compare the distribution of plaintext and (possibly) decrypted ciphertext. The lowest value of the test means that the decryption was successful with high probability."
   ]
  },
  {
   "cell_type": "code",
   "execution_count": 10,
   "metadata": {},
   "outputs": [],
   "source": [
    "f_obs = np.array(list(sorted_dict.values()))  # values from the mgram"
   ]
  },
  {
   "cell_type": "code",
   "execution_count": 11,
   "metadata": {},
   "outputs": [],
   "source": [
    "# English single letter frequencies, in percent %\n",
    "en_letter_freq = {'A':8.55, 'B':1.60, 'C':3.16, 'D':3.87, 'E':12.10, 'F':2.18, 'G':2.09, 'H':4.96,                \n",
    "    'I':7.33, 'J':0.22, 'K':0.81, 'L':4.21, 'M':2.53, 'N':7.17, 'O':7.47, 'P':2.07,\n",
    "    'Q':0.10, 'R':6.33, 'S':6.73, 'T':8.94, 'U':2.68, 'V':1.06, 'W':1.83, 'X':0.19, 'Y':1.72, 'Z':0.1 }"
   ]
  },
  {
   "cell_type": "code",
   "execution_count": 12,
   "metadata": {},
   "outputs": [],
   "source": [
    "f_exp = np.array(list(en_letter_freq.values())) * np.array(list(sorted_dict.values())).sum()/100"
   ]
  },
  {
   "cell_type": "code",
   "execution_count": 13,
   "metadata": {},
   "outputs": [
    {
     "name": "stdout",
     "output_type": "stream",
     "text": [
      "chisquare value: 97.98, p valaue: 1.373e-10\n"
     ]
    }
   ],
   "source": [
    "chi_value, pvalue = chisquare(f_obs, f_exp=f_exp)\n",
    "print('chisquare value: {:.2f}, p valaue: {:.3e}'.format(chi_value,pvalue))"
   ]
  },
  {
   "cell_type": "markdown",
   "metadata": {},
   "source": [
    "Observation: Comparing the unencrypted test message letter frequencies to normal English letter frequencies, we get a chisquare value of 97.98 and a p value of less than 0.05.  So we can conclude that the test message is probably normal English and not encrypted or just jibbershish.  "
   ]
  },
  {
   "cell_type": "markdown",
   "metadata": {},
   "source": [
    "#### Bigrams\n",
    "Common two letter combinations are called bigrams.  The frequency distribution of bigrams for the english language is well known and can be used to help in the solution of simple substitution ciphers [13].\n",
    "\n",
    "The code below counts the bigrams in the test message and displays a historgram of frequency.  "
   ]
  },
  {
   "cell_type": "code",
   "execution_count": 14,
   "metadata": {},
   "outputs": [
    {
     "data": {
      "image/png": "[encoded data removed]",
      "text/plain": [
       "<Figure size 720x144 with 1 Axes>"
      ]
     },
     "metadata": {
      "needs_background": "light"
     },
     "output_type": "display_data"
    }
   ],
   "source": [
    "# count double characters, starting at beginning of text \n",
    "bigram = Counter(PT[idx : idx + 2] for idx in range(len(PT) - 1)) \n",
    "\n",
    "# count double characters, starting at 2nd letter of text \n",
    "bigram2 = Counter(PT[idx : idx + 2] for idx in range(1,len(PT) - 1)) \n",
    "\n",
    "bigram.update(bigram2) # combine groups\n",
    "bigram = {k: v / 2 for k, v in bigram.items()} # divide values by 2\n",
    "bigram_sorted = dict(sorted(bigram.items(), key=lambda item: item[1],reverse=True))\n",
    "\n",
    "# slice out the first 50 fro plotting\n",
    "bigram_sorted_sliced = dict(itertools.islice(bigram_sorted.items(), 50))\n",
    "\n",
    "fig = plt.figure(figsize=(10, 2))\n",
    "ax = fig.add_subplot(111)\n",
    "\n",
    "plt.bar(range(len(bigram_sorted_sliced)), bigram_sorted_sliced.values(), align='center')\n",
    "plt.xticks(range(len(bigram_sorted_sliced)), list(bigram_sorted_sliced.keys()))\n",
    "plt.xticks(rotation=90)\n",
    "plt.autoscale(enable=True, axis='x')\n",
    "plt.title('bigram frequency')\n",
    "plt.ylabel('count')\n",
    "plt.xlabel('bigrams')\n",
    "plt.show()"
   ]
  },
  {
   "cell_type": "markdown",
   "metadata": {},
   "source": [
    "The above graph shows that the most common letter pairs are TH and HE, which really stand out in the plot."
   ]
  },
  {
   "cell_type": "code",
   "execution_count": 15,
   "metadata": {},
   "outputs": [
    {
     "name": "stdout",
     "output_type": "stream",
     "text": [
      "the standard deviation for frequncy of bigrams is: 7.87\n"
     ]
    }
   ],
   "source": [
    "print('the standard deviation for frequncy of bigrams is: {:.2f}'.format(np.std(np.array(list(bigram.values())))))"
   ]
  },
  {
   "cell_type": "markdown",
   "metadata": {},
   "source": [
    "Observation: "
   ]
  },
  {
   "cell_type": "markdown",
   "metadata": {},
   "source": [
    "### 2.c) Character encoding for processing <a id=\"section2c\"></a> \n",
    "In computers, letters and other symbols are encoded for electronic communication.  Historically, one of the first methods for encoding letters and numbers was Morse code.  Morse code was and still is used for sending messages over radio waves, but not as much on telegraph wires.  This type of encoding was used for the efficient transfer of information and not for encryption of the data.  \n",
    "\n",
    "The test message is encoded as ASCII characters within the computer file [14].  The capital letter A is the decimal number 65, B is 66 and so on, all the way to Z, which is 90.  Thus the capital leters of the aplhabet are encoded as the numbers 65 to 90.  For processing, the code below subtracts 65 from the decimal representation to encode the characters as numbers that range from 0 to 25, thus A=0, B=1, ..., Z=25.        \n",
    "\n",
    "The first step is to convert the text message from ASCII values to an array of numbers, where A=0, B=1, ..., Z=25.  The following line of python do that.  Additionally, the numbers in the array are of data type unit8, which means that all the numbers in the array are 8 bit unsigned intergers.  This is important to note since some of the mathmatic operations on the data will be automatically performed as unsigned 8 bit intergers.  "
   ]
  },
  {
   "cell_type": "code",
   "execution_count": 16,
   "metadata": {},
   "outputs": [
    {
     "data": {
      "text/plain": [
       "array([ 0, 11, 11, ..., 17,  0,  1], dtype=uint8)"
      ]
     },
     "execution_count": 16,
     "metadata": {},
     "output_type": "execute_result"
    }
   ],
   "source": [
    "# map characters to numbers, A=0, B=1, ..., Z=25\n",
    "PT_int = np.asarray(list(PT),dtype='|S1').view(np.uint8) - ord('A')\n",
    "PT_int"
   ]
  },
  {
   "cell_type": "markdown",
   "metadata": {},
   "source": [
    "As can be seen above the first number in the message array is 0, which corresponds to the letter A and is the first letter in the message.  The next two numbers are 11 and 11, which corespond to the letter L, so the first word in the message is ALL when converted to an array of numbers.  "
   ]
  },
  {
   "cell_type": "markdown",
   "metadata": {},
   "source": [
    "### 2.d) Key generation <a id=\"section2d\"></a> \n",
    "The input key string can be any length using any characters.  The input key string is however striped of all non-letter characters and converted to upper case.  In this example, the names of common animals are used to make the password.  Only left 16 characters are used.  Additional comments about key length and choice of the letters used in the key will be provided in the cryptanalysis section below.  \n",
    "\n",
    "The following code takes the key string and converts it to an all capital text string of length block size."
   ]
  },
  {
   "cell_type": "code",
   "execution_count": 17,
   "metadata": {},
   "outputs": [
    {
     "name": "stdout",
     "output_type": "stream",
     "text": [
      "input key string:  elephantzebratigermonkeylion\n",
      "input key string length = 28\n",
      "key as alpha caps trimmed to block size:  ELEPHANTZEBRATIG\n"
     ]
    }
   ],
   "source": [
    "# generate subkeys from text string\n",
    "key_string = 'elephantzebratigermonkeylion'\n",
    "print('input key string: ',key_string)\n",
    "print('input key string length = {:d}'.format(len(key_string)))\n",
    "key_alpha_caps = ''.join(e for e in key_string if e.isalpha()).upper()[0:block_size]\n",
    "print('key as alpha caps trimmed to block size: ',key_alpha_caps)\n",
    "\n",
    "# only use the right most characters equal to block size\n",
    "key = (np.asarray(list(key_alpha_caps),dtype='|S1').view(np.uint8) - ord('A'))[0:block_size]"
   ]
  },
  {
   "cell_type": "markdown",
   "metadata": {},
   "source": [
    "### 2.e) Character XOR <a id=\"section2e\"></a> \n",
    "One of the operations needed for the encryption algorithum is the Exclusive Or (XOR) function. This logic function normally operates on individual bits.  Bit wise XOR will return the same value if the operation is repeated twice and this property is is used in many encryption algoritums that operate on the message as collection of bits.\n",
    "\n",
    "Since the characters in this project are encoded as numbers ranging from 0 to 25, modulo 26 addition is going to used as the character XOR function.  Since modulo addition does not have the property of returing the starting result when repeated twice, we need and inverse character XOR function.\n",
    "\n",
    "The character XOR and the inverse function are described below."
   ]
  },
  {
   "cell_type": "code",
   "execution_count": 18,
   "metadata": {},
   "outputs": [],
   "source": [
    "# forward character XOR function\n",
    "def char_xor(a,b):\n",
    "    return (a + b) % 26  # add the two terms modulo 26 "
   ]
  },
  {
   "cell_type": "markdown",
   "metadata": {},
   "source": [
    "The inverse character XOR function is based on subtraction and requires a bit of logic to acheive the correct modulo wrapping."
   ]
  },
  {
   "cell_type": "code",
   "execution_count": 19,
   "metadata": {},
   "outputs": [],
   "source": [
    "# inverse character XOR function\n",
    "def inv_char_xor(a,b):\n",
    "    r = np.ones(len(b),dtype=np.uint8)\n",
    "    for i in range(len(b)):\n",
    "        if a[i] >= b[i]:\n",
    "            r[i] = a[i] - b[i]\n",
    "        if a[i] < b[i]:\n",
    "            r[i] = (a[i]+26) - b[i]\n",
    "    return r"
   ]
  },
  {
   "cell_type": "markdown",
   "metadata": {},
   "source": [
    "### 2.f) Mixer matrix <a id=\"section2f\"></a> \n",
    "The Mixer is a matrix of 0 or 1 values and is used to expand operation of s-boxes across several characters in the message half-block.  Without the Mixer matrix, the S-box output character would be only depended on its corresponding input character and therefore there would exist a one to one correspondeance.  The one to one correspondance would make it easier to walk backwards throuh the encryption steps and recover the key from know cipher text and the known correspong plain text.  The ability to recover the key in this way is considered a weakness and discussed more in the cryptanalyssis section.  \n",
    "\n",
    "The use of Mixer combines at least two other characters in the half-block with the main character using modulo 26 addition.  The mixed character is then used as the index to the S-box and the out put is corresponding value in the matrix.  Changing one character in the half-block causes multiple characters in the S-box output to change.  This cascade feature is a desirable feature for S-boxes. \n",
    "\n",
    "The Mixer matrix is not a part of the DES Fiestal function.  However, within the DES S-Box, 6 bits are used as inputs to each DES S-Box and the outer bits together with the four inner bits are as corrdinates into a look up table for the corresponding 4 bits of output.  The effect is that a group of bits is used to determine the output group of bits.  \n",
    "\n",
    "Using this same idea, of a many to one relationship, the mixer matrix is implement as an identity matrix with a few other ones sprinked around the matrix, more or less at random.  When the matrix is multipled by the input vector, each value in the output will depend on the corresponding input as well as at least two other elements in the input vector.  In this way the out character is a mix of several input characters.    \n",
    "\n",
    "This is the Mixer matrix:  \n",
    "~~~\n",
    " 1 1 0 0 0 0 1 0\n",
    " 0 1 0 1 0 0 0 1\n",
    " 0 0 1 1 0 1 0 0\n",
    " 1 0 0 1 0 0 1 0\n",
    " 1 0 0 1 1 0 0 0\n",
    " 0 0 0 0 1 1 0 1\n",
    " 0 1 0 0 0 1 1 0\n",
    " 0 0 1 0 1 0 0 1\n",
    "~~~\n",
    "The diagomal elements are all ones and in each row, two other positions in the row are filled in with ones on a ramdom basis.  The non zero possitions in the column are the locations where the changes in the data propagate to other character positions.\n",
    "\n",
    "Future work: generate Mixer matrix from block size.  See code in scratchpad.ipynb.  Same applies to S_box and P_table."
   ]
  },
  {
   "cell_type": "code",
   "execution_count": 20,
   "metadata": {},
   "outputs": [],
   "source": [
    "Mixer = np.array( \\\n",
    "    [[1, 1, 0, 0, 0, 0, 1, 0],\n",
    "     [0, 1, 0, 1, 0, 0, 0, 1],\n",
    "     [0, 0, 1, 1, 0, 1, 0, 0],\n",
    "     [1, 0, 0, 1, 0, 0, 1, 0],\n",
    "     [1, 0, 0, 1, 1, 0, 0, 0],\n",
    "     [0, 0, 0, 0, 1, 1, 0, 1],\n",
    "     [0, 1, 0, 0, 0, 1, 1, 0],\n",
    "     [0, 0, 1, 0, 1, 0, 0, 1]],dtype=np.uint8)\n",
    "#print(Mixer)    "
   ]
  },
  {
   "cell_type": "markdown",
   "metadata": {},
   "source": [
    "### 2.g) S-box <a id=\"section2g\"></a> \n",
    "The S-box is a matrix which is used to perform substitution.  The concept and use of a S-box is well known in block ciphers.  According to Wikipedia [15], the purpose of the S-box is to hide the relationship between the key and the ciphertext. The goal was to make the S-box act as a non-linear function, so that the output cannot be expressed as a linear equation, i.e. a straight line ($y = mx+b$).  There are two well known examples of S-boxes.  The first is used in the obsolet Data Encryption Standard (DES) [16] and the second is used in the Advanced Data Encryption Standard (AES) [17].  The S-box implement here loosly follows the DES S-box.\n",
    "\n",
    "In the code below, S0, S1, ... S7 are arrays that constist of the numbers 0 to 26 in different random orders. S0, S1, ... S7 are combined into a matrix for processing within a For loop.   The input data is used as index to S0, for example, and the value returned is some new value.   The matrix of S0, S1, ... S7 is the two dimentional array called s_box.  \n",
    "\n",
    "In the DES S-Box, the substitution is dependent on the data and across several bits.  The expansion in the half block also spreads the bits out and duplicates some.  "
   ]
  },
  {
   "cell_type": "code",
   "execution_count": 21,
   "metadata": {},
   "outputs": [
    {
     "data": {
      "text/plain": [
       "array([25, 24,  6, 21, 22, 12,  7, 19, 11, 14, 13,  5,  9, 18,  4, 15, 10,\n",
       "       20,  0, 17, 16,  1,  2, 23,  3,  8])"
      ]
     },
     "execution_count": 21,
     "metadata": {},
     "output_type": "execute_result"
    }
   ],
   "source": [
    "# generator code\n",
    "s = np.arange(0,26)\n",
    "np.random.shuffle(s)\n",
    "s"
   ]
  },
  {
   "cell_type": "markdown",
   "metadata": {},
   "source": [
    "The generator code is run a number of times to make up the values for the arrays.  These values are copied by hand into the arrays below one time and hard coded.  There is nothing special about the order of numbers in the array, they are just random.  "
   ]
  },
  {
   "cell_type": "code",
   "execution_count": 22,
   "metadata": {},
   "outputs": [],
   "source": [
    "S0 = np.array([17,  5,  2, 24, 15, 10, 21,  0, 25, 19,  1, 20, 13,  8,  7, 16, 23,\n",
    "        6,  4, 22,  9, 18, 11, 12, 14,  3],dtype=np.uint8)\n",
    "S1 = np.array([22,  3, 10, 17, 23, 20,  5, 15, 18,  7, 16, 11, 21,  6,  9,  4, 12,\n",
    "       25, 13, 19,  8,  2,  1,  0, 24, 14],dtype=np.uint8)\n",
    "S2 = np.array([19, 11, 24, 21, 18,  8, 14, 16,  9, 12,  7, 22, 17,  3,  4, 15,  5,\n",
    "       25, 10, 23, 20,  2,  1, 13,  6,  0],dtype=np.uint8)\n",
    "S3 = np.array([ 1, 23, 13,  0, 10, 20, 25, 18,  2,  6, 14, 19,  5, 24, 16, 17,  8,\n",
    "        4, 22, 15,  3, 12, 11,  9, 21,  7],dtype=np.uint8)\n",
    "S4 = np.array([25, 19, 17,  2,  8, 10, 15, 16, 13,  6,  0, 24,  9,  4, 20,  7, 18,\n",
    "       11,  1, 12, 22, 23, 14, 21,  5,  3],dtype=np.uint8)\n",
    "S5 = np.array([ 9, 12,  6,  3, 23, 11, 20, 10, 13, 16,  4, 25,  5, 19,  0, 21,  2,\n",
    "       24, 22,  7, 15,  8, 18,  1, 14, 17],dtype=np.uint8)\n",
    "S6 = np.array([21, 10, 22, 25,  3,  7, 15,  0, 24, 14,  1, 13,  6, 17, 11,  2,  4,\n",
    "       16,  5, 23,  8, 20, 19,  9, 18, 12],dtype=np.uint8)\n",
    "S7 = np.array([16, 23,  4,  9,  7,  8, 18, 11, 22, 24,  6, 15, 13,  2, 12,  3, 14,\n",
    "       10, 17,  5, 25, 21, 20, 19,  1,  0],dtype=np.uint8)"
   ]
  },
  {
   "cell_type": "code",
   "execution_count": 23,
   "metadata": {},
   "outputs": [
    {
     "name": "stdout",
     "output_type": "stream",
     "text": [
      "[[17  5  2 24 15 10 21  0 25 19  1 20 13  8  7 16 23  6  4 22  9 18 11 12\n",
      "  14  3]\n",
      " [22  3 10 17 23 20  5 15 18  7 16 11 21  6  9  4 12 25 13 19  8  2  1  0\n",
      "  24 14]\n",
      " [19 11 24 21 18  8 14 16  9 12  7 22 17  3  4 15  5 25 10 23 20  2  1 13\n",
      "   6  0]\n",
      " [ 1 23 13  0 10 20 25 18  2  6 14 19  5 24 16 17  8  4 22 15  3 12 11  9\n",
      "  21  7]\n",
      " [25 19 17  2  8 10 15 16 13  6  0 24  9  4 20  7 18 11  1 12 22 23 14 21\n",
      "   5  3]\n",
      " [ 9 12  6  3 23 11 20 10 13 16  4 25  5 19  0 21  2 24 22  7 15  8 18  1\n",
      "  14 17]\n",
      " [21 10 22 25  3  7 15  0 24 14  1 13  6 17 11  2  4 16  5 23  8 20 19  9\n",
      "  18 12]\n",
      " [16 23  4  9  7  8 18 11 22 24  6 15 13  2 12  3 14 10 17  5 25 21 20 19\n",
      "   1  0]]\n"
     ]
    }
   ],
   "source": [
    "# assemble the individual S-boxes into an m by n array, where m is the size of the alphabet and n is block_size/2\n",
    "S_box = np.array([S0,S1,S2,S3,S4,S5,S6,S7])\n",
    "print(S_box)"
   ]
  },
  {
   "cell_type": "code",
   "execution_count": 24,
   "metadata": {},
   "outputs": [
    {
     "data": {
      "image/png": "[encoded data removed]",
      "text/plain": [
       "<Figure size 432x288 with 1 Axes>"
      ]
     },
     "metadata": {
      "needs_background": "light"
     },
     "output_type": "display_data"
    }
   ],
   "source": [
    "# plot one of the S-boxes\n",
    "plt.plot(S_box[0],'+-',label='S-box 1')\n",
    "plt.title('S-Box function')\n",
    "plt.xlabel('S-Box input')\n",
    "plt.ylabel('S-Box output')\n",
    "plt.legend(loc='upper right')\n",
    "plt.grid()\n",
    "plt.show()"
   ]
  },
  {
   "cell_type": "markdown",
   "metadata": {},
   "source": [
    "Observation: "
   ]
  },
  {
   "cell_type": "markdown",
   "metadata": {},
   "source": [
    "### 2.h) P-table <a id=\"section2h\"></a> \n",
    "The P-table is used to shuffle the characters of the half-block so that bigram relationships are altered.  The table is implemented as an array of values from 0 to 7 in a random order.  The P-table permutes the order of the output so that adjacent characters in the input message are no longer adjacent.  This thwarts bigram frequency analysis of the cipher text.  \n",
    "\n",
    "The design of the P-table should be to produce a random shuffeling and seperate adjacent characters.\n",
    "\n",
    "After two rounds are 1 and 7 back to orginal place?  Explore this in the algorithm section <<<<====     "
   ]
  },
  {
   "cell_type": "code",
   "execution_count": 25,
   "metadata": {},
   "outputs": [
    {
     "name": "stdout",
     "output_type": "stream",
     "text": [
      "[4 3 2 0 7 6 5 1]\n"
     ]
    }
   ],
   "source": [
    "# generator code\n",
    "i = np.arange(0,block_size/2,dtype=np.uint8)\n",
    "np.random.shuffle(i)\n",
    "print(i)"
   ]
  },
  {
   "cell_type": "code",
   "execution_count": 26,
   "metadata": {},
   "outputs": [
    {
     "name": "stdout",
     "output_type": "stream",
     "text": [
      "[7 2 6 5 0 4 3 1]\n"
     ]
    }
   ],
   "source": [
    "# run the generator code above and copy the result to the P_table array once.\n",
    "P_table = np.array([7, 2, 6, 5, 0, 4, 3, 1],dtype=np.uint8)\n",
    "print(P_table)"
   ]
  },
  {
   "cell_type": "code",
   "execution_count": null,
   "metadata": {},
   "outputs": [],
   "source": []
  },
  {
   "cell_type": "markdown",
   "metadata": {},
   "source": [
    "### 2.i) Feistel function <a id=\"section2i\"></a> \n",
    "The Feistel function, also called a round function, as implemented in this project will losely follow the DES implementation.  Within a Feistel network, the function can be almost any function. A simple pass through function or a one way hash function could be used.  Since we are not going to design a new function from scratch, we will just follow the DES Feistel function with some modifications.  The use of the Mixer matrix is new and the implementation of S-box and the P-table are different.  \n",
    "\n",
    "<img src='Feistel function.jpg' width=\"300\"/>   \n",
    "Figure 4: Block diagram of the Feistel function, FF()    \n",
    "     \n",
    "The FF() function, shown in Figure 4, operates on half a block and consists of four stages:  \n",
    "- Key mixing: the half block is combined with a subkey using the character XOR operation.\n",
    "- Mixing: after mixing in the subkey, the Mixer matrix and the half block XOR subkey product are multiplied together with a dot multiplation matrix operation.  Each element of the resulting vector is product and summation of several other characters from the input vector.   \n",
    "- Substitution: after mixing, the block is processing by the S-boxes, or substitution boxes. Each element in the vector is replaced by a different characters according to the look up table.\n",
    "- Permutation: finally, the character order of the half block is rearranged according to a fixed permutation table.\n",
    "\n",
    "The following code implements the Feistel function"
   ]
  },
  {
   "cell_type": "code",
   "execution_count": 27,
   "metadata": {},
   "outputs": [],
   "source": [
    "# Feistel function, FF()\n",
    "def FF(a,k):\n",
    "    # xor data with the subkey and reshape for matrix multiplication\n",
    "    xor_out = np.reshape(char_xor(a,k), (-1, 1))\n",
    "    # use the mixer matrix to make each element of s dependent on several other elements in the block\n",
    "    s = (np.asarray(Mixer @ xor_out) % 26).reshape(-1)  # @ is the matrix dot operator\n",
    "\n",
    "    # run each element of s through the S_box matrix as an index and replace with new value\n",
    "    for i in range(int(block_size/2)):\n",
    "        s[i] = S_box[i][s[i]]\n",
    "\n",
    "    # permutate the element order of S according to P\n",
    "    f = np.ones(int(block_size/2),dtype=np.uint8)\n",
    "    for i in range(len(f)):\n",
    "        f[i] = s[P_table[i]]\n",
    "    return f"
   ]
  },
  {
   "cell_type": "markdown",
   "metadata": {},
   "source": [
    "## 3) Design <a id=\"section3\"></a>\n",
    "The following functions implement encryption and decryption operations using the Feistel network with a modified DES Feistel function.  Encrypting one block at a time, where the blocks are encrypted independently of each other, is called Electronic codebook (ECB).  ECB encrypts identical plaintext blocks into identical ciphertext blocks and therefore this mode does not hide repeating patterns in the data.\n",
    "\n",
    "Cipher block chaining (CBC) is a mode that XORs each block of plaintext with the previous block of ciphertext before being encrypted. The CBC mode hides repeating data in the message.  When encrypting data using CBC, an initialization vector can be used at first block in the encryption process.\n",
    "\n",
    "There are other modes of operation for block ciphers [18], but these will not be addressed in this project.  "
   ]
  },
  {
   "cell_type": "code",
   "execution_count": null,
   "metadata": {},
   "outputs": [],
   "source": []
  },
  {
   "cell_type": "markdown",
   "metadata": {},
   "source": [
    "Add some commenst about why functions were constructed this way.  <<<<====="
   ]
  },
  {
   "cell_type": "code",
   "execution_count": 28,
   "metadata": {},
   "outputs": [],
   "source": [
    "# encrypt function, one block\n",
    "def encrypt(a,k):\n",
    "    '''\n",
    "    a is a block of data to be encrypted and is of block size\n",
    "    k is the full key of length block size\n",
    "    '''\n",
    "    # divide data into half blocks\n",
    "    left_0 = a[0:int(block_size/2)]  # left side of the block\n",
    "    right_0 = a[int(block_size/2):int(block_size)]  # right side of the block\n",
    "    \n",
    "    # extract sub keys\n",
    "    k0 = k[0:int(block_size/2)]\n",
    "    k1 = k[int(block_size/2):int(block_size)]\n",
    "   \n",
    "    # round 0\n",
    "    right_1 = char_xor(left_0,FF(right_0,k0))\n",
    "    left_1 = right_0\n",
    "\n",
    "    #round 1\n",
    "    right_2 = char_xor(left_1,FF(right_1,k1))\n",
    "    left_2 = right_1\n",
    "\n",
    "    return np.append(left_2,right_2)"
   ]
  },
  {
   "cell_type": "code",
   "execution_count": 29,
   "metadata": {},
   "outputs": [],
   "source": [
    "# decrypt function, one block\n",
    "def decrypt(a,k):\n",
    "    '''\n",
    "    a is a block of data to be decrypted and is of block size\n",
    "    k is the full key of length block siz\n",
    "    '''\n",
    "    # divide data into half blocks\n",
    "    left_2 = a[0:int(block_size/2)]\n",
    "    right_2 = a[int(block_size/2):int(block_size)]\n",
    "    \n",
    "    # extract sub keys\n",
    "    k0 = k[0:int(block_size/2)]\n",
    "    k1 = k[int(block_size/2):int(block_size)]    \n",
    "    \n",
    "    # round 1\n",
    "    left_1 = inv_char_xor(right_2,FF(left_2,k1))\n",
    "    right_1 = left_2\n",
    "\n",
    "    # round 0\n",
    "    left_0 = inv_char_xor(right_1,FF(left_1,k0))\n",
    "    right_0 = left_1\n",
    "    \n",
    "    return np.append(left_0,right_0)"
   ]
  },
  {
   "cell_type": "code",
   "execution_count": 30,
   "metadata": {},
   "outputs": [],
   "source": [
    "def encrypt_ECB(pt_msg, k):\n",
    "    '''\n",
    "    pt_msg: plain text message as an uint8 array\n",
    "    k: full key of length block size as an uint8 array\n",
    "    returns: cipher text as an uint8 array\n",
    "    '''    \n",
    "    # split the plain text message into an array of message blocks \n",
    "    msg_blocks = np.array_split(pt_msg, len(pt_msg)/block_size)\n",
    "\n",
    "    # encrypt each block and append to the list\n",
    "    ct = []  # make an empty list\n",
    "    for i in msg_blocks:\n",
    "        ct = np.append(ct,encrypt(i,k)).astype(np.uint8)\n",
    "        \n",
    "    return ct"
   ]
  },
  {
   "cell_type": "code",
   "execution_count": 31,
   "metadata": {},
   "outputs": [],
   "source": [
    "def decrypt_ECB(ct_msg, k):\n",
    "    '''\n",
    "    ct_msg: cipher text message as an uint8 array\n",
    "    k: full key of length block size as an uint8 array\n",
    "    returns: cipher text as an uint8 array\n",
    "    ''' \n",
    "    msg_blocks = np.array_split(ct_msg, len(ct_msg)/block_size)\n",
    "\n",
    "    pt = []\n",
    "    for i in msg_blocks:\n",
    "        pt = np.append(pt,decrypt(i,k)).astype(np.uint8)\n",
    "    \n",
    "    return pt"
   ]
  },
  {
   "cell_type": "code",
   "execution_count": 32,
   "metadata": {},
   "outputs": [],
   "source": [
    "# make a function\n",
    "def encrypt_CBC(pt_msg,k):\n",
    "    '''\n",
    "    pt_msg: plain text message as an uint8 array\n",
    "    k: full key of length block size as an uint8 array\n",
    "    returns: cipher text as an uint8 array\n",
    "    '''\n",
    "    pt_msg_blocks = np.array_split(pt_msg, len(pt_msg)/block_size)\n",
    "\n",
    "    ct_msg = []\n",
    "    last_ct_block = np.zeros(block_size,dtype=np.uint8) # to start, initialize as zeros \n",
    "\n",
    "    for i in pt_msg_blocks:\n",
    "        p = char_xor(i,last_ct_block).astype(np.uint8)  # xor current block with previous block of CT\n",
    "        current_block_ct = encrypt(p,k).astype(np.uint8)\n",
    "        last_ct_block = current_block_ct  # save for next time through the loop\n",
    "        ct_msg = np.append(ct_msg,current_block_ct).astype(np.uint8)\n",
    "        \n",
    "    return ct_msg"
   ]
  },
  {
   "cell_type": "code",
   "execution_count": 33,
   "metadata": {},
   "outputs": [],
   "source": [
    "# make a function\n",
    "def decrypt_CBC(ct_msg,k):\n",
    "    '''\n",
    "    pt_msg: plain text message as an uint8 array\n",
    "    k: full key of length block size as an uint8 array\n",
    "    returns: plain text as an uint8 array\n",
    "    '''\n",
    "    ct_msg_blocks = np.array_split(ct_msg, len(ct_msg)/block_size)\n",
    "\n",
    "    pt = []\n",
    "    last_ct_block = np.zeros(block_size,dtype=np.uint8) # to start, initialize as zeros \n",
    "\n",
    "    for i in ct_msg_blocks:\n",
    "        #p = char_xor(i,last_ct_block).astype(np.uint8)  # xor current block with previous block of CT\n",
    "        #current_block_ct = decrypt(p,key).astype(np.uint8)\n",
    "\n",
    "        p = decrypt(i,k).astype(np.uint8)    \n",
    "        current_block_pt = inv_char_xor(p,last_ct_block).astype(np.uint8)  # xor current block with previous block of CT    \n",
    "\n",
    "        last_ct_block = i  # save for next time through the loop\n",
    "        pt = np.append(pt,current_block_pt).astype(np.uint8)\n",
    "        \n",
    "    return pt"
   ]
  },
  {
   "cell_type": "code",
   "execution_count": null,
   "metadata": {},
   "outputs": [],
   "source": []
  },
  {
   "cell_type": "markdown",
   "metadata": {},
   "source": [
    "## 4) Test message <a id=\"section4\"></a>\n",
    "The following code encrypts and decrypts the test message, first using the Electronic codebook (ECB) mode, then using the Cipher block chaining (CBC) is a mode.  \n",
    "\n",
    "### Encrypt test message with Electronic codebook (ECB) mode"
   ]
  },
  {
   "cell_type": "code",
   "execution_count": 34,
   "metadata": {},
   "outputs": [
    {
     "name": "stdout",
     "output_type": "stream",
     "text": [
      "TLJGFRUQHCSUBZIVOLQCMBIZAHMQXTZTRAYRGNBKOKBHCTYKOHNKBHAMEWBHLBTQLJVGSRFNPMU\n",
      "PPVHNRMULCONECGBUQWLQDHIGGHUVOZCOTMBSQNHUFSEETMWBXRJOOVTFEFWYLICYAMDTPJAYQD\n",
      "ADSYEBAQKTLIVEPBQAOYXNCKMYUOMWPWXEUTXISBKKLVWPGRQZLDRITSIJJCKMUWARVJLNSOPVB\n",
      "MEXRVQOSCWIUOFLAOHIGQPGUXWBHZMKVCWDQQJPIMWTHMFIOFFRGTXDCXNQYAFXNRBIQYDYNRNA\n",
      "VTGCULZKZPOAMFEXNMZFHNMZJEPRKKBPCRTZEHXAYWUEAGJBKECZYNBTZHHYWWDXPECIQZPLOXF\n",
      "QCNGLRKXWQSJXSQMCKGGUXQULFFMWBDJWHIXDPOFGFDIKIJAPFVJSEREJUMDUJCIXRAYOIJHJOO\n",
      "TNHACEBHHHQSAYYPYALBGVTUOUGHFEHWQBGFZAVQUWEPIBULXOEJQZYLVGZISWEDUPVKTYNEGNY\n",
      "GOQJAQKPEBKUAMEOFCKSAROKPQBUPJTDGHMPUXFGNVRIOEJYAYKNXJUBTDZGJZAFJUSJJDXBSRP\n",
      "BNRXEVXPIXTHKOBPONJJTKMQZDGBLPSSAQPQSGILPBDLNAFFCBNRONEFEOPEDOGTVSKXXKWZBCD\n",
      "ZXPHEGMLOZICWCDSMQBDNXTXLAOFILEIQBEKGYVFEHFCDVMXPJCVAHRZRBOEBLKZASDLWNISJKE\n",
      "HLQFSAAZUFZZDHEHCTUKSNUZOJKPQXQZRRWZFUUONOHZZJAFFFGLWMHVECRVKYZYUDTEXTNFNKL\n",
      "IXPWKKQQDGYVLONBTRKRQFXYVGCPFXITJPTJDQWECRQULYEIAXUUJMLKFHQFVFIAZSCDLOLXPTJ\n",
      "VLXGLLPGNDBKXAXZGBPBWNBOXWKWBLDVVPECPXWUJHMOBXWXDCWGESOGRPOWGXGOEXWBEMLFINX\n",
      "KTWHUBYIKSLSSQWBWUDHBPBDYBZXHHSTVYJXBVYVRLJEDLTKDZBNUNQOZSAUAIHBGMHFKRTKGLB\n",
      "CIKNYMGWKAJAFEOGCTVDNDMVLIQNHBGMOVXMHKYGEFZMMQNHSWITDBAPXDFORVLRSTXTJWPHQVI\n",
      "BDFXRRTFNGEJDADLYMGBEITHXSGKBCAKSSVTMSULAOWORDJDZPTSSTEKABQTFWSYSPEBVULBWCO\n",
      "BKLYQGTABMSMIEVHGFMDGWKZUIWCVBET\n"
     ]
    }
   ],
   "source": [
    "# display the cipher text as ascii characters\n",
    "ct_ECB = encrypt_ECB(PT_int, key)\n",
    "ct_ECB_ascii = (ct_ECB+ord('A')).tostring().decode('ascii') # convert back to ascii characters\n",
    "\n",
    "string = ct_ECB_ascii\n",
    "length = 75\n",
    "list_of_strings = []\n",
    "for i in range(0, len(string), length):\n",
    "    list_of_strings.append(string[i:length+i])\n",
    "\n",
    "for i in list_of_strings:\n",
    "    print(i)"
   ]
  },
  {
   "cell_type": "code",
   "execution_count": null,
   "metadata": {},
   "outputs": [],
   "source": []
  },
  {
   "cell_type": "markdown",
   "metadata": {},
   "source": [
    "### Decrypt test message with Electronic codebook (ECB) mode"
   ]
  },
  {
   "cell_type": "code",
   "execution_count": 35,
   "metadata": {},
   "outputs": [
    {
     "name": "stdout",
     "output_type": "stream",
     "text": [
      "ALLGAULISDIVIDEDINTOTHREEPARTSONEOFWHICHTHEBELGAEINHABITTHEAQUITANIANOTHERT\n",
      "HOSEWHOINTHEIROWNLANGUAGEARECALLEDCELTSINOURGAULSTHETHIRDALLTHESEDIFFERFROM\n",
      "EACHOTHERINLANGUAGECUSTOMSANDLAWSTHERIVERGARONNESEPARATESTHEGAULSFROMTHEAQU\n",
      "ITANITHEMARNEANDTHESEINESEPARATETHEMFROMTHEBELGAEOFALLTHESETHEBELGAEARETHEB\n",
      "RAVESTBECAUSETHEYAREFURTHESTFROMTHECIVILIZATIONANDREFINEMENTOFOURPROVINCEAN\n",
      "DMERCHANTSLEASTFREQUENTLYRESORTTOTHEMANDIMPORTTHOSETHINGSWHICHTENDTOEFFEMIN\n",
      "ATETHEMINDANDTHEYARETHENEARESTTOTHEGERMANSWHODWELLBEYONDTHERHINEWITHWHOMTHE\n",
      "YARECONTINUALLYWAGINGWARFORWHICHREASONTHEHELVETIIALSOSURPASSTHERESTOFTHEGAU\n",
      "LSINVALORASTHEYCONTENDWITHTHEGERMANSINALMOSTDAILYBATTLESWHENTHEYEITHERREPEL\n",
      "THEMFROMTHEIROWNTERRITORIESORTHEMSELVESWAGEWARONTHEIRFRONTIERSONEPARTOFTHES\n",
      "EWHICHITHASBEENSAIDTHATTHEGAULSOCCUPYTAKESITSBEGINNINGATTHERIVERRHONEITISBO\n",
      "UNDEDBYTHERIVERGARONNETHEOCEANANDTHETERRITORIESOFTHEBELGAEITBORDERSTOOONTHE\n",
      "SIDEOFTHESEQUANIANDTHEHELVETIIUPONTHERIVERRHINEANDSTRETCHESTOWARDTHENORTHTH\n",
      "EBELGAERISESFROMTHEEXTREMEFRONTIEROFGAULEXTENDTOTHELOWERPARTOFTHERIVERRHINE\n",
      "ANDLOOKTOWARDTHENORTHANDTHERISINGSUNAQUITANIAEXTENDSFROMTHERIVERGARONNETOTH\n",
      "EPYRENAEANMOUNTAINSANDTOTHATPARTOFTHEOCEANWHICHISNEARSPAINITLOOKSBETWEENTHE\n",
      "SETTINGOFTHESUNANDTHENORTHSTARAB\n"
     ]
    }
   ],
   "source": [
    "pt_ECB = decrypt_ECB(ct_ECB, key)\n",
    "\n",
    "pt_ECB_recvd_ascii = (pt_ECB+ord('A')).tostring().decode('ascii')\n",
    "\n",
    "string = pt_ECB_recvd_ascii\n",
    "length = 75\n",
    "list_of_strings = []\n",
    "for i in range(0, len(string), length):\n",
    "    list_of_strings.append(string[i:length+i])\n",
    "\n",
    "for i in list_of_strings:\n",
    "    print(i)"
   ]
  },
  {
   "cell_type": "code",
   "execution_count": null,
   "metadata": {},
   "outputs": [],
   "source": []
  },
  {
   "cell_type": "markdown",
   "metadata": {},
   "source": [
    "### Encrypt test message with Cipher block chaining (CBC) mode"
   ]
  },
  {
   "cell_type": "code",
   "execution_count": 36,
   "metadata": {},
   "outputs": [
    {
     "name": "stdout",
     "output_type": "stream",
     "text": [
      "TLJGFRUQHCSUBZIVCBYBPQGLTKOGDEORFFVQZXXKBOVSLPCWOKOOECSFBKNWGXGMBWOMVHGGZLR\n",
      "NBUOMDDBNSFTEXRCJNZTUKXZJGVVMYGSSYICYGREXPSPAOSCEDCOVUHECCJNTNPSLJELRYUMUGB\n",
      "OGXGRJWCMBEHUVFGNOAWSPIMMSQJNESSDQLUXOLHPVWOCUDXSYGMMPMRGDPMUEHNOLCBDFKNADI\n",
      "GJBMYJFRKIWWPIWIABDETUUNLRNEQINCRKDEVCXQBVZAXNGMYQFWSWIULDLZGKCBTGLNZBDWDZM\n",
      "LNYYOKADXCOKMBNDVVPAOAESTCANBEBZRJDHHFFPNKCIUHHWHPFCOWTPDCQMLOSSSSAOOIAFWUR\n",
      "KZZBLNCPFKZCTXORXMJJZUNWPXCLFZHWKCZOGPLKKPNBXIIDJUCGBUYOKQWUNCUIAGMTNJAYMZH\n",
      "JSWYGWOBKLVPNGPHIPVJPCFNPWXAJNLADYXUVJFBKFZVKIXYVUOOQLPIDROJLNEWSFIHIWMJACO\n",
      "XCCGJPQYDWQSRCCVXQWGROVOEGGREZFJYOPZYRPBTQWXGJTFQBQRFKALVJMBEBVTVOWUSOOIOQV\n",
      "NHTKWKKUIGTVNXLOYVJPKCLOLJJWVJRNLVHJDQWSHSVZYZDBGOTDEXSDLUPPXXNEDNALGSCQGGH\n",
      "KEZPDPMYPAWKPDZVRHWMMDXVXHZIXENHWBLNRZPVDDOXALFEFQHSNQRXGSKAPAZMZALGMMMKFTJ\n",
      "EWLGSFUQWFFTXJUASDBJLQEUXUZHYSQMZNHSSOBAZHSZJDNBDJYTALARVORTSVDVHJFAUYVZRAZ\n",
      "LZFHSEVCXRIUVACETZVVBKGARBMWWLLUQRIHZABGJDBGRHHBJQSLCJZQCZTWTZPOOTNGNWYPNZA\n",
      "AQPBNMVWMPNSVVOEYOWCPPDTJOGVKQXIAXDNDJFEUSMXXAOBVTJQMKYJHCYDXEHUNTVQJGYKORT\n",
      "LHDXARUJZAIDFUZVVVNQLVTMJBVDLRDLRPVVADFURSKTMKJRQWPSNVZWPQQONTYYHLCEAGTPPVD\n",
      "QTEZHIBXFEJSSMNYJMAAARNARLMVUIMUXEYMIPUXGKTWJDHABPVIGRFFCWJWYPWZKWIVCDNODHQ\n",
      "XXCRNOWFUGNYZIHLIRWLJQPWCQENTMEFCSPUIJZTLVGHMGULNQBUFJCCKZGOMSOGSLVDNVCAIZL\n",
      "ELQSQUQVEJXDPTAZNSBQKULGYRLMUMFE\n"
     ]
    }
   ],
   "source": [
    "ct_CBC_int = encrypt_CBC(PT_int,key)\n",
    "\n",
    "# convert back to ascii characters and display\n",
    "ct_CBC_ascii = (ct_CBC_int+ord('A')).tostring().decode('ascii')\n",
    "\n",
    "string = ct_CBC_ascii\n",
    "length = 75\n",
    "list_of_strings = []\n",
    "for i in range(0, len(string), length):\n",
    "    list_of_strings.append(string[i:length+i])\n",
    "\n",
    "for i in list_of_strings:\n",
    "    print(i)"
   ]
  },
  {
   "cell_type": "code",
   "execution_count": null,
   "metadata": {},
   "outputs": [],
   "source": []
  },
  {
   "cell_type": "markdown",
   "metadata": {},
   "source": [
    "### Decrypt test message with Cipher block chaining (CBC) mode"
   ]
  },
  {
   "cell_type": "code",
   "execution_count": 37,
   "metadata": {},
   "outputs": [
    {
     "name": "stdout",
     "output_type": "stream",
     "text": [
      "ALLGAULISDIVIDEDINTOTHREEPARTSONEOFWHICHTHEBELGAEINHABITTHEAQUITANIANOTHERT\n",
      "HOSEWHOINTHEIROWNLANGUAGEARECALLEDCELTSINOURGAULSTHETHIRDALLTHESEDIFFERFROM\n",
      "EACHOTHERINLANGUAGECUSTOMSANDLAWSTHERIVERGARONNESEPARATESTHEGAULSFROMTHEAQU\n",
      "ITANITHEMARNEANDTHESEINESEPARATETHEMFROMTHEBELGAEOFALLTHESETHEBELGAEARETHEB\n",
      "RAVESTBECAUSETHEYAREFURTHESTFROMTHECIVILIZATIONANDREFINEMENTOFOURPROVINCEAN\n",
      "DMERCHANTSLEASTFREQUENTLYRESORTTOTHEMANDIMPORTTHOSETHINGSWHICHTENDTOEFFEMIN\n",
      "ATETHEMINDANDTHEYARETHENEARESTTOTHEGERMANSWHODWELLBEYONDTHERHINEWITHWHOMTHE\n",
      "YARECONTINUALLYWAGINGWARFORWHICHREASONTHEHELVETIIALSOSURPASSTHERESTOFTHEGAU\n",
      "LSINVALORASTHEYCONTENDWITHTHEGERMANSINALMOSTDAILYBATTLESWHENTHEYEITHERREPEL\n",
      "THEMFROMTHEIROWNTERRITORIESORTHEMSELVESWAGEWARONTHEIRFRONTIERSONEPARTOFTHES\n",
      "EWHICHITHASBEENSAIDTHATTHEGAULSOCCUPYTAKESITSBEGINNINGATTHERIVERRHONEITISBO\n",
      "UNDEDBYTHERIVERGARONNETHEOCEANANDTHETERRITORIESOFTHEBELGAEITBORDERSTOOONTHE\n",
      "SIDEOFTHESEQUANIANDTHEHELVETIIUPONTHERIVERRHINEANDSTRETCHESTOWARDTHENORTHTH\n",
      "EBELGAERISESFROMTHEEXTREMEFRONTIEROFGAULEXTENDTOTHELOWERPARTOFTHERIVERRHINE\n",
      "ANDLOOKTOWARDTHENORTHANDTHERISINGSUNAQUITANIAEXTENDSFROMTHERIVERGARONNETOTH\n",
      "EPYRENAEANMOUNTAINSANDTOTHATPARTOFTHEOCEANWHICHISNEARSPAINITLOOKSBETWEENTHE\n",
      "SETTINGOFTHESUNANDTHENORTHSTARAB\n"
     ]
    }
   ],
   "source": [
    "pt_CBC_int = decrypt_CBC(ct_CBC_int,key)\n",
    "\n",
    "# convert back to ascii characters and display\n",
    "pt_CBC_ascii = (pt_CBC_int+ord('A')).tostring().decode('ascii')\n",
    "\n",
    "string = pt_CBC_ascii\n",
    "length = 75\n",
    "list_of_strings = []\n",
    "for i in range(0, len(string), length):\n",
    "    list_of_strings.append(string[i:length+i])\n",
    "\n",
    "for i in list_of_strings:\n",
    "    print(i)"
   ]
  },
  {
   "cell_type": "markdown",
   "metadata": {},
   "source": [
    "## 5) Algorithm analysis <a id=\"section5\"></a>\n",
    "This section has been moved to a new notebook since it was getting too long.\n",
    "\n",
    "## 6) Ciphertext attack <a id=\"section6\"></a> \n",
    "Moved to a new notebook.\n",
    "\n",
    "## 7) Plaintext attack <a id=\"section7\"></a>\n",
    "Moved to a new notebook.  "
   ]
  },
  {
   "cell_type": "code",
   "execution_count": 38,
   "metadata": {},
   "outputs": [],
   "source": [
    "# Saving some of the objects to use in the cryptanalysis notebook\n",
    "with open('objs.pkl', 'wb') as f:\n",
    "    pickle.dump([block_size,PT,PT_int,key,Mixer,S_box,P_table,en_letter_freq], f)"
   ]
  },
  {
   "cell_type": "markdown",
   "metadata": {},
   "source": [
    "## 8) Conclusion <a id=\"section9\"></a>\n",
    "This paper described the design and analysis of a block cipher that encrypts a message composed of English letters based on a modified DES.  \n",
    "\n",
    "We looked at the properites and security aspects of the algorithm.\n",
    "\n",
    "What did we find.  \n",
    "- flattens letter frequency, bigram frequency changed\n",
    "- key space\n",
    "- nonlinear\n",
    "- sensitivity to key errors\n",
    "- block size \n",
    "- CT attack showned what\n",
    "- PT attack showed what can key be revovered?  \n",
    "\n",
    "\n",
    "Other topics:  \n",
    "Other variations, encrypt numbers like social security numbers, phone numbers, pad lock combinations, credit-card numbers etc.  The alphebet would consist of only the digits 0 through 9.   \n",
    "\n",
    "what is the morse code character set?   A-Z + 0-9  Could variable length characters be used?   \n",
    "Prosigns for Morse code, could these also be used in the PT?     \n",
    "\n",
    "xxxx xxxx xxxx xxxx\n",
    "\n",
    "\n",
    "re-write code to make block size variable.   \n",
    "\n",
    "Can a pencil and paper by-hand angorithum be devised?   \n",
    "\n",
    "Hardware implementation:   \n",
    "Rpi0+usb keyboard+small display, running off line. can also be a PW manager, \n",
    "\n",
    "\n",
    "Development of a cipher that only uses a 56 bit key.   \n",
    "In 1996, thirty-nine countries signed the Wassenaar Arrangement, an arms control treaty that deals with the export of arms and \"dual-use\" technologies such as cryptography. The treaty stipulated that the use of cryptography with short key-lengths (56-bit for symmetric encryption, 512-bit for RSA) would no longer be export-controlled.[64]\n",
    "\n",
    "Cryptography exports from the US became less strictly regulated as a consequence of a major relaxation in 2000;[65] there are no longer very many restrictions on key sizes in US-exported mass-market software. \n",
    "\n",
    "\n",
    "\n",
    "\n",
    "## 9) References <a id=\"section9\"></a>\n",
    "1. Wikipedia contributors. (2021, January 11). Encryption. In Wikipedia, The Free Encyclopedia. Retrieved 17:22, January 12, 2021, from https://en.wikipedia.org/w/index.php?title=Encryption\n",
    "2. David Oranchak, \"Let's Crack Zodiac-Episode 5 - The 340 Is Solved!\", Dec 11, 2020, https://www.youtube.com/watch?v=-1oQLPRE21o&t=283s\n",
    "3. David Oranchak, \"Let's Crack Zodiac-Episode 3 - The 408\", Sep 1, 2020, https://www.youtube.com/watch?v=57o8g3d6lSw\n",
    "4. Wikipedia contributors. (2020, December 17). Playfair cipher. In Wikipedia, The Free Encyclopedia. Retrieved 01:46, January 13, 2021, from https://en.wikipedia.org/w/index.php?title=Playfair_cipher\n",
    "5. Wikipedia contributors. (2021, January 7). Enigma machine. In Wikipedia, The Free Encyclopedia. Retrieved 14:51, January 12, 2021, from https://en.wikipedia.org/w/index.php?title=Enigma_machine\n",
    "6. Wikipedia contributors. (2021, January 8). Feistel cipher. In Wikipedia, The Free Encyclopedia. Retrieved 14:52, January 12, 2021, from https://en.wikipedia.org/w/index.php?title=Feistel_cipher\n",
    "7. Wikipedia contributors. (2020, December 25). Data Encryption Standard. In Wikipedia, The Free Encyclopedia. Retrieved 15:02, January 13, 2021, from https://en.wikipedia.org/w/index.php?title=Data_Encryption_Standard\n",
    "8. Wikipedia contributors. (2021, January 5). Block cipher. In Wikipedia, The Free Encyclopedia. Retrieved 15:04, January 13, 2021, from https://en.wikipedia.org/w/index.php?title=Block_cipher\n",
    "9. Wikipedia contributors. (2021, January 8). Gallic Wars. In Wikipedia, The Free Encyclopedia. Retrieved 02:10, January 13, 2021, from https://en.wikipedia.org/w/index.php?title=Gallic_Wars\n",
    "10. Wikipedia contributors. (2021, January 8). Commentarii de Bello Gallico. In Wikipedia, The Free Encyclopedia. Retrieved 02:11, January 13, 2021, from https://en.wikipedia.org/w/index.php?title=Commentarii_de_Bello_Gallico\n",
    "11. Wikipedia contributors. (2021, January 4). Kryptos. In Wikipedia, The Free Encyclopedia. Retrieved 15:15, January 15, 2021, from https://en.wikipedia.org/w/index.php?title=Kryptos\n",
    "12. Wikipedia contributors. (2020, December 18). Caesar cipher. In Wikipedia, The Free Encyclopedia. Retrieved 02:11, January 13, 2021, from https://en.wikipedia.org/w/index.php?title=Caesar_cipher\n",
    "13. Wikipedia contributors. (2020, December 13). Bigram. In Wikipedia, The Free Encyclopedia. Retrieved 02:42, January 13, 2021, from https://en.wikipedia.org/w/index.php?title=Bigram\n",
    "14. Wikipedia contributors. (2021, January 4). ASCII. In Wikipedia, The Free Encyclopedia. Retrieved 13:52, January 11, 2021, from https://en.wikipedia.org/w/index.php?title=ASCII&oldid=998308027\n",
    "15. Wikipedia contributors. (2021, January 7). S-box. In Wikipedia, The Free Encyclopedia. Retrieved 14:32, January 11, 2021, from https://en.wikipedia.org/w/index.php?title=S-box&oldid=998908798  \n",
    "16. Wikipedia contributors. (2020, December 25). Data Encryption Standard. In Wikipedia, The Free Encyclopedia. Retrieved 14:30, January 11, 2021, from https://en.wikipedia.org/w/index.php?title=Data_Encryption_Standard&oldid=996197167  \n",
    "17. Wikipedia contributors. (2021, January 7). Advanced Encryption Standard. In Wikipedia, The Free Encyclopedia. Retrieved 14:31, January 11, 2021, from https://en.wikipedia.org/w/index.php?title=Advanced_Encryption_Standard&oldid=998858677\n",
    "18. Wikipedia contributors. (2021, January 4). Block cipher mode of operation. In Wikipedia, The Free Encyclopedia. Retrieved 13:41, January 14, 2021, from https://en.wikipedia.org/w/index.php?title=Block_cipher_mode_of_operation&oldid=998138792\n",
    "\n"
   ]
  },
  {
   "cell_type": "code",
   "execution_count": null,
   "metadata": {},
   "outputs": [],
   "source": []
  },
  {
   "cell_type": "code",
   "execution_count": null,
   "metadata": {},
   "outputs": [],
   "source": []
  }
 ],
 "metadata": {
  "kernelspec": {
   "display_name": "Python 3",
   "language": "python",
   "name": "python3"
  },
  "language_info": {
   "codemirror_mode": {
    "name": "ipython",
    "version": 3
   },
   "file_extension": ".py",
   "mimetype": "text/x-python",
   "name": "python",
   "nbconvert_exporter": "python",
   "pygments_lexer": "ipython3",
   "version": "3.7.3"
  }
 },
 "nbformat": 4,
 "nbformat_minor": 2
}
