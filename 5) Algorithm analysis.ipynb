{
 "cells": [
  {
   "cell_type": "markdown",
   "metadata": {},
   "source": [
    "# 5) Algorithm analysis\n",
    "This notebook will examine some of the properties of the algorithm and various design decisions.  In this paper, the cipher algorithm is four rounds of the Feistel Network (FN) using a modified DES round function named RF().  \n",
    "\n",
    "Initially the cipher algorithm chosen to study was a two round Feisel network.  However, after analyzing some of the characteristics of using only two rounds, I noticed that a one character change within the plaintext block did not fully propagate to all the other characters in the block when encrypted.  Also it was noticed that the algorithm was sensitive to one or two errors in the key.  So the algorithm was adjusted to include additional rounds and the key schedule was modified to generate round keys that reduced the key error sensitivity. \n",
    "\n",
    "The analysis will start with looking at the letter frequency of the cipher text.  Then the following topics are discussed. \n",
    "\n",
    "- 5.a) [Ciphertext letter frequency](#section5a)  \n",
    "- 5.b) [Key space](#section5b) \n",
    "- 5.c) [Sensitivity to errors in the key](#section5c) \n",
    "- 5.d) [Sensitivity to changes in the message](#section5d) \n",
    "- 5.e) [Repeating text in the message](#section5e) \n",
    "- 5.f) [Round function properties](#section5f) \n",
    "- 5.g) [Section summary](#section5g) \n",
    "- 5.h) [References](#section5h) \n",
    "\n",
    "\n",
    "**ToDo:**  \n",
    "- ~~finish section summary~~\n",
    "- ~~remove old code~~\n",
    "- ~~expand narration~~~\n",
    "- spell check"
   ]
  },
  {
   "cell_type": "code",
   "execution_count": 1,
   "metadata": {},
   "outputs": [],
   "source": [
    "from collections import Counter\n",
    "import itertools\n",
    "import random\n",
    "import pickle\n",
    "import sys\n",
    "import numpy as np\n",
    "import matplotlib.pyplot as plt\n",
    "from myModule import *"
   ]
  },
  {
   "cell_type": "code",
   "execution_count": 2,
   "metadata": {},
   "outputs": [],
   "source": [
    "from scipy.special import comb\n",
    "from Crypto.Hash import SHA512\n",
    "import re\n",
    "from scipy.stats import chisquare\n",
    "import base64"
   ]
  },
  {
   "cell_type": "code",
   "execution_count": 3,
   "metadata": {},
   "outputs": [],
   "source": [
    "# Loading objects created in the main notebook.\n",
    "with open('objs.pkl', 'rb') as f:\n",
    "    block_size,PT,PT_int,key,IV,Mixer,S_box,P_table,en_letter_freq = pickle.load(f)"
   ]
  },
  {
   "cell_type": "markdown",
   "metadata": {},
   "source": [
    "## 5.a) Ciphertext letter frequency <a id=\"section5a\"></a>\n",
    "One of the design goals of the cipher is to flatten the letter and n-gram frequency characteristics to thwart letter frequency analysis.  As shown in section 6b, the cipher accomplishes this goal.\n",
    "\n",
    "## 5.b) Key space <a id=\"section5b\"></a>\n",
    "The key length for the cipher in the cipher is equal to the block size.  If the key space is too small then a fast computer or special hardware can attack the cipher by trying all possible keys, provided that valid plain text can be discriminated from noise.  \n",
    "\n",
    "### Key length comparison\n",
    "The number of possible keys in the key space is made from all combinations of 26 letters with a length equal to the block length.  The key length is equal to the block length so the key space could be made larger by increasing the block length. Calculating the size of the key space assumes that keys are chosen from the pool of all possible keys.  Choosing keys from combinations of English words, as we have done, limits the size of the pool."
   ]
  },
  {
   "cell_type": "code",
   "execution_count": 4,
   "metadata": {},
   "outputs": [
    {
     "name": "stdout",
     "output_type": "stream",
     "text": [
      "key space for 16 character keys: 43,608,742,899,428,874,059,776\n"
     ]
    }
   ],
   "source": [
    "# number of characters in key is equal to the block size and there are 26 characters in the alphabet\n",
    "print('key space for {:d} character keys: {:,d}'.format(block_size,26**block_size))"
   ]
  },
  {
   "cell_type": "code",
   "execution_count": 5,
   "metadata": {},
   "outputs": [
    {
     "name": "stdout",
     "output_type": "stream",
     "text": [
      "a 16 character long key is equal to 75.2 bits\n"
     ]
    }
   ],
   "source": [
    "# the key space expressed in equivalent number of bits\n",
    "print('a {:d} character long key is equal to {:.1f} bits'.format(block_size,np.log2(float(26**block_size))))"
   ]
  },
  {
   "cell_type": "markdown",
   "metadata": {},
   "source": [
    "What if the block size was changed?"
   ]
  },
  {
   "cell_type": "code",
   "execution_count": 6,
   "metadata": {},
   "outputs": [
    {
     "name": "stdout",
     "output_type": "stream",
     "text": [
      "key space for 40 character keys: 397,131,118,389,635,994,560,666,234,198,316,439,032,157,304,558,637,285,376\n"
     ]
    }
   ],
   "source": [
    "new_block_size = 40\n",
    "print('key space for {:d} character keys: {:,d}'.format(new_block_size,26**new_block_size))"
   ]
  },
  {
   "cell_type": "code",
   "execution_count": 7,
   "metadata": {},
   "outputs": [
    {
     "name": "stdout",
     "output_type": "stream",
     "text": [
      "40 character long key is equal to a 188.0 bit long key\n"
     ]
    }
   ],
   "source": [
    "# the key space expressed in equivalent number of bits\n",
    "print('{:d} character long key is equal to a {:.1f} bit long key'.format(new_block_size,np.log2(float(26**new_block_size))))"
   ]
  },
  {
   "cell_type": "markdown",
   "metadata": {},
   "source": [
    "Now the key space is very large.  \n",
    "\n",
    "Below, the key space is calculated for DES which uses a 56 bit key."
   ]
  },
  {
   "cell_type": "code",
   "execution_count": 8,
   "metadata": {},
   "outputs": [
    {
     "name": "stdout",
     "output_type": "stream",
     "text": [
      "DES key space: 72,057,594,037,927,936\n"
     ]
    }
   ],
   "source": [
    "print('DES key space: {:,d}'.format(2**56))"
   ]
  },
  {
   "cell_type": "code",
   "execution_count": 9,
   "metadata": {},
   "outputs": [
    {
     "name": "stdout",
     "output_type": "stream",
     "text": [
      "Compared to the DES key space of 56 bits, the key space from 16 letters is 605,193 times larger\n"
     ]
    }
   ],
   "source": [
    "print('Compared to the DES key space of 56 bits, the key space from 16 letters is {:,.0f} times larger'.format(26**block_size/2**56))    "
   ]
  },
  {
   "cell_type": "markdown",
   "metadata": {},
   "source": [
    "The Enigma has 158,962,555,217,826,360,000 possible different settings [1], which is less than the key space of 16 letters."
   ]
  },
  {
   "cell_type": "code",
   "execution_count": 10,
   "metadata": {},
   "outputs": [
    {
     "name": "stdout",
     "output_type": "stream",
     "text": [
      "Enigma settings are equal to a 67.1 bit key\n"
     ]
    }
   ],
   "source": [
    "# the key space expressed in equivalent number of bits\n",
    "print('Enigma settings are equal to a {:.1f} bit key'.format(np.log2(float(158962555217826360000))))"
   ]
  },
  {
   "cell_type": "markdown",
   "metadata": {},
   "source": [
    "The AES key space of 256 bits is extremely large."
   ]
  },
  {
   "cell_type": "code",
   "execution_count": 11,
   "metadata": {},
   "outputs": [
    {
     "name": "stdout",
     "output_type": "stream",
     "text": [
      "AES key space: 115,792,089,237,316,195,423,570,985,008,687,907,853,269,984,665,640,564,039,457,584,007,913,129,639,936\n"
     ]
    }
   ],
   "source": [
    "print('AES key space: {:,d}'.format(2**256))"
   ]
  },
  {
   "cell_type": "markdown",
   "metadata": {},
   "source": [
    "In this paper, the key was chosen from animal names (recall that the key phrase is: 'elephantzebratigermonkeylion').  Following the same idea of using random English words to build the key, there are about 470,000 words in a typical English language dictionary [2].  The following calculation looks at the key space size from using words from a dictionary or a word list.  Here we assume that 3 words of sufficient length are used to make the 16 character key.   "
   ]
  },
  {
   "cell_type": "code",
   "execution_count": 12,
   "metadata": {},
   "outputs": [
    {
     "name": "stdout",
     "output_type": "stream",
     "text": [
      "English dictionary # of 3 word combinations: 17,303,722,883,490,000\n"
     ]
    }
   ],
   "source": [
    "word_phase_len = 3\n",
    "print('English dictionary # of {:d} word combinations: {:,.0f}'.format(word_phase_len,comb(470000,word_phase_len)))"
   ]
  },
  {
   "cell_type": "markdown",
   "metadata": {},
   "source": [
    "We can see that limiting the key to using English words significantly reduces the key space.  However, sixteen random letters are much harder to remember than several English words.  The above calculations suggest that three random words provide less protection from a brute force key guessing attack than the DES or the Enigma.   \n",
    "\n",
    "So if we want to improve the protection against a brute force key guessing attack, we need at least 4 random words as shown below to have about the same level of protections as the Enigma."
   ]
  },
  {
   "cell_type": "code",
   "execution_count": 13,
   "metadata": {},
   "outputs": [
    {
     "name": "stdout",
     "output_type": "stream",
     "text": [
      "number of 4 word combinations in English dictionary: 832,785,601,387,463,835,648\n"
     ]
    }
   ],
   "source": [
    "word_phase_len = 4\n",
    "print('number of {:d} word combinations in English dictionary: {:,.0f}'.format(word_phase_len,comb(470000*0.80,word_phase_len)))"
   ]
  },
  {
   "cell_type": "markdown",
   "metadata": {},
   "source": [
    "Assuming that 80% of the words in the dictionary are words we would actually might use, there are 832,785,601,387,463,835,648 combinations of 4 words.  This exceeds the DES key space and about the same size as the Enigma key space. \n",
    "\n",
    "One idea for generating stronger keys from English words is to use a longer pass phase, say of 6 or more words, then calculate a hash of the pass phrase and encode the result to get back to 16 characters made up of English letters. The following code loads the word list and extracts the words that have between 3 and 9 characters.   "
   ]
  },
  {
   "cell_type": "code",
   "execution_count": 14,
   "metadata": {
    "collapsed": false
   },
   "outputs": [],
   "source": [
    "rng = random.SystemRandom  # set up the random variable"
   ]
  },
  {
   "cell_type": "code",
   "execution_count": 15,
   "metadata": {
    "collapsed": false
   },
   "outputs": [],
   "source": [
    "words = []\n",
    "min_length = 3\n",
    "max_length = 9\n",
    "valid_chars = '.'\n",
    "regexp = re.compile(\"^{0}{{{1},{2}}}$\".format(valid_chars,min_length,max_length))"
   ]
  },
  {
   "cell_type": "code",
   "execution_count": 16,
   "metadata": {
    "collapsed": false
   },
   "outputs": [],
   "source": [
    "# read words from file into wordlist\n",
    "with open('/home/jim/Documents/JupyterLab/Misc ipython notebooks/wordlist.txt') as wlf:\n",
    "    for line in wlf:\n",
    "        thisword = line.strip()\n",
    "        if regexp.match(thisword) is not None:\n",
    "            words.append(thisword)\n",
    "wordlist = list(set(words))"
   ]
  },
  {
   "cell_type": "code",
   "execution_count": 17,
   "metadata": {},
   "outputs": [
    {
     "name": "stdout",
     "output_type": "stream",
     "text": [
      "b'envoi vizor purlieu pulverize batman consume'\n"
     ]
    }
   ],
   "source": [
    "pass_phase_len = 6 # number of words in the pass phrase\n",
    "delimiter = ' '\n",
    "pass_phrase = delimiter.join(rng().choice(wordlist) for i in range(pass_phase_len)).encode('ascii')\n",
    "print(pass_phrase)"
   ]
  },
  {
   "cell_type": "code",
   "execution_count": 18,
   "metadata": {},
   "outputs": [
    {
     "name": "stdout",
     "output_type": "stream",
     "text": [
      "number of 6 word combinations in word list: 7,634,007,403,751,550,700,486,656\n"
     ]
    }
   ],
   "source": [
    "print('number of {:d} word combinations in word list: {:,.0f}'.format(pass_phase_len,comb(len(wordlist),pass_phase_len)))"
   ]
  },
  {
   "cell_type": "markdown",
   "metadata": {},
   "source": [
    "The number of combinations of words with length between 3 and 9 characters long exceeds the DES key space.  The more random words in the pass phrase length, the harder it is to remember and you would probably just resort to writing them down."
   ]
  },
  {
   "cell_type": "code",
   "execution_count": 19,
   "metadata": {},
   "outputs": [
    {
     "name": "stdout",
     "output_type": "stream",
     "text": [
      "b'1\\xd0\\x07\\xf6Iw\\x86)Qlt\\x95\\xf6s\\xcd\\xf8;%4\\xcfUG\\xb9\\x1f\\xa9\\x17\\x9f:K&\\x00\\xdd\\x85\\x06\\xce\\xcf$Aqo\\x04\\xf1\\x84\\xabI@\\xc7\\xf0\\xc2)\\x8e\\xab\\x06\\x844\\x19Y{\\x06\\xd8\\xbc\\x8d\\x91F'\n"
     ]
    }
   ],
   "source": [
    "# now create a hash of the pass phrase\n",
    "hash = SHA512.new()\n",
    "hash.update(pass_phrase)\n",
    "p = hash.digest()\n",
    "print(p)"
   ]
  },
  {
   "cell_type": "markdown",
   "metadata": {},
   "source": [
    "The hash value, p, is a binary string which we can encode using base32 and then strip the non alphabetic characters from the string and use the first 16 characters as the new key derived from the pass phrase."
   ]
  },
  {
   "cell_type": "code",
   "execution_count": 20,
   "metadata": {},
   "outputs": [
    {
     "name": "stdout",
     "output_type": "stream",
     "text": [
      "b'GHIAP5SJO6DCSULMOSK7M46N7A5SKNGPKVD3SH5JC6PTUSZGADOYKBWOZ4SEC4LPATYYJK2JIDD7BQRJR2VQNBBUDFMXWBWYXSGZCRQ='\n"
     ]
    }
   ],
   "source": [
    "key_string = base64.b32encode(p)\n",
    "print(key_string)"
   ]
  },
  {
   "cell_type": "code",
   "execution_count": 21,
   "metadata": {},
   "outputs": [
    {
     "name": "stdout",
     "output_type": "stream",
     "text": [
      "password generated from pass phrase: GHIAPSJODCSULMOS\n"
     ]
    }
   ],
   "source": [
    "pw = ''\n",
    "for e in list(key_string):\n",
    "    if chr(e).isalpha():\n",
    "        pw += chr(e)\n",
    "print('password generated from pass phrase: {:s}'.format(pw[0:block_size]))"
   ]
  },
  {
   "cell_type": "markdown",
   "metadata": {},
   "source": [
    "Observation:  \n",
    "The code above describes one way to generate a 16 character password from random English words.  The normal python random function is used and that's probably OK since the seed is a secret.  The python secret module could be used if a secure random number generated is needed.  In this paper, it's not needed because this is only a educational project.\n",
    "\n",
    "The size of the key space was used to compare various encryption algorithms.  If the key space is too small, then a brute force attack is a consideration.   \n",
    "\n",
    "**Key management**  \n",
    "The following describes a key management scheme patterned after the scheme used for the Enigma.  \n",
    "Code books:  Publish a secret code book that has a unique random key and day-IV for each day of the month.   \n",
    "Message key:  Every message sent during the day uses the same daily key, but a different msg-IV.  The msg-IV is chosen at random by the operator and should always be unique.  Repeated messages should use a different msg-IV.  The msg-IV is encrypted with the day-key and the day-IV.  The encrypted msg-IV is sent as the first block of the message.  The receiving operator decrypts the first block using the day-key and the day-IV to recover the msg-IV.  Then the recovered msg-IV along with the day-key is used to decrypt the message.  Long messages should be broken into short parts not to exceed 500 characters.  Each part should use a unique msg-IV."
   ]
  },
  {
   "cell_type": "markdown",
   "metadata": {},
   "source": [
    "## 5.c) Sensitivity to errors in the key <a id=\"section5c\"></a>\n",
    "In this section we will look at the sensitivity of decryption to errors in the key.  This is instructive to learn how close a guess of the key needs to be to start seeing correct plaintext.   \n",
    "\n",
    "Using the CBC mode, the test message is encrypted."
   ]
  },
  {
   "cell_type": "code",
   "execution_count": 22,
   "metadata": {},
   "outputs": [
    {
     "name": "stdout",
     "output_type": "stream",
     "text": [
      "PPVKERWGBMZDFXPWOEAJBELYWGIPZKKABJKUPZJVNCNOXWCKQZFTPEXAAZTMOEXSHZOZHMRKZDM\n",
      "EFHYFSKGKQRGEAIPYGKQZSYBPQILDMTSVCRXKASTCCZCDSEXSBRNRSCIFJWVIAXRFCCOBJQVLPZ\n",
      "FNESRTSOJOGVGWZUYNPLXIHLDNKMLGVUJCHYITYEYJFRLCWYYSOJMBYVFNAYSMVIBJUIMGUBEDS\n",
      "OPJHCALRRFXLUCTSHFAXFWIVAGRDEZLZHWPKTNGURWRTASQFSKLSKLOMMDWGMJGPPGHYECOIPET\n",
      "ATIJNKGROGBHJDWXBWJFTSULTQKIISTHSYSQYLPBCBQEYDIDGKNXNBAAOOKXFZYCBJQZLSYVCAZ\n",
      "SGOZFOHAPFCVNQAVBDTHXHVEXGSFVQEFQOHHOVJXYTPTZZCSVKWAHZPLUTIWVZXBUNYYHUXHTJO\n",
      "EBBXPEYRSWKCUHRTRQPZSEALHPZDFHGRKQTWDQNXAYKHOLSUDXREXOMVDVZCWOXUYCQDTNCRIFR\n",
      "WXSITYYCORLYRQZHCXNEDEYMIHVHIWKYNQFZALWWFYTAPMHPBDOODCOUTTAZFEWSHANDCYRVZCL\n",
      "TVWLNRZTZJZAJHTBARJJFYIRELZBQICTGASLQJELOIJKPFZALZPGXEBHTJBLDIYLJGVSGAUCLZK\n",
      "IFYMINEBGHJAJGCYZBGAIBUWAGSZVQJZVFOPXNYRQYNZRGRHDJLAWSAYFSHKHATASNHGBMOMKGD\n",
      "HGCYMSABCZXNNUHXBTZOCUYCSDMFOBYDMGPZALKUNFHCVZMEXGMNBMHIDTBYULXWDOLOSQBINVM\n",
      "XYMMVBDAKHVKFEECPJOYZHMGRLVIBGFRQACUXJSTMHIYLBBBQWXRPZDVGOEOJZSPLMBNEGQYIRV\n",
      "USYZHFYFSEEBWUJPUKNBBKILWNEUXDQFBDQUQQFFILPAIEFQQPMESCBKUHHCFIBGYGSVYFVFRTJ\n",
      "UBKBUPDYCVLJKYTFPYHABOWVCMSJZWOKKAWZXGBGETRCNDNFYLIPWHBDCYMNJDGSSRSLHGSRVGH\n",
      "XZIIQLVAFCXVAZAFLGSUPGNFWNTDCISVLONDPQCUWYCKTEZCUITIAJUFGFXEZJJBVTSMIVZEGEK\n",
      "BGYMCIEBOYMQLVBELOQWRAQHATSPOTUYQZVNRPGYPRHJUIRAFGTNZNDIKRZJLINPGHBBCHVSCPX\n",
      "EDSOTFHZIKYBMMUXYOMZRJBKRSMNUEVC\n"
     ]
    }
   ],
   "source": [
    "ct_temp_int = encrypt_CBC(PT_int,key,IV)\n",
    "\n",
    "# convert back to ascii characters and display\n",
    "ct_temp_ascii = (ct_temp_int+ord('A')).tostring().decode('ascii')\n",
    "\n",
    "string = ct_temp_ascii\n",
    "length = 75\n",
    "list_of_strings = []\n",
    "for i in range(0, len(string), length):\n",
    "    list_of_strings.append(string[i:length+i])\n",
    "\n",
    "for i in list_of_strings:\n",
    "    print(i)"
   ]
  },
  {
   "cell_type": "markdown",
   "metadata": {},
   "source": [
    "### PT sensitivity to errors in the key \n",
    "The following cells examine the sensitivity of decryption to the number of errors in the key.  A Monte Carlo simulation is run with a number of trials that adjust the number of errors in the key from 0 to 15 in random positions, with random values."
   ]
  },
  {
   "cell_type": "code",
   "execution_count": 23,
   "metadata": {},
   "outputs": [],
   "source": [
    "def xfunc(pt, ct, key, iv,num_key_errs):\n",
    "    '''temporary name\n",
    "    puts errors in the key for testing sensitivity of decryption to key errors\n",
    "    \n",
    "    pt: int array of PT\n",
    "    ct: int array of CT\n",
    "    key: correct key\n",
    "    num_key_errs: number of errors to add to key\n",
    "    '''\n",
    "    key_temp = np.copy(key) # make a copy of the key\n",
    "    # generate unique random list of positions in the key \n",
    "    rnd_position = np.random.choice(range(block_size-1), num_key_errs, replace=False)\n",
    "    for i in rnd_position:\n",
    "        # verify the new value is different\n",
    "        new_value = random.randint(0, 25)\n",
    "        if key[i] == new_value:\n",
    "            key_temp[i] = (new_value + 1) % 26 # just increment to make different\n",
    "        else:\n",
    "            key_temp[i] = new_value    \n",
    "\n",
    "    # decrypt the CT\n",
    "    pt_errors = decrypt_CBC(ct,key_temp,iv) # decrypt with new key that has errors\n",
    "    \n",
    "    # count the errors and return value\n",
    "    return ((pt_errors == pt)*1).sum()/len(pt)\n"
   ]
  },
  {
   "cell_type": "code",
   "execution_count": 24,
   "metadata": {},
   "outputs": [],
   "source": [
    "# run X trials and get mean, min, max, % correct etc.\n",
    "x = np.arange(block_size) # number of x values in plot\n",
    "y_max = np.zeros(block_size)\n",
    "y_min = np.zeros(block_size)\n",
    "y_mean = np.zeros(block_size)\n",
    "y_10p = np.zeros(block_size)\n",
    "y_90p = np.zeros(block_size)\n",
    "\n",
    "for j in x:\n",
    "    # j is number of errors in the key\n",
    "    num_trials = 50\n",
    "    percent_correct = np.zeros(num_trials)\n",
    "\n",
    "    for i in range(num_trials):\n",
    "        percent_correct[i] = xfunc(PT_int,ct_temp_int, key, IV, j)\n",
    "\n",
    "    y_max[j] = percent_correct.max()*100\n",
    "    y_min[j] = percent_correct.min()*100\n",
    "    y_mean[j] = percent_correct.mean()*100\n",
    "    y_10p[j] = np.quantile(percent_correct,0.1)*100\n",
    "    y_90p[j] = np.quantile(percent_correct,0.9)*100\n"
   ]
  },
  {
   "cell_type": "code",
   "execution_count": 25,
   "metadata": {},
   "outputs": [
    {
     "data": {
      "image/png": "[encoded data removed]",
      "text/plain": [
       "<Figure size 432x288 with 1 Axes>"
      ]
     },
     "metadata": {
      "needs_background": "light"
     },
     "output_type": "display_data"
    }
   ],
   "source": [
    "#plt.bar(x, y_max-y_min, width=0.2, bottom=y_min)\n",
    "plt.bar(x, y_90p-y_10p, width=0.15, bottom=y_10p,label='10% to 90%')\n",
    "plt.plot(x,y_mean,'x',label='mean')\n",
    "plt.plot(x,y_max,'^',label='maximum')\n",
    "plt.title('Sensitivity of PT to errors in Key')\n",
    "plt.xlabel('Number of errors in Key')\n",
    "plt.ylabel('% of message correct')\n",
    "plt.xlim((0,16))\n",
    "plt.ylim((0,110))\n",
    "plt.legend()\n",
    "plt.grid()\n",
    "plt.show()"
   ]
  },
  {
   "cell_type": "markdown",
   "metadata": {},
   "source": [
    "The plot above shows the results of the Monte Carlo simulation.  For each number of errors in the key, there is a range of the percentage of correct message and the maximum percent correct for each run.  Before the algorithm was modified to include the new key schedule and the increased number of rounds, this plot showed the variation in percent of message correct as a function of the number of errors in the key.  Now the plot is less interesting.  It shows that the key cannot have any errors for even partial decryption to take place.  Now the percentage of the message correct is just the random chance that a character happens to match which is about 3.8%."
   ]
  },
  {
   "cell_type": "code",
   "execution_count": 26,
   "metadata": {},
   "outputs": [
    {
     "name": "stdout",
     "output_type": "stream",
     "text": [
      "random chance of a character being corret: 3.85\n"
     ]
    }
   ],
   "source": [
    "print('random chance of a character being corret: {:.2f}'.format((1/26)*100))"
   ]
  },
  {
   "cell_type": "markdown",
   "metadata": {},
   "source": [
    "## 5.d) Sensitivity to changes in the message  <a id=\"section5d\"></a>\n",
    "The following cells examine the sensitivity of encryption to changing one character in the plaintext block.  Ideally, changing one character should result in all characters in the block changing.  The primary reason for including additional rounds in the Feistel network was to make this happen.\n",
    "\n",
    "The following code compares two blocks of encrypted text with one of the blocks having the first character of plaintext changed.  "
   ]
  },
  {
   "cell_type": "code",
   "execution_count": 27,
   "metadata": {},
   "outputs": [
    {
     "data": {
      "text/plain": [
       "array([False, False,  True, False, False, False, False, False, False,\n",
       "       False, False, False, False, False, False, False])"
      ]
     },
     "execution_count": 27,
     "metadata": {},
     "output_type": "execute_result"
    }
   ],
   "source": [
    "temp_ct = encrypt(PT_int[0:block_size],key) # encrypting one block of text\n",
    "pt_temp = np.copy(PT_int[0:block_size]) # change one character\n",
    "pt_temp[0] = (pt_temp[0] + 1) % 26 # changing the first character in the block\n",
    "temp_ct == encrypt(pt_temp,key)  # comparing the result"
   ]
  },
  {
   "cell_type": "markdown",
   "metadata": {},
   "source": [
    "All positions in the test block have changed as a result of changing one character."
   ]
  },
  {
   "cell_type": "markdown",
   "metadata": {},
   "source": [
    "## 5.e) Repeating text in the message <a id=\"section5e\"></a>\n",
    "The following code will look at the consequences of encrypting a message with repeating text.  The encryption will use the ECB mode, followed by the CBC mode."
   ]
  },
  {
   "cell_type": "code",
   "execution_count": 28,
   "metadata": {},
   "outputs": [
    {
     "name": "stdout",
     "output_type": "stream",
     "text": [
      "length of repeating text: 18\n"
     ]
    }
   ],
   "source": [
    "# generate new repeating text message\n",
    "repeating_text = 'Mary had a little lamb '\n",
    "message = repeating_text*100\n",
    "print('length of repeating text: {:d}'.format(len(''.join(e for e in repeating_text if e.isalpha()).upper())))"
   ]
  },
  {
   "cell_type": "code",
   "execution_count": 29,
   "metadata": {},
   "outputs": [],
   "source": [
    "# remove non-letter characters and convert to uppercase\n",
    "PT = ''.join(e for e in message if e.isalpha()).upper()"
   ]
  },
  {
   "cell_type": "code",
   "execution_count": 30,
   "metadata": {},
   "outputs": [
    {
     "name": "stdout",
     "output_type": "stream",
     "text": [
      "number of characters to pad the message:  8\n"
     ]
    }
   ],
   "source": [
    "# pad the message size to get to even multiple of the block size\n",
    "block_size = 16  # must be an even number, since half blocks are used later\n",
    "tail_size = block_size - (len(PT) % block_size)\n",
    "if tail_size == block_size:\n",
    "    tail_size = 0\n",
    "print('number of characters to pad the message: ',tail_size)"
   ]
  },
  {
   "cell_type": "code",
   "execution_count": 31,
   "metadata": {},
   "outputs": [
    {
     "name": "stdout",
     "output_type": "stream",
     "text": [
      "new message length with tail:  1808\n",
      "number of message blocks:  113.0\n"
     ]
    }
   ],
   "source": [
    "tail = 'ABCDEFGHIJKLMNOPQRSTUVWXYZ'  # this could also be from a set of random characters unique to each message\n",
    "PT = PT + tail[0:tail_size]  # append necessary number of characters to end of the message\n",
    "print('new message length with tail: ',len(PT))\n",
    "print('number of message blocks: ',len(PT)/block_size)"
   ]
  },
  {
   "cell_type": "code",
   "execution_count": 32,
   "metadata": {},
   "outputs": [
    {
     "name": "stdout",
     "output_type": "stream",
     "text": [
      "MARYHADALITTLELAMBMARYHADALITTLELAMBMARYHADALITTLELAMBMARYHADALITTLELAMBMAR\n",
      "YHADALITTLELAMBMARYHADALITTLELAMBMARYHADALITTLELAMBMARYHADALITTLELAMBMARYHA\n",
      "DALITTLELAMBMARYHADALITTLELAMBMARYHADALITTLELAMBMARYHADALITTLELAMBMARYHADAL\n",
      "ITTLELAMBMARYHADALITTLELAMBMARYHADALITTLELAMBMARYHADALITTLELAMBMARYHADALITT\n",
      "LELAMBMARYHADALITTLELAMBMARYHADALITTLELAMBMARYHADALITTLELAMBMARYHADALITTLEL\n",
      "AMBMARYHADALITTLELAMBMARYHADALITTLELAMBMARYHADALITTLELAMBMARYHADALITTLELAMB\n",
      "MARYHADALITTLELAMBMARYHADALITTLELAMBMARYHADALITTLELAMBMARYHADALITTLELAMBMAR\n",
      "YHADALITTLELAMBMARYHADALITTLELAMBMARYHADALITTLELAMBMARYHADALITTLELAMBMARYHA\n",
      "DALITTLELAMBMARYHADALITTLELAMBMARYHADALITTLELAMBMARYHADALITTLELAMBMARYHADAL\n",
      "ITTLELAMBMARYHADALITTLELAMBMARYHADALITTLELAMBMARYHADALITTLELAMBMARYHADALITT\n",
      "LELAMBMARYHADALITTLELAMBMARYHADALITTLELAMBMARYHADALITTLELAMBMARYHADALITTLEL\n",
      "AMBMARYHADALITTLELAMBMARYHADALITTLELAMBMARYHADALITTLELAMBMARYHADALITTLELAMB\n",
      "MARYHADALITTLELAMBMARYHADALITTLELAMBMARYHADALITTLELAMBMARYHADALITTLELAMBMAR\n",
      "YHADALITTLELAMBMARYHADALITTLELAMBMARYHADALITTLELAMBMARYHADALITTLELAMBMARYHA\n",
      "DALITTLELAMBMARYHADALITTLELAMBMARYHADALITTLELAMBMARYHADALITTLELAMBMARYHADAL\n",
      "ITTLELAMBMARYHADALITTLELAMBMARYHADALITTLELAMBMARYHADALITTLELAMBMARYHADALITT\n",
      "LELAMBMARYHADALITTLELAMBMARYHADALITTLELAMBMARYHADALITTLELAMBMARYHADALITTLEL\n",
      "AMBMARYHADALITTLELAMBMARYHADALITTLELAMBMARYHADALITTLELAMBMARYHADALITTLELAMB\n",
      "MARYHADALITTLELAMBMARYHADALITTLELAMBMARYHADALITTLELAMBMARYHADALITTLELAMBMAR\n",
      "YHADALITTLELAMBMARYHADALITTLELAMBMARYHADALITTLELAMBMARYHADALITTLELAMBMARYHA\n",
      "DALITTLELAMBMARYHADALITTLELAMBMARYHADALITTLELAMBMARYHADALITTLELAMBMARYHADAL\n",
      "ITTLELAMBMARYHADALITTLELAMBMARYHADALITTLELAMBMARYHADALITTLELAMBMARYHADALITT\n",
      "LELAMBMARYHADALITTLELAMBMARYHADALITTLELAMBMARYHADALITTLELAMBMARYHADALITTLEL\n",
      "AMBMARYHADALITTLELAMBMARYHADALITTLELAMBMARYHADALITTLELAMBMARYHADALITTLELAMB\n",
      "ABCDEFGH\n"
     ]
    }
   ],
   "source": [
    "# print the converted test message\n",
    "string = PT\n",
    "length = 75\n",
    "list_of_strings = []\n",
    "for i in range(0, len(string), length):\n",
    "    list_of_strings.append(string[i:length+i])\n",
    "\n",
    "for i in list_of_strings:\n",
    "    print(i)"
   ]
  },
  {
   "cell_type": "code",
   "execution_count": 33,
   "metadata": {},
   "outputs": [
    {
     "data": {
      "text/plain": [
       "array([12,  0, 17, ...,  5,  6,  7], dtype=uint8)"
      ]
     },
     "execution_count": 33,
     "metadata": {},
     "output_type": "execute_result"
    }
   ],
   "source": [
    "# map characters to numbers, A=0, B=1, ..., Z=25\n",
    "PT_int = np.asarray(list(PT),dtype='|S1').view(np.uint8) - ord('A')\n",
    "PT_int"
   ]
  },
  {
   "cell_type": "code",
   "execution_count": 34,
   "metadata": {},
   "outputs": [
    {
     "name": "stdout",
     "output_type": "stream",
     "text": [
      "LHBEGJMDUMRKXZTOSFRLCCBVGUUYRWRSEKYFFVKWRZNOPMSFTYFEEZNKYXVBGYSWNIGHISBFWPB\n",
      "SRFIIUAQSVECTVKFGSTNOIWIDCGNIQLDMUPZGOKMSNYGWKBCKPYYYPITLISSKFVKFGWVWLHBEGJ\n",
      "MDUMRKXZTOSFRLCCBVGUUYRWRSEKYFFVKWRZNOPMSFTYFEEZNKYXVBGYSWNIGHISBFWPBSRFIIU\n",
      "AQSVECTVKFGSTNOIWIDCGNIQLDMUPZGOKMSNYGWKBCKPYYYPITLISSKFVKFGWVWLHBEGJMDUMRK\n",
      "XZTOSFRLCCBVGUUYRWRSEKYFFVKWRZNOPMSFTYFEEZNKYXVBGYSWNIGHISBFWPBSRFIIUAQSVEC\n",
      "TVKFGSTNOIWIDCGNIQLDMUPZGOKMSNYGWKBCKPYYYPITLISSKFVKFGWVWLHBEGJMDUMRKXZTOSF\n",
      "RLCCBVGUUYRWRSEKYFFVKWRZNOPMSFTYFEEZNKYXVBGYSWNIGHISBFWPBSRFIIUAQSVECTVKFGS\n",
      "TNOIWIDCGNIQLDMUPZGOKMSNYGWKBCKPYYYPITLISSKFVKFGWVWLHBEGJMDUMRKXZTOSFRLCCBV\n",
      "GUUYRWRSEKYFFVKWRZNOPMSFTYFEEZNKYXVBGYSWNIGHISBFWPBSRFIIUAQSVECTVKFGSTNOIWI\n",
      "DCGNIQLDMUPZGOKMSNYGWKBCKPYYYPITLISSKFVKFGWVWLHBEGJMDUMRKXZTOSFRLCCBVGUUYRW\n",
      "RSEKYFFVKWRZNOPMSFTYFEEZNKYXVBGYSWNIGHISBFWPBSRFIIUAQSVECTVKFGSTNOIWIDCGNIQ\n",
      "LDMUPZGOKMSNYGWKBCKPYYYPITLISSKFVKFGWVWLHBEGJMDUMRKXZTOSFRLCCBVGUUYRWRSEKYF\n",
      "FVKWRZNOPMSFTYFEEZNKYXVBGYSWNIGHISBFWPBSRFIIUAQSVECTVKFGSTNOIWIDCGNIQLDMUPZ\n",
      "GOKMSNYGWKBCKPYYYPITLISSKFVKFGWVWLHBEGJMDUMRKXZTOSFRLCCBVGUUYRWRSEKYFFVKWRZ\n",
      "NOPMSFTYFEEZNKYXVBGYSWNIGHISBFWPBSRFIIUAQSVECTVKFGSTNOIWIDCGNIQLDMUPZGOKMSN\n",
      "YGWKBCKPYYYPITLISSKFVKFGWVWLHBEGJMDUMRKXZTOSFRLCCBVGUUYRWRSEKYFFVKWRZNOPMSF\n",
      "TYFEEZNKYXVBGYSWNIGHISBFWPBSRFIIUAQSVECTVKFGSTNOIWIDCGNIQLDMUPZGOKMSNYGWKBC\n",
      "KPYYYPITLISSKFVKFGWVWLHBEGJMDUMRKXZTOSFRLCCBVGUUYRWRSEKYFFVKWRZNOPMSFTYFEEZ\n",
      "NKYXVBGYSWNIGHISBFWPBSRFIIUAQSVECTVKFGSTNOIWIDCGNIQLDMUPZGOKMSNYGWKBCKPYYYP\n",
      "ITLISSKFVKFGWVWLHBEGJMDUMRKXZTOSFRLCCBVGUUYRWRSEKYFFVKWRZNOPMSFTYFEEZNKYXVB\n",
      "GYSWNIGHISBFWPBSRFIIUAQSVECTVKFGSTNOIWIDCGNIQLDMUPZGOKMSNYGWKBCKPYYYPITLISS\n",
      "KFVKFGWVWLHBEGJMDUMRKXZTOSFRLCCBVGUUYRWRSEKYFFVKWRZNOPMSFTYFEEZNKYXVBGYSWNI\n",
      "GHISBFWPBSRFIIUAQSVECTVKFGSTNOIWIDCGNIQLDMUPZGOKMSNYGWKBCKPYYYPITLISSKFVKFG\n",
      "WVWLHBEGJMDUMRKXZTOSFRLCCBVGUUYRWRSEKYFFVKWRZNOPMSFTYFEEZNKYXVBGYSWKYKWTJUX\n",
      "CKQTKGDU\n"
     ]
    }
   ],
   "source": [
    "ct_temp_int = encrypt_ECB(PT_int,key)\n",
    "\n",
    "# convert back to ascii characters and display\n",
    "ct_temp_ascii = (ct_temp_int+ord('A')).tostring().decode('ascii')\n",
    "\n",
    "string = ct_temp_ascii\n",
    "length = 75\n",
    "list_of_strings = []\n",
    "for i in range(0, len(string), length):\n",
    "    list_of_strings.append(string[i:length+i])\n",
    "\n",
    "for i in list_of_strings:\n",
    "    print(i)"
   ]
  },
  {
   "cell_type": "markdown",
   "metadata": {},
   "source": [
    "Observation:  As can be seen in the ciphertext, there is a repeating pattern in the output.  This may allow an attacker to guess some of the underlying algorithm or the key. "
   ]
  },
  {
   "cell_type": "markdown",
   "metadata": {},
   "source": [
    "### Monogram frequency"
   ]
  },
  {
   "cell_type": "code",
   "execution_count": 35,
   "metadata": {},
   "outputs": [
    {
     "data": {
      "image/png": "[encoded data removed]",
      "text/plain": [
       "<Figure size 432x288 with 1 Axes>"
      ]
     },
     "metadata": {
      "needs_background": "light"
     },
     "output_type": "display_data"
    }
   ],
   "source": [
    "# using collections.Counter() to get  \n",
    "# count occurance of each character in string  \n",
    "mgram = Counter(ct_temp_ascii) \n",
    "\n",
    "sorted_dict = {key: value for key, value in sorted(mgram.items())}\n",
    "\n",
    "plt.bar(range(len(sorted_dict)), sorted_dict.values(), align='center')\n",
    "plt.xticks(range(len(sorted_dict)), list(sorted_dict.keys()))\n",
    "plt.show()"
   ]
  },
  {
   "cell_type": "code",
   "execution_count": 36,
   "metadata": {},
   "outputs": [
    {
     "name": "stdout",
     "output_type": "stream",
     "text": [
      "variance of letters is: 25.47%\n"
     ]
    }
   ],
   "source": [
    "print('variance of letters is: {:.2f}%'.format(100*np.var(np.array(list(mgram.values()))/(len(ct_temp_ascii)/26))))"
   ]
  },
  {
   "cell_type": "markdown",
   "metadata": {},
   "source": [
    "The variance of the letter frequency is calculated above and is only a bit lower than that for PT. So the ECB mode does not do a good job of flattening the letter frequency for messages with lots of repeating text."
   ]
  },
  {
   "cell_type": "markdown",
   "metadata": {},
   "source": [
    "### Chi-squared Statistic\n",
    "Looking at the chi-squared value for the encrypted message to determine the level of similarity to English based in letter frequency.   "
   ]
  },
  {
   "cell_type": "code",
   "execution_count": 37,
   "metadata": {},
   "outputs": [
    {
     "name": "stdout",
     "output_type": "stream",
     "text": [
      "chisquare value: 4195.36, p valaue: 0.000e+00\n"
     ]
    }
   ],
   "source": [
    "f_obs = np.array(list(sorted_dict.values()))  # sorted values from the mgram\n",
    "f_exp = np.array(list(en_letter_freq.values())) * np.array(list(sorted_dict.values())).sum()/100\n",
    "chi_value, pvalue = chisquare(f_obs, f_exp=f_exp)\n",
    "print('chisquare value: {:.2f}, p valaue: {:.3e}'.format(chi_value,pvalue))"
   ]
  },
  {
   "cell_type": "markdown",
   "metadata": {},
   "source": [
    "The chi-square value is significantly higher than the chisquare value we got earlier when comparing the unencrypted message to normal english, so we can conclude that the letter frequencies in the encrypted message do not resemble English. "
   ]
  },
  {
   "cell_type": "markdown",
   "metadata": {},
   "source": [
    "### Bigram frequency"
   ]
  },
  {
   "cell_type": "code",
   "execution_count": 38,
   "metadata": {},
   "outputs": [
    {
     "data": {
      "image/png": "[encoded data removed]",
      "text/plain": [
       "<Figure size 720x144 with 1 Axes>"
      ]
     },
     "metadata": {
      "needs_background": "light"
     },
     "output_type": "display_data"
    }
   ],
   "source": [
    "# count double characters, starting at beginning of text \n",
    "bigram = Counter(ct_temp_ascii[idx : idx + 2] for idx in range(len(ct_temp_ascii) - 1)) \n",
    "\n",
    "# count double characters, starting at 2nd letter of text \n",
    "bigram2 = Counter(ct_temp_ascii[idx : idx + 2] for idx in range(1,len(ct_temp_ascii) - 1)) \n",
    "\n",
    "bigram.update(bigram2) # combine groups\n",
    "bigram = {k: v / 2 for k, v in bigram.items()} # divide values by 2\n",
    "bigram_sorted = dict(sorted(bigram.items(), key=lambda item: item[1],reverse=True))\n",
    "\n",
    "# slice out the first 50 for plotting\n",
    "bigram_sorted_sliced = dict(itertools.islice(bigram_sorted.items(), 50))\n",
    "\n",
    "fig = plt.figure(figsize=(10, 2))\n",
    "ax = fig.add_subplot(111)\n",
    "\n",
    "plt.bar(range(len(bigram_sorted_sliced)), bigram_sorted_sliced.values(), align='center')\n",
    "plt.xticks(range(len(bigram_sorted_sliced)), list(bigram_sorted_sliced.keys()))\n",
    "plt.xticks(rotation=90)\n",
    "plt.autoscale(enable=True, axis='x')\n",
    "plt.title('bigram frequency')\n",
    "plt.ylabel('count')\n",
    "plt.xlabel('bigrams')\n",
    "plt.show()"
   ]
  },
  {
   "cell_type": "markdown",
   "metadata": {},
   "source": [
    "The bigram frequency count for some combinations is higher for messages with repeating text.  This is yet further indication that messages with repeating text are poorly handled with the ECB mode.\n",
    "\n",
    "The following encrypts the same message using the CBC mode."
   ]
  },
  {
   "cell_type": "code",
   "execution_count": 39,
   "metadata": {},
   "outputs": [
    {
     "name": "stdout",
     "output_type": "stream",
     "text": [
      "YPSPMBMRVAGDGNIFBLKQBABFUTHPPFRTTTLONQDFREIDICBVRHQYQWIPKVAUAWMHOHSOQBFQSPV\n",
      "SMCYJRJLPGCCSWSFUCHBWJPTJBNUWAHMDTMHHEHKBNMXVHKYBEANJPHZUTHOJKPFKKWQEVUNSDC\n",
      "XSBDRMDOFRQQRKBWUKQPVLHEWGSLUCZSWMCDCNJZRYAZMTIUIQIZKSDYOUPLMVPWFBMAQGCBOML\n",
      "VNCWOMFTQNBXDIZCGXJNFKLRTHNMWEILLFGNKNTAPAXFEUAFEDMUDNIMDJLKFKXGIWLLRIREVDD\n",
      "UVONHOBGREKNAJIAXIVSQWXUUZAXFOKAQKWTCZLWFEAOCRNZPNFJIZTZUPEMBZIGICEFOGAMENN\n",
      "ZJDUZKKRRGERQBVLWEVHQITMTTLNMYCSXQLZSPGTKIFVFLATCBPYARNVOQHVBWEYGIGHPGPBFKB\n",
      "EIYHTZAQHSRVFKREPLXSVXAYHZMYUQJDMPEBNXFVVSQWXVPERMDXLOTSMKGAYDIHDHPTYUTVFTF\n",
      "FZULUWGGEITENRFPTEPYJFYIMHJSWPUEPWFCSMNDZULIWDQOABSYGOISFKKRKNCECMPXUNICJCI\n",
      "REOZHQIYXXRGQKGLVJNRFJXUIEAZKNOJWWMTVZRJFPLXFXRXWNIIHTOKLZKHAPVVYRZRFAXBNCU\n",
      "UOUDWJBTLBJFPQGHKEIRZAZAGUASXYLALKBMNPEYMDOEPTVGANHASTPXZDACPXMRZSMQRDHLATO\n",
      "KQAYFCMNKUABKYJFXIHQNXQWGRIBIDUFHBMMVMGYLKRAHEKVIYQLFMVDJLTKQJOTOOLWXNRPWTZ\n",
      "LMTJBIKPTSWREOLVHRRHNOGAMTUOJCNBDBSDVHVNWFVOXOOQBJVHVSTONRTIUQUNGJASLMJZVXV\n",
      "XRDCONXZPQVVAUYWJDSDRQDGQCTDSYINFOXXYSQAJCZHTPEHRCGVYFHBBAPCOYTKJKZKOBERAVH\n",
      "YXXDECGFYZGIASRAJTTWIFBSACYWBARRRBZGITJPFHAUSIBEBFIGXHQQBZGIHMIFNADVCCIBETJ\n",
      "HHAMVQFUDYFLWOXIHXUJVFXLJJGAKRXKAZFIKTBORMLRKALKFSMFLJXHLMHFKVNHVCSXVZTGFHR\n",
      "ILDRQKIKRHZDSYOYFRYQSKAGACRLWUFNEIVYXUOWZDMVANERWIEAOXKVDJRHUQBPXVXKURFJTXO\n",
      "TEMOYOWQDNHRJPQBTTFKOPBVFWBJSRRBMXGPUMCZDKCZNRKGLLDZNOGIQJQSVTUNKNQEPHJYWMU\n",
      "POMRVTAWCTOJMFZIQQOWAXFSMNOLTVRTAECHIZSCJMPXZCLFWDRVXLTTSCKONISUYCSMROXBANM\n",
      "QGGLZWMMFNXLNKFMGZTOHINSVOEMEXWXFAHEYBXWCOOQDNGTVGHYCFNNHFLAYVOSLHVRFUUDZJU\n",
      "VTWQVRGUUYDEVHOSQDYCTIXPRRXQCDUBNBZCGMPYKVAODFZVHSYOQTYQKSZSJKTNUPEDUWMIVOG\n",
      "SSGCOXTUBTJRMNPGGIQQXZEQDEQYKIJUWIODWYJDSYVINNCFHFQDZVKJUZEUUJOXVUADBTMXDCX\n",
      "KHCTHTSCJHMAEXNKSISKNZZCRTGDXSPAYFLORNZKYCKZEXKOSMMWDEFOUQDQLQJYFZHABWKDCXA\n",
      "LWYNFEOFIWOOHTGDKKPUFIOSDIVVAGXNXUNTJWZZWGCBKMBYKYGQQJMOAZXSYNMNXYXCUUIVMZM\n",
      "MHSICRXWAYZBFVGHNDKYAFXGXHVBIKUYSMASZOCEVXSTEBAORKITURNEBCBXDAMPHAUBXCLUPZH\n",
      "CEUEJMBJ\n"
     ]
    }
   ],
   "source": [
    "ct_temp_int = encrypt_CBC(PT_int,key,IV)\n",
    "\n",
    "# convert back to ascii characters and display\n",
    "ct_temp_ascii = (ct_temp_int+ord('A')).tostring().decode('ascii')\n",
    "\n",
    "string = ct_temp_ascii\n",
    "length = 75\n",
    "list_of_strings = []\n",
    "for i in range(0, len(string), length):\n",
    "    list_of_strings.append(string[i:length+i])\n",
    "\n",
    "for i in list_of_strings:\n",
    "    print(i)"
   ]
  },
  {
   "cell_type": "markdown",
   "metadata": {},
   "source": [
    "Observation:  The CBC mode seems to do a good job of hiding the repetition in the message. "
   ]
  },
  {
   "cell_type": "markdown",
   "metadata": {},
   "source": [
    "### Monogram frequency"
   ]
  },
  {
   "cell_type": "code",
   "execution_count": 40,
   "metadata": {},
   "outputs": [
    {
     "data": {
      "image/png": "[encoded data removed]",
      "text/plain": [
       "<Figure size 432x288 with 1 Axes>"
      ]
     },
     "metadata": {
      "needs_background": "light"
     },
     "output_type": "display_data"
    }
   ],
   "source": [
    "# using collections.Counter() to get  \n",
    "# count occurance of each character in string  \n",
    "mgram = Counter(ct_temp_ascii) \n",
    "\n",
    "sorted_dict = {key: value for key, value in sorted(mgram.items())}\n",
    "\n",
    "plt.bar(range(len(sorted_dict)), sorted_dict.values(), align='center')\n",
    "plt.xticks(range(len(sorted_dict)), list(sorted_dict.keys()))\n",
    "plt.show()"
   ]
  },
  {
   "cell_type": "raw",
   "metadata": {},
   "source": [
    "print('the standard deviation for frequency of letters is: {:.2f}'.format(np.std(np.array(list(mgram.values())))))"
   ]
  },
  {
   "cell_type": "code",
   "execution_count": 41,
   "metadata": {},
   "outputs": [
    {
     "name": "stdout",
     "output_type": "stream",
     "text": [
      "variance of letters is: 1.14%\n"
     ]
    }
   ],
   "source": [
    "print('variance of letters is: {:.2f}%'.format(100*np.var(np.array(list(mgram.values()))/(len(ct_temp_ascii)/26))))"
   ]
  },
  {
   "cell_type": "markdown",
   "metadata": {},
   "source": [
    "The variance of the CT letter frequency calculated above is much lower. "
   ]
  },
  {
   "cell_type": "markdown",
   "metadata": {},
   "source": [
    "### Bigram frequency"
   ]
  },
  {
   "cell_type": "code",
   "execution_count": 42,
   "metadata": {},
   "outputs": [
    {
     "data": {
      "image/png": "[encoded data removed]",
      "text/plain": [
       "<Figure size 720x144 with 1 Axes>"
      ]
     },
     "metadata": {
      "needs_background": "light"
     },
     "output_type": "display_data"
    }
   ],
   "source": [
    "# count double characters, starting at beginning of text \n",
    "bigram = Counter(ct_temp_ascii[idx : idx + 2] for idx in range(len(ct_temp_ascii) - 1)) \n",
    "\n",
    "# count double characters, starting at 2nd letter of text \n",
    "bigram2 = Counter(ct_temp_ascii[idx : idx + 2] for idx in range(1,len(ct_temp_ascii) - 1)) \n",
    "\n",
    "bigram.update(bigram2) # combine groups\n",
    "bigram = {k: v / 2 for k, v in bigram.items()} # divide values by 2\n",
    "bigram_sorted = dict(sorted(bigram.items(), key=lambda item: item[1],reverse=True))\n",
    "\n",
    "# slice out the first 50 fro plotting\n",
    "bigram_sorted_sliced = dict(itertools.islice(bigram_sorted.items(), 50))\n",
    "\n",
    "fig = plt.figure(figsize=(10, 2))\n",
    "ax = fig.add_subplot(111)\n",
    "\n",
    "plt.bar(range(len(bigram_sorted_sliced)), bigram_sorted_sliced.values(), align='center')\n",
    "plt.xticks(range(len(bigram_sorted_sliced)), list(bigram_sorted_sliced.keys()))\n",
    "plt.xticks(rotation=90)\n",
    "plt.autoscale(enable=True, axis='x')\n",
    "plt.title('bigram frequency')\n",
    "plt.ylabel('count')\n",
    "plt.xlabel('bigrams')\n",
    "plt.show()"
   ]
  },
  {
   "cell_type": "markdown",
   "metadata": {},
   "source": [
    "Observation: By using the CBC mode, the repeating text in the message is hidden, which is one of the reasons that the CBC mode is preferred over the ECB mode.  Other reasons are described in [18].  "
   ]
  },
  {
   "cell_type": "markdown",
   "metadata": {},
   "source": [
    "## 5.f) Round function properties <a id=\"section5f\"></a>\n",
    "Moved to a new notebook.  \n",
    "\n",
    "## 5.g) Section summary <a id=\"section5g\"></a>\n",
    "In this section the ability of the cipher algorithm to flattened the ciphertext letter frequency was examined.  Some calculations were made concerning the key space.  The keyspace is sufficiently large to discourage an exhaustive search of the key space.  Repeating text in the message was analysed with ECB and CBC modes of encryption. CBC is the preferred mode.  Errors in the key and one character changes to the plaintext were also examined.  The cipher algorithm was strengthened with a new key schedule and to include additional rounds as a result of working through this notebook.\n",
    "\n",
    "## 5.h) References <a id=\"section5h\"></a>\n",
    "1. Wikipedia contributors. (2021, January 22). Enigma machine. In Wikipedia, The Free Encyclopedia. Retrieved 11:39, January 22, 2021, from https://en.wikipedia.org/w/index.php?title=Enigma_machine\n",
    "2. Wikipedia contributors. (2021, January 13). List of dictionaries by number of words. In Wikipedia, The Free Encyclopedia. Retrieved 12:15, January 15, 2021, from https://en.wikipedia.org/w/index.php?title=List_of_dictionaries_by_number_of_words"
   ]
  },
  {
   "cell_type": "code",
   "execution_count": null,
   "metadata": {},
   "outputs": [],
   "source": []
  }
 ],
 "metadata": {
  "kernelspec": {
   "display_name": "Python 3",
   "language": "python",
   "name": "python3"
  },
  "language_info": {
   "codemirror_mode": {
    "name": "ipython",
    "version": 3
   },
   "file_extension": ".py",
   "mimetype": "text/x-python",
   "name": "python",
   "nbconvert_exporter": "python",
   "pygments_lexer": "ipython3",
   "version": "3.7.3"
  }
 },
 "nbformat": 4,
 "nbformat_minor": 2
}
